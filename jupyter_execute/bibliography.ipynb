{
 "cells": [
  {
   "cell_type": "markdown",
   "id": "15c25707",
   "metadata": {},
   "source": [
    "# Bibliography\n",
    "---"
   ]
  },
  {
   "cell_type": "markdown",
   "id": "d78e8bca",
   "metadata": {},
   "source": [
    "This bibliography includes a variety of sources that were used to research and develop this project, ranging from books and manuals to online resources and forums. "
   ]
  },
  {
   "cell_type": "markdown",
   "id": "87e59799",
   "metadata": {},
   "source": [
    "Here is a comprehensive list of resources that have been utilized in the development of this project:\n",
    "\n",
    "- [Python Official Documentation](https://www.python.org)\n",
    "\n",
    "- [Stack Overflow](https://stackoverflow.com)\n",
    "\n",
    "- [Geek for Geeks](https://www.geeksforgeeks.org)\n",
    "\n",
    "- [The Python Workbook](https://link.springer.com/book/10.1007/978-3-319-14240-1)"
   ]
  }
 ],
 "metadata": {
  "kernelspec": {
   "display_name": "Python 3 (ipykernel)",
   "language": "python",
   "name": "python3"
  },
  "language_info": {
   "codemirror_mode": {
    "name": "ipython",
    "version": 3
   },
   "file_extension": ".py",
   "mimetype": "text/x-python",
   "name": "python",
   "nbconvert_exporter": "python",
   "pygments_lexer": "ipython3",
   "version": "3.9.12"
  }
 },
 "nbformat": 4,
 "nbformat_minor": 5
}