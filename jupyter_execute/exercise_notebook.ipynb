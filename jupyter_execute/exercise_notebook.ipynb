{
 "cells": [
  {
   "attachments": {},
   "cell_type": "markdown",
   "id": "eeaf8617",
   "metadata": {},
   "source": [
    "# Exercise Book: Methods and Classes\n",
    "---\n",
    "\n",
    "Practice exercises on OOP and Object Composition.\n",
    "\n",
    "---"
   ]
  },
  {
   "cell_type": "markdown",
   "id": "28403e4c",
   "metadata": {},
   "source": [
    "The code below defines an `Elevator` class.\n",
    "\n",
    "The elevator has a current floor, it also has a top and a bottom floor that are the minimum and maximum floors it can go to.\n",
    "\n",
    "Complete the code to make the elevator go through the floors requested."
   ]
  },
  {
   "cell_type": "code",
   "execution_count": 1,
   "id": "1a724d23",
   "metadata": {},
   "outputs": [],
   "source": [
    "class Elevator:\n",
    "    \n",
    "    def __init__(self,bottom,top,current):\n",
    "        \"\"\"\n",
    "        Initializes the Elevator instance.\n",
    "        \"\"\"\n",
    "        \n",
    "        self.bottom = bottom\n",
    "        self.top = top\n",
    "        self.current = current\n",
    "        \n",
    "        \n",
    "    def up(self):\n",
    "        \"\"\"\n",
    "        Makes the elevator go up one floor.\n",
    "        \"\"\"\n",
    "        \n",
    "        if self.current <= 9:\n",
    "            self.current += 1\n",
    "            \n",
    "            \n",
    "    def down(self):\n",
    "        \"\"\"\n",
    "        Makes the elevator go down one floor.\n",
    "        \"\"\"\n",
    "        \n",
    "        if self.current > -1:\n",
    "            self.current -= 1\n",
    "            \n",
    "            \n",
    "    def go_to(self,floor):\n",
    "        \"\"\"\n",
    "        Makes the elevator go to the specific floor\n",
    "        \"\"\"\n",
    "        \n",
    "        if floor in range(-1,11):\n",
    "            self.current = floor\n",
    "            \n",
    "    def __str__(self):\n",
    "        return \"Current floor: {}\".format(self.current)"
   ]
  },
  {
   "cell_type": "code",
   "execution_count": 2,
   "id": "a396d449",
   "metadata": {},
   "outputs": [],
   "source": [
    "elevator = Elevator(-1,10,0)"
   ]
  },
  {
   "cell_type": "code",
   "execution_count": 3,
   "id": "44a8382b",
   "metadata": {},
   "outputs": [
    {
     "data": {
      "text/plain": [
       "1"
      ]
     },
     "execution_count": 3,
     "metadata": {},
     "output_type": "execute_result"
    }
   ],
   "source": [
    "elevator.up()\n",
    "elevator.current"
   ]
  },
  {
   "cell_type": "code",
   "execution_count": 4,
   "id": "d9d5097d",
   "metadata": {},
   "outputs": [
    {
     "data": {
      "text/plain": [
       "0"
      ]
     },
     "execution_count": 4,
     "metadata": {},
     "output_type": "execute_result"
    }
   ],
   "source": [
    "elevator.down()\n",
    "elevator.current"
   ]
  },
  {
   "cell_type": "code",
   "execution_count": 5,
   "id": "8fcd30cd",
   "metadata": {},
   "outputs": [
    {
     "data": {
      "text/plain": [
       "10"
      ]
     },
     "execution_count": 5,
     "metadata": {},
     "output_type": "execute_result"
    }
   ],
   "source": [
    "elevator.go_to(10)\n",
    "elevator.current"
   ]
  },
  {
   "cell_type": "markdown",
   "id": "cf4ec5a1",
   "metadata": {},
   "source": [
    "For the `up` and `down` methods, did you take into account the top and bottom floors?\n",
    "\n",
    "Keep in mind that the elevator shouldn't go above the top floor or below the bottom floor. To check that out, try the code below and verify if it's working as expected.\n",
    "\n",
    "If it's not, then go back and modify the methods so that this code behaves correctly."
   ]
  },
  {
   "cell_type": "code",
   "execution_count": 6,
   "id": "a191d892",
   "metadata": {},
   "outputs": [
    {
     "name": "stdout",
     "output_type": "stream",
     "text": [
      "Run 1\n",
      "9\n"
     ]
    }
   ],
   "source": [
    "# Go to the top floor. Try to go up, it should stay. Then go down.\n",
    "elevator.go_to(10)\n",
    "elevator.up()\n",
    "elevator.down()\n",
    "\n",
    "# Should be 9\n",
    "print(\"Run 1\")\n",
    "print(elevator.current)"
   ]
  },
  {
   "cell_type": "code",
   "execution_count": 7,
   "id": "d4ea8e8c",
   "metadata": {},
   "outputs": [
    {
     "name": "stdout",
     "output_type": "stream",
     "text": [
      "Run 2\n",
      "1\n"
     ]
    }
   ],
   "source": [
    "# Go to the bottom floor. Try to go down, it should stay. Then go up.\n",
    "elevator.go_to(-1)\n",
    "elevator.down()\n",
    "elevator.down()\n",
    "elevator.up()\n",
    "elevator.up()\n",
    "\n",
    "# Should be 1\n",
    "print(\"Run 2\")\n",
    "print(elevator.current)"
   ]
  },
  {
   "cell_type": "markdown",
   "id": "3feed9c7",
   "metadata": {},
   "source": [
    "Now add the __str__ method to your **Elevator** class definition above so that when printing the elevator using the **print( )** method, we get the current floor together with a message. \n",
    "\n",
    "\n",
    "**For example**, in the 5th floor it should say \"Current floor: 5\""
   ]
  },
  {
   "cell_type": "code",
   "execution_count": 8,
   "id": "cc23484f",
   "metadata": {
    "scrolled": true
   },
   "outputs": [
    {
     "name": "stdout",
     "output_type": "stream",
     "text": [
      "Current floor: 5\n"
     ]
    }
   ],
   "source": [
    "elevator.go_to(5)\n",
    "\n",
    "\n",
    "print(elevator)"
   ]
  },
  {
   "cell_type": "markdown",
   "id": "89a96df5",
   "metadata": {},
   "source": [
    "---"
   ]
  },
  {
   "cell_type": "markdown",
   "id": "ee64c339",
   "metadata": {},
   "source": [
    "# Assessment - Object Oriented Programming\n",
    "---"
   ]
  },
  {
   "cell_type": "markdown",
   "id": "b1f70cf8",
   "metadata": {},
   "source": [
    "In this exercise, we'll create a few classes to simulate a server that's taking connections from the outside and then a load balancer that ensures that there are enough servers to serve those connections. \n",
    "<br><br>\n",
    "To represent the servers that are taking care of the connections, we'll use a Server class. Each connection is represented by an id, that could, for example, be the IP address of the computer connecting to the server.  For our simulation, each connection creates a random amount of load in the server, between 1 and 10.\n",
    "<br><br>\n",
    "Run the following code that defines this Server class."
   ]
  },
  {
   "cell_type": "code",
   "execution_count": 9,
   "id": "b85c813d",
   "metadata": {},
   "outputs": [],
   "source": [
    "#Begin Portion 1#\n",
    "\n",
    "import random\n",
    "\n",
    "class Server:\n",
    "    def __init__(self):\n",
    "        \"\"\"Creates a new server instance, with no active connections.\"\"\"\n",
    "        self.connections = {}\n",
    "\n",
    "    def add_connection(self, connection_id):\n",
    "        \"\"\"Adds a new connection to this server.\"\"\"\n",
    "        connection_load = random.random()*10+1\n",
    "        \n",
    "        # Add the connection to the dictionary with the calculated load\n",
    "        \n",
    "        self.connections[connection_id] = connection_load\n",
    "\n",
    "    def close_connection(self, connection_id):\n",
    "        \"\"\"Closes a connection on this server.\"\"\"\n",
    "        \n",
    "        # Remove the connection from the dictionary\n",
    "        \n",
    "        del(self.connections[connection_id])\n",
    "\n",
    "    def load(self):\n",
    "        \"\"\"Calculates the current load for all connections.\"\"\"\n",
    "        total = 0\n",
    "        \n",
    "        # Add up the load for each of the connections\n",
    "        \n",
    "        for load in self.connections.values():\n",
    "            total += load\n",
    "            \n",
    "        return total\n",
    "\n",
    "    def __str__(self):\n",
    "        \"\"\"Returns a string with the current load of the server\"\"\"\n",
    "        return \"{:.2f}%\".format(self.load())\n",
    "    \n",
    "#End Portion 1#"
   ]
  },
  {
   "cell_type": "markdown",
   "id": "179e1f9a",
   "metadata": {},
   "source": [
    "Now run the following cell to create a Server instance and add a connection to it, then check the load:"
   ]
  },
  {
   "cell_type": "code",
   "execution_count": 10,
   "id": "23619719",
   "metadata": {},
   "outputs": [
    {
     "name": "stdout",
     "output_type": "stream",
     "text": [
      "4.3194149694044555\n",
      "4.32%\n"
     ]
    }
   ],
   "source": [
    "server = Server()\n",
    "server.add_connection(\"192.168.1.1\")\n",
    "\n",
    "print(server.load())\n",
    "print(server)\n",
    "\n"
   ]
  },
  {
   "cell_type": "markdown",
   "id": "573e7412",
   "metadata": {},
   "source": [
    "The output should be 0.  This is because some things are missing from the Server class. So, you'll need to go back and fill in the blanks to make it behave properly. \n",
    "<br><br>\n",
    "Go back to the Server class definition and fill in the missing parts for the `add_connection` and `load` methods to make the cell above print a number different than zero.  As the load is calculated randomly, this number should be different each time the code is executed.\n",
    "<br><br>\n",
    "**Hint:** Recall that you can iterate through the values of your connections dictionary just as you would any sequence."
   ]
  },
  {
   "cell_type": "markdown",
   "id": "4b66c1ae",
   "metadata": {},
   "source": [
    "Great! If your output is a random number between 1 and 10, you have successfully coded the `add_connection` and `load` methods of the Server class.  Well done!\n",
    "<br><br>\n",
    "What about closing a connection? Right now the `close_connection` method doesn't do anything. Go back to the Server class definition and fill in the missing code for the `close_connection` method to make the following code work correctly:"
   ]
  },
  {
   "cell_type": "code",
   "execution_count": 11,
   "id": "83472a07",
   "metadata": {},
   "outputs": [
    {
     "name": "stdout",
     "output_type": "stream",
     "text": [
      "0\n"
     ]
    }
   ],
   "source": [
    "server.close_connection(\"192.168.1.1\")\n",
    "print(server.load())\n"
   ]
  },
  {
   "cell_type": "markdown",
   "id": "189ec2b8",
   "metadata": {},
   "source": [
    "You have successfully coded the `close_connection` method if the cell above prints 0.\n"
   ]
  },
  {
   "cell_type": "markdown",
   "id": "e92b784f",
   "metadata": {},
   "source": [
    "Alright, we now have a basic implementation of the server class. Let's look at the basic `LoadBalancing` class. This class will start with only one server available. When a connection gets added, it will randomly select a server to serve that connection, and then pass on the connection to the server. \n",
    "\n",
    "The `LoadBalancing` class also needs to keep track of the ongoing connections to be able to close them. This is the basic structure:"
   ]
  },
  {
   "cell_type": "code",
   "execution_count": 12,
   "id": "87cd9101",
   "metadata": {},
   "outputs": [],
   "source": [
    "#Begin Portion 2\n",
    "\n",
    "class LoadBalancing:\n",
    "    def __init__(self):\n",
    "        \"\"\"Initialize the load balancing system with one server\"\"\"\n",
    "        self.connections = {}\n",
    "        self.servers = [Server()]\n",
    "\n",
    "    def add_connection(self, connection_id):\n",
    "        \"\"\"Randomly selects a server and adds a connection to it.\"\"\"\n",
    "        server = random.choice(self.servers)\n",
    "        \n",
    "        # Add the connection to the dictionary with the selected server\n",
    "        # Add the connection to the server\n",
    "        \n",
    "        server.add_connection(connection_id)\n",
    "        self.connections[connection_id] = server.load()\n",
    "\n",
    "    def close_connection(self, connection_id):\n",
    "        \"\"\"Closes the connection on the the server corresponding to connection_id.\"\"\"\n",
    "        # Find out the right server\n",
    "        # Close the connection on the server\n",
    "        # Remove the connection from the load balancer\n",
    "        \n",
    "        for server in self.connections.items():\n",
    "            \n",
    "            if server[0] == connection_id:\n",
    "                del(self.connections[connection_id])\n",
    "                break\n",
    "\n",
    "    def avg_load(self):\n",
    "        \"\"\"Calculates the average load of all servers\"\"\"\n",
    "        \n",
    "        # Sum the load of each server and divide by the amount of servers\n",
    "        \n",
    "        total_load = 0\n",
    "        \n",
    "        for load in self.connections.values():\n",
    "            total_load += load\n",
    "            \n",
    "        return total_load / len(self.servers)\n",
    "\n",
    "    def ensure_availability(self):\n",
    "        \"\"\"If the average load is higher than 50, spin up a new server\"\"\"\n",
    "            \n",
    "        if self.avg_load() > 50:\n",
    "            self.servers.append(Server())\n",
    "\n",
    "    def __str__(self):\n",
    "        \"\"\"Returns a string with the load for each server.\"\"\"\n",
    "        loads = [str(server) for server in self.servers]\n",
    "        return \"[{}]\".format(\",\".join(loads))\n",
    "    \n",
    "#End Portion 2"
   ]
  },
  {
   "cell_type": "markdown",
   "id": "b445352c",
   "metadata": {},
   "source": [
    "As with the Server class, this class is currently incomplete. You need to fill in the gaps to make it work correctly. \n",
    "\n",
    "**For example**, this snippet should create a connection in the load balancer, assign it to a running server and then the load should be more than zero:"
   ]
  },
  {
   "cell_type": "code",
   "execution_count": 13,
   "id": "da35ccf9",
   "metadata": {
    "scrolled": false
   },
   "outputs": [
    {
     "name": "stdout",
     "output_type": "stream",
     "text": [
      "6.089004349434806\n"
     ]
    }
   ],
   "source": [
    "l = LoadBalancing()\n",
    "\n",
    "l.add_connection(\"fdca:83d2::f20d\")\n",
    "print(l.avg_load())"
   ]
  },
  {
   "cell_type": "markdown",
   "id": "3fe3ae2b",
   "metadata": {},
   "source": [
    "After running the above code, the output is 0.  Fill in the missing parts for the `add_connection` and `avg_load` methods of the `LoadBalancing` class to make this print the right load. Be sure that the load balancer now has an average load more than 0 before proceeding."
   ]
  },
  {
   "cell_type": "markdown",
   "id": "9b1b1558",
   "metadata": {},
   "source": [
    "**What if we add a new server?**\n",
    "\n",
    "The average load should now be half of what it was before. If it's not, make sure you correctly fill in the missing gaps for the `add_connection` and `avg_load` methods so that this code works correctly. \n",
    "<br><br>\n",
    "**Hint:** You can iterate through the all servers in the *self.servers* list to get the total server load amount and then divide by the length of the *self.servers* list to compute the average load amount."
   ]
  },
  {
   "cell_type": "code",
   "execution_count": 14,
   "id": "c4a3813d",
   "metadata": {},
   "outputs": [
    {
     "name": "stdout",
     "output_type": "stream",
     "text": [
      "3.044502174717403\n"
     ]
    }
   ],
   "source": [
    "l.servers.append(Server())\n",
    "print(l.avg_load())"
   ]
  },
  {
   "cell_type": "markdown",
   "id": "1d84cb90",
   "metadata": {},
   "source": [
    "**Fantastic! Now what about closing the connection?**\n",
    "\n",
    "Fill in the code of the LoadBalancing class to make the load go back to zero once the connection is closed."
   ]
  },
  {
   "cell_type": "code",
   "execution_count": 15,
   "id": "3cc9853e",
   "metadata": {
    "scrolled": false
   },
   "outputs": [
    {
     "name": "stdout",
     "output_type": "stream",
     "text": [
      "0.0\n"
     ]
    }
   ],
   "source": [
    "l.close_connection(\"fdca:83d2::f20d\")\n",
    "print(l.avg_load())"
   ]
  },
  {
   "cell_type": "markdown",
   "id": "82580833",
   "metadata": {},
   "source": [
    "Great job! Before, we added a server manually. But we want this to happen automatically when the average load is more than 50%. To make this possible, fill in the missing code for the `ensure_availability` method and call it from the `add_connection` method after a connection has been added. You can test it with the following code:"
   ]
  },
  {
   "cell_type": "code",
   "execution_count": 16,
   "id": "cfb9d88c",
   "metadata": {},
   "outputs": [
    {
     "name": "stdout",
     "output_type": "stream",
     "text": [
      "[46.11%,26.99%,17.84%,16.36%,8.03%,0.00%,0.00%,0.00%]\n"
     ]
    }
   ],
   "source": [
    "for connection in range(20):\n",
    "    l.add_connection(connection)\n",
    "    l.ensure_availability()\n",
    "    \n",
    "print(l)\n"
   ]
  },
  {
   "cell_type": "markdown",
   "id": "07a79031",
   "metadata": {},
   "source": [
    "The code above adds 20 new connections and then prints the loads for each server in the load balancer.  If you coded correctly, new servers should have been added automatically to ensure that the average load of all servers is not more than 50%.\n",
    "<br><br>\n",
    "Run the following code to verify that the average load of the load balancer is not more than 50%."
   ]
  },
  {
   "cell_type": "code",
   "execution_count": 17,
   "id": "8fe10957",
   "metadata": {},
   "outputs": [
    {
     "name": "stdout",
     "output_type": "stream",
     "text": [
      "46.02677443927398\n"
     ]
    }
   ],
   "source": [
    "print(l.avg_load())"
   ]
  },
  {
   "cell_type": "markdown",
   "id": "7d7b67a3",
   "metadata": {},
   "source": [
    "---"
   ]
  }
 ],
 "metadata": {
  "kernelspec": {
   "display_name": "Python 3 (ipykernel)",
   "language": "python",
   "name": "python3"
  },
  "language_info": {
   "codemirror_mode": {
    "name": "ipython",
    "version": 3
   },
   "file_extension": ".py",
   "mimetype": "text/x-python",
   "name": "python",
   "nbconvert_exporter": "python",
   "pygments_lexer": "ipython3",
   "version": "3.9.12"
  }
 },
 "nbformat": 4,
 "nbformat_minor": 5
}