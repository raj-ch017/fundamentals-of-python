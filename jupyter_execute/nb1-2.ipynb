{
 "cells": [
  {
   "cell_type": "markdown",
   "metadata": {},
   "source": [
    "# Introduction to Python\n",
    "---\n",
    "\n",
    "**Learning Objectives**:\n",
    "\n",
    "- Define the terms computer program, programming language, script, and automation\n",
    "- Use the `print()` function to output data to the screen\n",
    "- Explain the difference between the `syntax` and `semantics` of a programming language\n",
    "- Define automation and identify uses for automation\n",
    "- List some of the characteristics of the Python language\n",
    "- Utilize basic Python arithmetic operators to obtain the results of mathematical expressions\n",
    "\n",
    "---"
   ]
  },
  {
   "attachments": {},
   "cell_type": "markdown",
   "metadata": {},
   "source": [
    "### What is Python?\n",
    "\n",
    "Python is a high-level, interpreted programming language that is designed to be easy to read, write, and maintain. It has a simple and expressive syntax that makes it accessible to beginners, while its vast library of modules and tools make it a popular choice for professional developers.\n",
    "\n",
    "Python is used in a wide variety of applications, from web development and scientific computing to artificial intelligence and machine learning. Its design philosophy emphasizes code readability, simplicity, and ease of use, which makes it a great choice for projects of any size or complexity.\n",
    "\n",
    "\n",
    "### Syntax\n",
    "\n",
    "Having accurate syntax is extremely significant when coding. Even the slightest mistake, such as a missing parentheses or an extra comma, can result in a syntax error, which would prevent the code from running entirely. It's vital to be attentive to the syntax if the code produces an error or an exception.\n",
    "\n",
    "However, if the syntax is precise, and the script still displays unexpected behavior or results, the problem could be semantic. It's important to remember that syntax denotes the rules for constructing code, while semantics relates to the meaning of coded statements. **What is the code intended to accomplish?** Although it's possible to have syntactically correct code that runs successfully, it may not perform the desired task.\n",
    "\n",
    "\n",
    "### Semantics\n",
    "\n",
    "The semantics of a language associates a meaning with each syntactically correct string of symbols that has no static semantic errors.\n",
    "\n",
    "In the context of Python, the statement means that for every syntactically correct sequence of code, there is a well-defined meaning associated with it, known as its `semantic`. This meaning determines the code's behaviour at runtime and is crucial to programming languages like Python.\n",
    "\n",
    "**For example**, the semantics of a function call in Python determines the input arguments it expects, the output it returns, and the side effects it may have."
   ]
  },
  {
   "attachments": {},
   "cell_type": "markdown",
   "metadata": {},
   "source": [
    "### Program 1\n",
    "---\n",
    "\n",
    "The code block below outputs the text **Hello, world!** to the console using the `print()` function. It then assigns the values 3 and 4 to the variables **x** and **y**, respectively, and adds them together to get the sum, which is stored in the variable **z**. The `print()` function is used again to output the sum to the console, along with some additional text.\n",
    "\n",
    "The final `print()` statement outputs a message to the console, which reads **And through my first python code, I say hello to the world!**."
   ]
  },
  {
   "cell_type": "code",
   "execution_count": 1,
   "metadata": {},
   "outputs": [
    {
     "name": "stdout",
     "output_type": "stream",
     "text": [
      "Hello, world!\n",
      "The sum is: 7\n",
      "And through my first python code, I say hello to the world!\n"
     ]
    }
   ],
   "source": [
    "print(\"Hello, world!\")\n",
    "\n",
    "x = 3\n",
    "y = 4\n",
    "z = x + y\n",
    "\n",
    "print('The sum is:',z)\n",
    "print('And through my first python code, I say hello to the world!')\n"
   ]
  },
  {
   "attachments": {},
   "cell_type": "markdown",
   "metadata": {},
   "source": [
    "When a piece of text is enclosed within quotation marks, it signifies that the text is being defined as a string."
   ]
  },
  {
   "attachments": {},
   "cell_type": "markdown",
   "metadata": {},
   "source": [
    "### Functions and Keywords\n",
    "---\n",
    "\n",
    "**Functions** are blocks of code that can perform a specific task or set of tasks. They are designed to be reusable and modular, and can take input arguments to produce output values. \n",
    "\n",
    "In the previous example, the `print()` function was used to display a message on the screen. However, functions can do much more than that. They can manipulate data, perform calculations, and execute complex algorithms. Functions are an essential part of programming, as they help to organize code and make it easier to maintain and reuse.\n",
    "\n",
    "\n",
    "\n",
    "\n",
    "Here is a list of all the built-in functions available:"
   ]
  },
  {
   "attachments": {},
   "cell_type": "markdown",
   "metadata": {},
   "source": [
    "![functions.png](functions.png)"
   ]
  },
  {
   "cell_type": "markdown",
   "metadata": {},
   "source": [
    "In Python, **keywords** are reserved words that have a specific meaning and purpose in the language. They are used to define the structure of a program, to control the flow of execution, to create variables, and to perform other operations.\n",
    "\n",
    "Some examples of keywords include `if`, `else`, `while`, `for`, `def`, `return`, `True`, `False`, and `None`. These words cannot be used as variable names or function names because they are already used by the language for specific tasks.\n",
    "\n",
    "\n",
    "Here is a list of all the keywords:"
   ]
  },
  {
   "attachments": {},
   "cell_type": "markdown",
   "metadata": {},
   "source": [
    "![keywords.png](keywords.png)"
   ]
  },
  {
   "cell_type": "markdown",
   "metadata": {},
   "source": [
    "### Arithmetic Operators\n",
    "---\n",
    "\n",
    "Python can operate with numbers using the usual mathematical operators, and some special operators, too. These are all of them:\n",
    "\n",
    " - **a + b** = Adds a and b\n",
    "\n",
    "- **a - b** = Subtracts b from a\n",
    "\n",
    "- **a * b** = Multiplies a and b\n",
    "\n",
    "- **a / b** = Divides a by b\n",
    "\n",
    "- **a ** b** = Elevates a to the power of b. For non integer values of b, this becomes a root (i.e. a**(1/2) is the square root of a)\n",
    "\n",
    "- **a // b** = The integer part of the integer division of a by b\n",
    "\n",
    "- **a % b** = The remainder part of the integer division of a by b"
   ]
  },
  {
   "cell_type": "code",
   "execution_count": 2,
   "metadata": {},
   "outputs": [
    {
     "name": "stdout",
     "output_type": "stream",
     "text": [
      "21 + 3 = 24\n",
      "\n",
      "21 - 3 = 18\n",
      "\n",
      "21 * 3 = 63\n",
      "\n",
      "21 / 3 = 7.0\n",
      "\n",
      "21 ** 3 = 9261\n",
      "\n",
      "21 // 3 = 7\n",
      "\n",
      "21 % 3 = 0\n",
      "\n"
     ]
    }
   ],
   "source": [
    "first_num = 21\n",
    "second_num = 3\n",
    "\n",
    "print(first_num,\"+\",second_num,\"=\",first_num+second_num,end=\"\\n\\n\")\n",
    "\n",
    "print(first_num,\"-\",second_num,\"=\",first_num-second_num,end=\"\\n\\n\")\n",
    "\n",
    "print(first_num,\"*\",second_num,\"=\",first_num*second_num,end=\"\\n\\n\")\n",
    "\n",
    "print(first_num,\"/\",second_num,\"=\",first_num/second_num,end=\"\\n\\n\")\n",
    "\n",
    "print(first_num,\"**\",second_num,\"=\",first_num**second_num,end=\"\\n\\n\")\n",
    "\n",
    "print(first_num,\"//\",second_num,\"=\",first_num//second_num,end=\"\\n\\n\")\n",
    "\n",
    "print(first_num,\"%\",second_num,\"=\",first_num%second_num,end=\"\\n\\n\")"
   ]
  },
  {
   "cell_type": "markdown",
   "metadata": {},
   "source": [
    "The `end=` key of print function will set the string that needs to be appended when printing is done. By default the end key is set by newline character `\\n`. So after finishing printing all the variables, a newline character is appended.\n",
    "\n",
    "For the code above, two newline characters `\\n\\n` are explicitly added."
   ]
  },
  {
   "cell_type": "markdown",
   "metadata": {},
   "source": [
    "### Exercises\n",
    "---\n",
    "\n",
    "**Exercise 1**\n",
    "\n",
    "Keeping in mind there are 86400 seconds per day, write a program that calculates how many seconds there are in a week, if a week is 7 days. Print the result on the screen.\n",
    "\n",
    "Note: Your result should be in the format of just a number, not a sentence.\n"
   ]
  },
  {
   "cell_type": "code",
   "execution_count": 1,
   "metadata": {},
   "outputs": [
    {
     "name": "stdout",
     "output_type": "stream",
     "text": [
      "604800\n"
     ]
    }
   ],
   "source": [
    "secs = 86400\n",
    "days = 7\n",
    "week_secs = secs * days\n",
    "\n",
    "print(week_secs)"
   ]
  },
  {
   "cell_type": "markdown",
   "metadata": {},
   "source": [
    "---\n",
    "\n",
    "**Exercise 2**\n",
    "\n",
    "Use Python to calculate how many different passwords can be formed with 6 lower case English letters.  For a 1 letter password, there would be 26 possibilities.  For a 2 letter password, each letter is independent of the other, so there would be 26 times 26 possibilities.  Using this information, print the amount of possible passwords that can be formed with 6 letters."
   ]
  },
  {
   "cell_type": "code",
   "execution_count": 4,
   "metadata": {},
   "outputs": [
    {
     "name": "stdout",
     "output_type": "stream",
     "text": [
      "308915776\n"
     ]
    }
   ],
   "source": [
    "print(26**6)"
   ]
  },
  {
   "cell_type": "markdown",
   "metadata": {},
   "source": [
    "---\n",
    "\n",
    "**Exercise 3**\n",
    "\n",
    "Most hard drives are divided into sectors of 512 bytes each.  Our disk has a size of 16 GB. Write a code to calculate how many sectors the disk has.\n",
    "\n",
    "Note: Your result should be in the format of just a number, not a sentence."
   ]
  },
  {
   "cell_type": "code",
   "execution_count": 5,
   "metadata": {},
   "outputs": [
    {
     "name": "stdout",
     "output_type": "stream",
     "text": [
      "33554432.0\n"
     ]
    }
   ],
   "source": [
    "disk_size = 16*1024*1024*1024\n",
    "sector_size = 512\n",
    "sector_amount = disk_size/sector_size\n",
    "\n",
    "print(sector_amount)"
   ]
  },
  {
   "cell_type": "markdown",
   "metadata": {},
   "source": [
    "---"
   ]
  }
 ],
 "metadata": {
  "kernelspec": {
   "display_name": "Python 3 (ipykernel)",
   "language": "python",
   "name": "python3"
  },
  "language_info": {
   "codemirror_mode": {
    "name": "ipython",
    "version": 3
   },
   "file_extension": ".py",
   "mimetype": "text/x-python",
   "name": "python",
   "nbconvert_exporter": "python",
   "pygments_lexer": "ipython3",
   "version": "3.10.7"
  }
 },
 "nbformat": 4,
 "nbformat_minor": 4
}