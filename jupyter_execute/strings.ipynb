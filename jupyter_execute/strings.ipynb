{
 "cells": [
  {
   "attachments": {},
   "cell_type": "markdown",
   "id": "23864b9f",
   "metadata": {},
   "source": [
    "# Strings\n",
    "---\n",
    "\n",
    "**Learning Objectives**\n",
    "\n",
    "- Manipulate strings using indexing, slicing, and formatting\n",
    "\n",
    "---"
   ]
  },
  {
   "attachments": {},
   "cell_type": "markdown",
   "id": "09e261aa",
   "metadata": {},
   "source": [
    "\n",
    "A `string` is a data type utilized to denote a sequence of characters. The string is enclosed in quotes, either double quotes or single quotes, with the option to choose either one. **It is important to use matching quotes since using mismatched quotes will result in a syntax error**. \n",
    "\n",
    "A string can range from having zero length, called an **Empty String**, to an extremely lengthy sequence of characters. \n",
    "\n",
    "**Concatenation**, accomplished by using the plus sign, is a means of building longer strings using shorter ones. A less common operation is to multiply the string by a number, resulting in the content of the string being repeated that many times."
   ]
  },
  {
   "cell_type": "code",
   "execution_count": 1,
   "id": "dc79c313",
   "metadata": {},
   "outputs": [
    {
     "name": "stdout",
     "output_type": "stream",
     "text": [
      "The word 'Pineapple' is 9 characters long.\n"
     ]
    }
   ],
   "source": [
    "fruit = \"Pineapple\"\n",
    "\n",
    "print(\"The word 'Pineapple' is\",len(fruit),\"characters long.\")"
   ]
  },
  {
   "cell_type": "markdown",
   "id": "9b801247",
   "metadata": {},
   "source": [
    "The `len()` function is a built-in function that returns the number of items in a sequence or the number of characters in a string, which in the case of 'Pineapple' is 9."
   ]
  },
  {
   "cell_type": "markdown",
   "id": "ee94b877",
   "metadata": {},
   "source": [
    "### String Indexing and Slicing\n",
    "\n",
    "String indexing enables accessing individual characters in a string through the use of square brackets and the location or index of the character to be accessed. Python starts indexing at 0, so to access the first character in a string, one would use the index [0]."
   ]
  },
  {
   "cell_type": "code",
   "execution_count": 2,
   "id": "ea59aee0",
   "metadata": {},
   "outputs": [
    {
     "name": "stdout",
     "output_type": "stream",
     "text": [
      "The first character in Pineapple is P\n"
     ]
    }
   ],
   "source": [
    "print(\"The first character in\",fruit,\"is\",fruit[0])"
   ]
  },
  {
   "attachments": {},
   "cell_type": "markdown",
   "id": "b6976dca",
   "metadata": {},
   "source": [
    "Attempting to access an index that's greater than the string's length raises an `IndexError` as the accessed item doesn't exist."
   ]
  },
  {
   "cell_type": "code",
   "execution_count": 3,
   "id": "745cdb57",
   "metadata": {},
   "outputs": [],
   "source": [
    "# Running this code raises 'IndexError'\n",
    "##print(fruit[9])\n",
    "\n",
    "\n",
    "# The word 'Pineapple' having 9 characters, has index values ranging from 0 to 8. \n",
    "# Therefore, using '9' as index to access a character in it produces an error.\n",
    "\n"
   ]
  },
  {
   "cell_type": "markdown",
   "id": "bff286c4",
   "metadata": {},
   "source": [
    "Negative index values can also be used to access the string's indexes from the end towards the start, with `[-1]` accessing the last character and `[-2]` accessing the second-to-last character.\n",
    "\n",
    "Additionally, a slice or substring of a string, which comprises multiple characters, can be accessed. To do so, a range is created using a colon as a separator between the start and end of the range, such as `[2:5]`."
   ]
  },
  {
   "cell_type": "code",
   "execution_count": 4,
   "id": "6077467d",
   "metadata": {},
   "outputs": [
    {
     "name": "stdout",
     "output_type": "stream",
     "text": [
      "The last character for Pineapple is e\n",
      "The substring from index 4 to index 6 for Pineapple gives: app\n"
     ]
    }
   ],
   "source": [
    "print(\"The last character for\",fruit,\"is\",fruit[-1])\n",
    "\n",
    "print(\"The substring from index 4 to index 6 for\",fruit,\"gives:\",fruit[4:7])\n"
   ]
  },
  {
   "cell_type": "markdown",
   "id": "edb14030",
   "metadata": {},
   "source": [
    "An alternative approach for defining the range involves specifying only one of the two indices. In this scenario, it is implied that the missing index corresponds to either the first value of 0 or the second value of the string's length."
   ]
  },
  {
   "cell_type": "code",
   "execution_count": 5,
   "id": "481072f9",
   "metadata": {},
   "outputs": [
    {
     "name": "stdout",
     "output_type": "stream",
     "text": [
      "The substring of first four characters in Pineapple is Pine\n",
      "The substring of last five characters in Pineapple is apple\n"
     ]
    }
   ],
   "source": [
    "print(\"The substring of first four characters in\",fruit,\"is\",fruit[:4])\n",
    "\n",
    "print(\"The substring of last five characters in\",fruit,\"is\",fruit[4:])"
   ]
  },
  {
   "cell_type": "markdown",
   "id": "ac52a963",
   "metadata": {},
   "source": [
    "Stings are **immutable**, which means they cannot be changed. Modifying a single character within a `string` is not possible, and any correction requires creating a new string that fixes the mistake. Alternatively, one can reassign the variable that holds the string to a new value with the mistake fixed."
   ]
  },
  {
   "cell_type": "code",
   "execution_count": 6,
   "id": "9ed50338",
   "metadata": {},
   "outputs": [
    {
     "name": "stdout",
     "output_type": "stream",
     "text": [
      "Old greeting: Hellop, world!\n",
      "New greeting: Hello, world\n"
     ]
    }
   ],
   "source": [
    "greeting = \"Hellop, world!\"\n",
    "\n",
    "print(\"Old greeting:\",greeting)\n",
    "\n",
    "new_greeting = greeting[:5] + \", \" + greeting[-6:-1]\n",
    "\n",
    "print(\"New greeting:\",new_greeting)"
   ]
  },
  {
   "attachments": {},
   "cell_type": "markdown",
   "id": "5270cc0f",
   "metadata": {},
   "source": [
    "To locate the index of a specific character or subtring within a string, we can use the string method called `index()`. This method returns the index of the first occurrence of a character or substring. If the index is not found in the string, then a `ValueError` is raised. In case of multiple matches, only the index of the first occurrence is returned.\n",
    "\n",
    "To avoid a **ValueError**, the `in` keyword can be used to first check if the substring exists in the string. It is used as a conditional operator and returns a boolean value of `True` if the substring exists in the string and `False` otherwise."
   ]
  },
  {
   "cell_type": "code",
   "execution_count": 7,
   "id": "6010585c",
   "metadata": {},
   "outputs": [
    {
     "name": "stdout",
     "output_type": "stream",
     "text": [
      "'apple' is located at index 3\n"
     ]
    }
   ],
   "source": [
    "new_string = \"An apple a day keeps the doctor away.\"\n",
    "\n",
    "if 'apple' in new_string:\n",
    "    print(\"'apple' is located at index\",new_string.index('apple'))"
   ]
  },
  {
   "cell_type": "markdown",
   "id": "db4278e2",
   "metadata": {},
   "source": [
    "### String Methods\n",
    "\n",
    "- The `lower()` and `upper()` string methods can be used to convert a string to all lowercase or all uppercase characters, respectively. These methods are called using dot notation on a string and can be useful when checking user input.\n",
    "\n",
    "- The `strip()` method can be used to remove any whitespace characters, such as spaces, tabs `(\\t)`, and newline characters `(\\n)`, from the beginning and end of a string.\n",
    "\n",
    "- The `count()` method can be used to count the number of times a substring appears in a string.\n",
    "\n",
    "- The `endswith()` method can be used to check if a string ends with a particular substring. If the substring is found at the end of the string, the method will return `True`, otherwise it will return `False`.\n",
    "\n",
    "- The `isnumeric()` method can be used to determine if a string contains only numeric characters. If the string contains only numbers, the method will return `True`. This can be useful for checking if a string can be converted to an integer using the `int()` function.\n",
    "\n",
    "- The `join()` method can be used for concatenating strings. This method is called on a string and takes a list of strings as parameter. It returns a new string composed of the strings from the list joined using the initial string.\n",
    "\n",
    "- The inverse of the `join()` method is the `split()` method, which splits a string into a list of strings. By default, the `split()` method splits the string by any whitespace characters, but it can also split by any other character specified by a parameter."
   ]
  },
  {
   "cell_type": "code",
   "execution_count": 8,
   "id": "c1b1bd17",
   "metadata": {},
   "outputs": [
    {
     "name": "stdout",
     "output_type": "stream",
     "text": [
      "Converting to upper-case: THIS IS THE TEST STRING.\n",
      "\n",
      "Converting to lower-case: this is the test string.\n",
      "\n",
      "Frequency of 's': 4\n",
      "\n",
      "Is the string numeric? False\n",
      "\n",
      "Today is Monday. We are going to the beach on Saturday.\n",
      "\n",
      "Splitting 'This is the test string' gives us ['This', 'is', 'the', 'test', 'string.']\n"
     ]
    }
   ],
   "source": [
    "basic_string = \"This is the test string.\"\n",
    "\n",
    "# Using `.upper()`\n",
    "print(\"Converting to upper-case:\",basic_string.upper(),end=\"\\n\\n\")\n",
    "\n",
    "# Using '.lower()'\n",
    "print(\"Converting to lower-case:\",basic_string.lower(),end=\"\\n\\n\")\n",
    "\n",
    "# Using '.count()'\n",
    "print(\"Frequency of 's':\",basic_string.count('s'),end=\"\\n\\n\")\n",
    "\n",
    "# Using '.isnumeric()'\n",
    "print(\"Is the string numeric?\",basic_string.isnumeric(),end=\"\\n\\n\")\n",
    "\n",
    "string_to_join = [\"Today\",\"is\",\"Monday.\",\"We\",\"are\",\"going\",\"to\",\"the\",\"beach\",\"on\", \"Saturday.\"]\n",
    "\n",
    "# Using '.join()`\n",
    "joined_string = \" \".join(string_to_join)\n",
    "print(joined_string,end=\"\\n\\n\")\n",
    "\n",
    "# Using `.split()`\n",
    "print(\"Splitting 'This is the test string' gives us\",basic_string.split())"
   ]
  },
  {
   "cell_type": "markdown",
   "id": "e5fc39d0",
   "metadata": {},
   "source": [
    "### String Formatting\n",
    "\n",
    "The `format()` method provides a powerful way to concatenate and format strings. The format method works by creating a string containing curly brackets `{}` as placeholders, to be replaced. We then call the format method on the string using `.format()` and pass variables as parameters. The method automatically handles any necessary conversion between data types.\n",
    "\n",
    "If the curly brackets are left empty, the variables are populated in the order they're passed."
   ]
  },
  {
   "cell_type": "code",
   "execution_count": 9,
   "id": "5fb88ba1",
   "metadata": {},
   "outputs": [
    {
     "name": "stdout",
     "output_type": "stream",
     "text": [
      "this is an example of using the format() method on a string\n"
     ]
    }
   ],
   "source": [
    "# base string with {} placeholders\n",
    "\n",
    "example = \"format() method\"\n",
    "\n",
    "formatted_string = \"this is an example of using the {} on a string\".format(example)\n",
    "\n",
    "print(formatted_string)"
   ]
  },
  {
   "cell_type": "markdown",
   "id": "3a4b3324",
   "metadata": {},
   "source": [
    "However, we can use expressions inside the curly brackets to do more powerful string formatting. For example, we can put the variable name inside the curly brackets and use its name as a parameter. This provides more readable code and more flexibility with the order of variables."
   ]
  },
  {
   "cell_type": "code",
   "execution_count": 10,
   "id": "82968150",
   "metadata": {},
   "outputs": [
    {
     "name": "stdout",
     "output_type": "stream",
     "text": [
      "Hello, I am Swanson and I am a Researcher!\n"
     ]
    }
   ],
   "source": [
    "# Variable name inside curly brackets\n",
    "\n",
    "name = \"Swanson\"\n",
    "job = \"Researcher\"\n",
    "\n",
    "print(\"Hello, I am {name} and I am a {job}!\".format(name=name,job=job))"
   ]
  },
  {
   "cell_type": "markdown",
   "id": "c4acf752",
   "metadata": {},
   "source": [
    "If the placeholders indicate a number, they are replaced by the variable corresponding to that order (starting at zero)."
   ]
  },
  {
   "cell_type": "code",
   "execution_count": 11,
   "id": "058a09a9",
   "metadata": {},
   "outputs": [
    {
     "name": "stdout",
     "output_type": "stream",
     "text": [
      "List of items: apple, carrot and banana\n"
     ]
    }
   ],
   "source": [
    "# \"{0} {1}\".format(first,second)\n",
    "\n",
    "first = \"apple\"\n",
    "second = \"banana\"\n",
    "third = \"carrot\"\n",
    "\n",
    "format_string = \"List of items: {0}, {2} and {1}\".format(first,second,third)\n",
    "\n",
    "print(format_string)"
   ]
  },
  {
   "cell_type": "markdown",
   "id": "7b29e39c",
   "metadata": {},
   "source": [
    "We can also use formatting expressions inside the curly brackets to alter the way the string is formatted. \n",
    "\n",
    "- **Example 1**: The expression `{:.2f}` formats the variable as a float number with two decimal places. The colon acts as a separator from the field name, if specified. We can also specify text alignment using the greater than operator `>`. \n",
    "\n",
    "- **Example 2**: The expression `{:>3.2f}` would align the text three spaces to the right and specify a float number with two decimal places."
   ]
  },
  {
   "cell_type": "code",
   "execution_count": 12,
   "id": "431b0721",
   "metadata": {},
   "outputs": [
    {
     "name": "stdout",
     "output_type": "stream",
     "text": [
      "Without formatting: 0.6666666666666666\n",
      "With formatting: 0.667\n"
     ]
    }
   ],
   "source": [
    "# Example 1 \n",
    "\n",
    "two_third = 2 / 3\n",
    "\n",
    "print(\"Without formatting: {}\".format(two_third))\n",
    "print(\"With formatting: {:.3f}\".format(two_third))"
   ]
  },
  {
   "attachments": {},
   "cell_type": "markdown",
   "id": "6735282e",
   "metadata": {},
   "source": [
    "### Program 13\n",
    "---\n",
    "\n",
    "Write a function called `is_palindrome` that takes in a string and checks if it's a palindrome. A palindrome is a string that can be read equally from left to right or right to left, ignoring capitalization and blank spaces. The function should return `True` if the passed string is a palindrome, and `False` if not.\n",
    "\n",
    "**Note**:\n",
    "In the above example, the function should return True because \"Kayak\" is a palindrome string. When we read it from left to right or right to left, ignoring capitalization and blank spaces, the string remains the same."
   ]
  },
  {
   "cell_type": "code",
   "execution_count": 1,
   "id": "65882dc8",
   "metadata": {},
   "outputs": [],
   "source": [
    "def is_palindrome(input_string):\n",
    "    \n",
    "    \"\"\"\n",
    "    Parameters:\n",
    "        input_string (str): A string to be checked\n",
    "        \n",
    "    Returns:\n",
    "        True if input_string is palindrome, \n",
    "        False otherwise.\n",
    "    \"\"\"\n",
    "    \n",
    "    actual_input_string = input_string.lower()\n",
    "    str_len = len(actual_input_string)\n",
    "    str_ind = str_len-1\n",
    "    \n",
    "    new_string = \"\"\n",
    "    actual_reverse = \"\"\n",
    "    \n",
    "    reverse_string = actual_input_string[str_ind::-1]\n",
    "    reversing1 = reverse_string.split()\n",
    "    \n",
    "    for letter in actual_input_string:\n",
    "        \n",
    "        if letter != \" \":\n",
    "            new_string = new_string + letter\n",
    "    \n",
    "    for letter in reversing1:\n",
    "        actual_reverse = actual_reverse + letter\n",
    "    \n",
    "    if new_string == actual_reverse:\n",
    "            return True\n",
    "    else:\n",
    "        return False\n"
   ]
  },
  {
   "cell_type": "code",
   "execution_count": 2,
   "id": "19fad1d0",
   "metadata": {},
   "outputs": [
    {
     "name": "stdout",
     "output_type": "stream",
     "text": [
      "Run 1\n",
      "Is 'Never Odd or Even' a palindrome? -  True\n",
      "\n",
      "Run 2\n",
      "Is 'abc' a palindrome? -  False\n",
      "\n",
      "Run 3\n",
      "Is 'kayak' a palindrome? -  True\n"
     ]
    }
   ],
   "source": [
    "# Should be True\n",
    "print(\"Run 1\")\n",
    "print(\"Is 'Never Odd or Even' a palindrome? - \",is_palindrome(\"Never Odd or Even\"),end=\"\\n\\n\")\n",
    "\n",
    "# Should be False\n",
    "print(\"Run 2\")\n",
    "print(\"Is 'abc' a palindrome? - \",is_palindrome(\"abc\"),end=\"\\n\\n\")\n",
    "\n",
    "# Should be True\n",
    "print(\"Run 3\")\n",
    "print(\"Is 'kayak' a palindrome? - \",is_palindrome(\"kayak\"))"
   ]
  },
  {
   "cell_type": "markdown",
   "id": "5a32c756",
   "metadata": {},
   "source": [
    "### Program 14\n",
    "---\n",
    "\n",
    "Write a function called `replace_ending` that takes three parameters: `sentence`, `old`, and `new`. The function should replace the old string in the sentence with the new string, but only if the sentence ends with the old string. If there is more than one occurrence of the old string in the sentence, only the one at the end is replaced, not all of them. The function should then return the updated sentence.\n",
    "\n",
    "**For example**\n",
    "\n",
    "replace_ending(\"abcabc\", \"abc\", \"xyz\") should return \"abcxyz\", not \"xyzxyz\" or \"xyzabc\". \n",
    "\n",
    "**Note** that the string comparison should be case-sensitive, so replace_ending(\"abcabc\", \"ABC\", \"xyz\") should return \"abcabc\" (no changes made)."
   ]
  },
  {
   "cell_type": "code",
   "execution_count": 3,
   "id": "090be54f",
   "metadata": {},
   "outputs": [],
   "source": [
    "def replace_ending(sentence, old, new):\n",
    "    \n",
    "    \"\"\"\n",
    "    Parameters:\n",
    "        sentence (str): The input sentence\n",
    "        old (str): the string to be replaced\n",
    "        new (str): the string that replaces the old string\n",
    "        \n",
    "    Returns:\n",
    "        str: the modified sentence with old string\n",
    "        replaced by new string. if old is found at the\n",
    "        end of the sentence. Otherwise, returns the \n",
    "        original sentence.\n",
    "    \"\"\"\n",
    "\n",
    "    # Checking if the old string is at the end of the sentence \n",
    "    if sentence.endswith(old):\n",
    "        \n",
    "        i = len(sentence) - len(old)\n",
    "        new_sentence = sentence[:i] + new\n",
    "        return new_sentence\n",
    "\n",
    "     \n",
    "    return sentence"
   ]
  },
  {
   "cell_type": "code",
   "execution_count": 4,
   "id": "26364548",
   "metadata": {},
   "outputs": [
    {
     "name": "stdout",
     "output_type": "stream",
     "text": [
      "Run 1\n",
      "It's raining cats and dogs\n",
      "\n",
      "Run 2\n",
      "She sells seashells by the seashore\n",
      "\n",
      "Run 3\n",
      "The weather is nice in May\n",
      "\n",
      "Run 4\n",
      "The weather is nice in April\n",
      "\n"
     ]
    }
   ],
   "source": [
    "# Should display \"It's raining cats and dogs\"   \n",
    "print(\"Run 1\")\n",
    "print(replace_ending(\"It's raining cats and cats\", \"cats\", \"dogs\"),end=\"\\n\\n\")\n",
    "\n",
    "# Should display \"She sells seashells by the seashore\"\n",
    "print(\"Run 2\")\n",
    "print(replace_ending(\"She sells seashells by the seashore\", \"seashells\", \"donuts\"),end=\"\\n\\n\")\n",
    "\n",
    "# Should display \"The weather is nice in May\"\n",
    "print(\"Run 3\")\n",
    "print(replace_ending(\"The weather is nice in May\", \"may\", \"april\"),end=\"\\n\\n\")\n",
    "\n",
    "# Should display \"The weather is nice in April\"\n",
    "print(\"Run 4\")\n",
    "print(replace_ending(\"The weather is nice in May\", \"May\", \"April\"),end=\"\\n\\n\") "
   ]
  },
  {
   "cell_type": "markdown",
   "id": "2d369d97",
   "metadata": {},
   "source": [
    "---"
   ]
  }
 ],
 "metadata": {
  "kernelspec": {
   "display_name": "Python 3 (ipykernel)",
   "language": "python",
   "name": "python3"
  },
  "language_info": {
   "codemirror_mode": {
    "name": "ipython",
    "version": 3
   },
   "file_extension": ".py",
   "mimetype": "text/x-python",
   "name": "python",
   "nbconvert_exporter": "python",
   "pygments_lexer": "ipython3",
   "version": "3.10.7"
  }
 },
 "nbformat": 4,
 "nbformat_minor": 5
}