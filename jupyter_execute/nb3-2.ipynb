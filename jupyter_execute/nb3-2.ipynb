{
 "cells": [
  {
   "attachments": {},
   "cell_type": "markdown",
   "metadata": {},
   "source": [
    "# Loop - Over and Over\n",
    "---\n",
    "\n",
    "**Learning Objectives**\n",
    "\n",
    "- Use the `range()` function to control `for loops`\n",
    "- Utilize `for loops` to iterate over a block of code\n",
    "- Identify and fix infinite loops when using `while loops`\n",
    "- Implement `while loops` to continuously execute code while a condition is true\n",
    "- Use nested `while` and `for` loops with `if statements`\n",
    "- Identify and correct common errors when using loops\n",
    "\n",
    "---"
   ]
  },
  {
   "attachments": {},
   "cell_type": "markdown",
   "metadata": {},
   "source": [
    "### While Loop\n",
    "\n",
    "A **while loop** executes code repeatedly based on the value of a condition. It starts with the `while` keyword, followed by a comparison that is to be evaluated, and ends with a colon. The code block to be executed is indented to the right on the next line. \n",
    "\n",
    "Like an **if statement**, the body of code is executed only if the comparison evaluates to `True`. However, the key feature of a while loop is that the code block keeps executing as long as the evaluation statement remains True. Once the statement is no longer True, the loop terminates, and the next line of code is executed."
   ]
  },
  {
   "attachments": {},
   "cell_type": "markdown",
   "metadata": {},
   "source": [
    "### Program 7\n",
    "---\n",
    "\n",
    "- The `squares` function takes a number `n` as input and returns the square of that number.\n",
    "\n",
    "- The `sum_squares` function takes a number `x` as input. It initializes a variable `input` to be equal to `x` and initializes two more variables `sum` and `num` to 0.\n",
    "\n",
    "- The function then enters a while loop that continues until `num` is less than `input`. \n",
    "\n",
    "- In each iteration of the loop, the function calls the `squares` function with `num` as input and adds the result to the `sum` variable. It also prints the current value of `num`. Finally, it increments `num` by 1.\n",
    "\n",
    "- Once the loop has finished, the function returns the final value of `sum`, which is the sum of squares from 0 to (x-1).\n"
   ]
  },
  {
   "cell_type": "code",
   "execution_count": 1,
   "metadata": {},
   "outputs": [
    {
     "name": "stdout",
     "output_type": "stream",
     "text": [
      "Loop run number: 0\n",
      "Loop run number: 1\n",
      "Loop run number: 2\n",
      "Loop run number: 3\n",
      "Loop run number: 4\n"
     ]
    },
    {
     "data": {
      "text/plain": [
       "30"
      ]
     },
     "execution_count": 1,
     "metadata": {},
     "output_type": "execute_result"
    }
   ],
   "source": [
    "def squares(n):\n",
    "    \"\"\"\n",
    "    Parameters:\n",
    "        n (int): Input number, the base\n",
    "        \n",
    "    Returns:\n",
    "        n**2 (int): Square of the base\n",
    "    \"\"\"\n",
    "    return n**2\n",
    "\n",
    "\n",
    "def sum_squares(x):\n",
    "    \"\"\"\n",
    "    Parameters:\n",
    "        x (int): The upper limit (exclusive) of the range of numbers\n",
    "        \n",
    "    Returns:\n",
    "        int: The sum of squares from 0 to (x-1)\n",
    "    \"\"\"\n",
    "    \n",
    "    input = x\n",
    "    sum = 0\n",
    "    num = 0\n",
    "    \n",
    "    while num < input:\n",
    "    \n",
    "        a = squares(num)\n",
    "        sum += a\n",
    "        print(\"Loop run number: \" + str(num))\n",
    "        num += 1\n",
    "    \n",
    "    return sum\n",
    "\n",
    "sum_squares(5)"
   ]
  },
  {
   "cell_type": "markdown",
   "metadata": {},
   "source": [
    "It's crucial to keep in mind that the while loop's condition must result in either `True` or `False`. Achieving a certain result in programming can be done through the use of comparison operators or the invocation of other functions.\n",
    "\n",
    "Furthermore, the condition for while loops can become more intricate by utilizing logical operators such as `and`, `or`, and `not`."
   ]
  },
  {
   "attachments": {},
   "cell_type": "markdown",
   "metadata": {},
   "source": [
    "### Breaking the Loop: Handling and Avoiding Errors\n",
    "\n",
    "- One should watch out for a common mistake in `while` loops: **forgetting to initialize variables**. If a variable is used without being initialized, a `NameError` will occur. The Python interpreter will catch the mistake and inform the user that an undefined variable is being used. The solution is simple: initialize the variable by assigning it a value before it is used.\n",
    "\n",
    "- Another common mistake to watch out for, which can be trickier to spot, is forgetting to initialize variables with the correct value. If a variable is used earlier in the code and then reused later in a loop without first setting it to the desired value, the code may produce unexpected results. **It is important to always initialize variables before using them**.\n",
    "\n",
    "- **Infinite Loop**: An infinite loop occurs when the code block in the loop continues to execute and never stops. This can occur when the condition being evaluated in a while loop doesn't change. One should pay close attention to their variables and consider unexpected values."
   ]
  },
  {
   "cell_type": "markdown",
   "metadata": {},
   "source": [
    "### Program 8\n",
    "---\n",
    "\n",
    "The function `print_prime_factors` takes a single argument called `number`. The function finds all prime factors of the number and prints them in order. \n",
    "\n",
    "It starts with the first prime factor which is 2, and continues to check each consecutive factor to see if it is a divisor of number. If it is, then it prints the factor and divides the number by that factor. If it's not a divisor, it increments the factor by one and checks the next number. This process is repeated until the factor is greater than the number. Finally, the function returns a string \"Done\". \n",
    "\n",
    "**An example** usage of the function is shown at the bottom, where it's called with argument 100 and prints the prime factors 2, 2, 5, and 5."
   ]
  },
  {
   "cell_type": "code",
   "execution_count": 1,
   "metadata": {},
   "outputs": [],
   "source": [
    "def print_prime_factors(number):\n",
    "    \"\"\"\n",
    "    Parameters:\n",
    "        number (int): A positive integer for which to\n",
    "        find the prime factors\n",
    "        \n",
    "    Returns:\n",
    "        str: A message indicating the function has finished\n",
    "        execution\n",
    "    \"\"\"\n",
    "    \n",
    "    factor = 2\n",
    "    \n",
    "    while factor <= number:\n",
    "        \n",
    "        if number % factor == 0:\n",
    "            \n",
    "            print(factor)\n",
    "            \n",
    "            number = number / factor\n",
    "            \n",
    "        else:\n",
    "                        \n",
    "            factor += 1\n",
    "            \n",
    "    return \"Done\"\n"
   ]
  },
  {
   "cell_type": "code",
   "execution_count": 2,
   "metadata": {},
   "outputs": [
    {
     "name": "stdout",
     "output_type": "stream",
     "text": [
      "Run 1\n",
      "2\n",
      "2\n",
      "5\n",
      "5\n",
      "\n",
      "Run 2\n",
      "2\n",
      "2\n",
      "3\n",
      "3\n",
      "3\n",
      "5\n"
     ]
    },
    {
     "data": {
      "text/plain": [
       "'Done'"
      ]
     },
     "execution_count": 2,
     "metadata": {},
     "output_type": "execute_result"
    }
   ],
   "source": [
    "# Should print 2, 2, 5 and 5    \n",
    "print(\"Run 1\")\n",
    "print_prime_factors(100)\n",
    "print()\n",
    "\n",
    "# Should print 2, 2, 3, 3, 3 and 5\n",
    "print(\"Run 2\")\n",
    "print_prime_factors(540)"
   ]
  },
  {
   "cell_type": "markdown",
   "metadata": {},
   "source": [
    "### Program 9\n",
    "---\n",
    "\n",
    "The function `is_power_of_two` takes a single argument `in_num`. The function checks if `in_num` is a power of two by continuously dividing it by 2 as long as the result is an even number. \n",
    "\n",
    "If the final result is 1, then the original number was a power of two, and the function returns `True`. If the final result is not 1, then the original number was not a power of two, and the function returns `False`. If the initial value of `in_num` is 0, the function returns `False` without executing the while loop."
   ]
  },
  {
   "cell_type": "code",
   "execution_count": 3,
   "metadata": {},
   "outputs": [],
   "source": [
    "def is_power_of_two(in_num):\n",
    "    \"\"\" \n",
    "    Parameters:\n",
    "        in_num (int): The number to be checked\n",
    "        \n",
    "    Returns:\n",
    "        bool: True if in_num is a power of two,\n",
    "              False otherwise   \n",
    "    \"\"\"\n",
    "    \n",
    "    # Check if the number can be divided by two without a remainder\n",
    "    \n",
    "    while (in_num != 0) and (in_num % 2 == 0):\n",
    "        in_num = in_num / 2\n",
    "        \n",
    "    if in_num == 1:\n",
    "        return True\n",
    "    \n",
    "    return False"
   ]
  },
  {
   "cell_type": "code",
   "execution_count": 4,
   "metadata": {},
   "outputs": [
    {
     "name": "stdout",
     "output_type": "stream",
     "text": [
      "Run 1\n",
      "False\n",
      "\n",
      "Run 2\n",
      "True\n",
      "\n",
      "Run 3\n",
      "True\n",
      "\n",
      "Run 4\n",
      "False\n",
      "\n"
     ]
    }
   ],
   "source": [
    "# Should be False\n",
    "print(\"Run 1\")\n",
    "print(is_power_of_two(0),end=\"\\n\\n\")\n",
    "\n",
    "# Should be True\n",
    "print(\"Run 2\")\n",
    "print(is_power_of_two(1),end=\"\\n\\n\") \n",
    "\n",
    "# Should be True\n",
    "print(\"Run 3\")\n",
    "print(is_power_of_two(8),end=\"\\n\\n\")\n",
    "\n",
    "# Should be False\n",
    "print(\"Run 4\")\n",
    "print(is_power_of_two(9),end=\"\\n\\n\") "
   ]
  },
  {
   "cell_type": "markdown",
   "metadata": {},
   "source": [
    "### Program 10\n",
    "---\n",
    "\n",
    "The function `sum_divisors` takes a single integer argument `input_num`. The function computes the sum of all divisors of `input_num`, excluding `input_num` itself. \n",
    "\n",
    "It starts by initializing a variable `sum` to 0 and a variable `div` to 1. Then, it enters a while loop that continues as long as `div` is less than `input_num`. Inside the loop, the function checks whether `input_num` is divisible by `div`. If it is, then the value of `div` is added to the `sum` variable, and `div` is incremented by 1. Otherwise, `div` is simply incremented by 1. Finally, the function returns the value of `sum`."
   ]
  },
  {
   "cell_type": "code",
   "execution_count": 5,
   "metadata": {},
   "outputs": [],
   "source": [
    "def sum_divisors(input_num):\n",
    "    \"\"\" \n",
    "    Parameters:\n",
    "        input_num (int): A positive integer\n",
    "        \n",
    "    Returns:\n",
    "        An integer representing the sum of all\n",
    "        positive divisors of the input number\n",
    "    \"\"\"\n",
    "    \n",
    "    sum = 0\n",
    "    div = 1\n",
    "    \n",
    "    while div < input_num:\n",
    "        \n",
    "        if (input_num % div == 0):\n",
    "            \n",
    "            sum += div\n",
    "            div += 1\n",
    "            \n",
    "        else:\n",
    "            \n",
    "            div += 1\n",
    "            \n",
    "    return sum"
   ]
  },
  {
   "cell_type": "code",
   "execution_count": 6,
   "metadata": {},
   "outputs": [
    {
     "name": "stdout",
     "output_type": "stream",
     "text": [
      "Run 1\n",
      "0\n",
      "\n",
      "Run 2\n",
      "1\n",
      "\n",
      "Run 3\n",
      "55\n",
      "\n",
      "Run 4\n",
      "114\n",
      "\n"
     ]
    }
   ],
   "source": [
    "# Should return 0\n",
    "print(\"Run 1\")\n",
    "print(sum_divisors(0),end=\"\\n\\n\")\n",
    "\n",
    "# Should sum of 1 = 1\n",
    "print(\"Run 2\")\n",
    "print(sum_divisors(3),end=\"\\n\\n\") \n",
    "\n",
    "# Should sum of 1+2+3+4+6+9+12+18 = 55\n",
    "print(\"Run 3\")\n",
    "print(sum_divisors(36),end=\"\\n\\n\") \n",
    "\n",
    "# Should be sum of 2+3+6+17+34+51 = 114\n",
    "print(\"Run 4\")\n",
    "print(sum_divisors(102),end=\"\\n\\n\") \n"
   ]
  },
  {
   "cell_type": "markdown",
   "metadata": {},
   "source": [
    "### Program 11\n",
    "---\n",
    "\n",
    "`multiplication_table` takes a single argument `input_number`. It uses a while loop to print out a multiplication table for number up to 5 times. The loop calculates the result of multiplying number by multiplier and prints it out in a formatted string. \n",
    "\n",
    "The loop also checks if the result is greater than 25, and if it is, it breaks out of the loop."
   ]
  },
  {
   "cell_type": "code",
   "execution_count": 7,
   "metadata": {},
   "outputs": [],
   "source": [
    "def multiplication_table(input_number):\n",
    "    \"\"\" \n",
    "    Parameters:\n",
    "        input_number (int): An integer to generate\n",
    "        the multiplication table for.\n",
    "        \n",
    "    Returns:\n",
    "        None\n",
    "    \"\"\"\n",
    "    \n",
    "    # Initialize the starting point of the multiplication table\n",
    "    \n",
    "    multiplier = 1\n",
    "    \n",
    "    # Looping up to 5\n",
    "    \n",
    "    while multiplier <= 5:\n",
    "        \n",
    "        result = input_number * multiplier\n",
    "        \n",
    "        # Condition to exit out of the loop\n",
    "        \n",
    "        if result >= 25:\n",
    "            break\n",
    "            \n",
    "        print(str(input_number) + \" x \" + str(multiplier) + \" = \" + str(result))\n",
    "        \n",
    "        # increment the variable for the loop\n",
    "        \n",
    "        multiplier += 1\n",
    "        \n",
    "    print()\n"
   ]
  },
  {
   "cell_type": "code",
   "execution_count": 8,
   "metadata": {},
   "outputs": [
    {
     "name": "stdout",
     "output_type": "stream",
     "text": [
      "Run 1\n",
      "3 x 1 = 3\n",
      "3 x 2 = 6\n",
      "3 x 3 = 9\n",
      "3 x 4 = 12\n",
      "3 x 5 = 15\n",
      "\n",
      "Run 2\n",
      "5 x 1 = 5\n",
      "5 x 2 = 10\n",
      "5 x 3 = 15\n",
      "5 x 4 = 20\n",
      "\n",
      "Run 3\n",
      "8 x 1 = 8\n",
      "8 x 2 = 16\n",
      "8 x 3 = 24\n",
      "\n"
     ]
    }
   ],
   "source": [
    "\n",
    "# Should print: 3x1=3 3x2=6 3x3=9 3x4=12 3x5=15\n",
    "print(\"Run 1\")\n",
    "multiplication_table(3)\n",
    "\n",
    "# Should print: 5x1=5 5x2=10 5x3=15 5x4=20 5x5=25\n",
    "print(\"Run 2\")\n",
    "multiplication_table(5) \n",
    "\n",
    "# Should print: 8x1=8 8x2=16 8x3=24        \n",
    "print(\"Run 3\")\n",
    "multiplication_table(8)\n"
   ]
  },
  {
   "attachments": {},
   "cell_type": "markdown",
   "metadata": {},
   "source": [
    "---\n",
    "\n",
    "### For Loop\n",
    "\n",
    "The `for loop` starts with the keyword `for` followed by a colon, similar to `if statements` and `while loops`. The code block following the for loop is executed for each element in the sequence defined by the `range()` function or any other iterable object. \n",
    "\n",
    "The loop variable, such as `x` in the **example below**, is assigned to each element in the sequence in turn. The `range()` function generates a sequence of numbers from 0 to n-1, where `n` is the argument passed to the function.\n",
    "\n",
    "`For loops` are useful when you want to perform a repetitive task for each element in a sequence, such as iterating over a list of strings or a file. If there is a need to repeat an action until a specific condition is met, then a `while loop` is more appropriate."
   ]
  },
  {
   "cell_type": "code",
   "execution_count": 6,
   "metadata": {},
   "outputs": [
    {
     "name": "stdout",
     "output_type": "stream",
     "text": [
      "0\n",
      "1\n",
      "2\n",
      "3\n",
      "4\n"
     ]
    }
   ],
   "source": [
    "for x in range(5):\n",
    "    \n",
    "    print(x)"
   ]
  },
  {
   "attachments": {},
   "cell_type": "markdown",
   "metadata": {},
   "source": [
    "#### Range Function\n",
    "\n",
    "The `range()` function can take up to three parameters:  `range(start, stop, step)` \n",
    "\n",
    "- **Start**: \n",
    "The first item in the range() function parameters is the starting position of the range. The default is the first index position, which points to the numeric value 0. This value is included in the range. \n",
    "\n",
    "\n",
    "- **Stop**:\n",
    "The second item in the range() function parameters is the ending position of the range. There is no default index position, so this index number must be given to the range() parameters. For example, the line `for n in range(4)` will loop 4 times with the n variable starting at 0 and looping 4 index positions: 0, 1, 2, 3. As you can see, range(4) (meaning index position 4) ends at the numeric value 3. In Python, this structure may be phrased as **the end-of-range value is excluded from the range.** In order to include the value 4 in  range(4), the syntax can be written as range(4+1) or range(5). Both of these ranges will produce the numeric values 0, 1, 2, 3, 4. \n",
    "\n",
    "\n",
    "- **Step**:\n",
    "The third item in the range() function parameters is the incremental step value. The default increment is +1. The default value can be overridden with any valid increment. However, note that the loop will still end at the end-of-range index position, regardless of the incremental value. For example, if you have a loop with the range: `for n in range(1, 5, 6)`, the range will only produce the numeric value 1. This is because the incremental value of 6 exceeded the ending point of the range.\n",
    "\n",
    "\n",
    "Here are some **examples** of `range()` in code:\n"
   ]
  },
  {
   "cell_type": "markdown",
   "metadata": {},
   "source": [
    "**Example 1**\n",
    "\n",
    "In this code, a range from 0 to 10 is used to iterate through the values of the variable `n`. The loop increments by 2 on each iteration, and the `print()` function is used to display the current value of `n` as it counts from 0 to 10 (excluding the end-of-range index 11). This is a way to generate and print a list of even numbers in Python."
   ]
  },
  {
   "cell_type": "code",
   "execution_count": 7,
   "metadata": {},
   "outputs": [
    {
     "name": "stdout",
     "output_type": "stream",
     "text": [
      "0\n",
      "2\n",
      "4\n",
      "6\n",
      "8\n",
      "10\n"
     ]
    }
   ],
   "source": [
    "for n in range(0,11,2):\n",
    "    print(n)"
   ]
  },
  {
   "attachments": {},
   "cell_type": "markdown",
   "metadata": {},
   "source": [
    "**Example 2**\n",
    "\n",
    "This loop iterates on the value of the `number` variable in a range of 2 to 7+1 (the value of the end-of-range index 7 is excluded, so +1 has been added to the parameter to include the numeric value 7 in the range). The incremental value for the loop is the default of +1.\n",
    "\n",
    "The `print()` function will output the resulting value of `number` multiplied by 3."
   ]
  },
  {
   "cell_type": "code",
   "execution_count": 8,
   "metadata": {},
   "outputs": [
    {
     "name": "stdout",
     "output_type": "stream",
     "text": [
      "6\n",
      "9\n",
      "12\n",
      "15\n",
      "18\n",
      "21\n"
     ]
    }
   ],
   "source": [
    "for number in range(2,7+1):\n",
    "    print(number * 3)"
   ]
  },
  {
   "attachments": {},
   "cell_type": "markdown",
   "metadata": {},
   "source": [
    "**Example 3**\n",
    "\n",
    "This code uses a `for loop` to iterate through a range of numbers, with the variable `x` taking on each value in turn. The range starts at 2 and goes down to -1 (excluding the end-of-range index -2) in decrements of -1. The `print()` function displays the current value of `x` during each iteration of the loop, as it counts down from 2 to -1."
   ]
  },
  {
   "cell_type": "code",
   "execution_count": 9,
   "metadata": {},
   "outputs": [
    {
     "name": "stdout",
     "output_type": "stream",
     "text": [
      "2\n",
      "1\n",
      "0\n",
      "-1\n"
     ]
    }
   ],
   "source": [
    "for i in range(2,-2,-1):\n",
    "    print(i)"
   ]
  },
  {
   "cell_type": "markdown",
   "metadata": {},
   "source": [
    "### Pitfalls Using For Loops:\n",
    "\n",
    "- The upper limit of `range()` is not included in the sequence produced.\n",
    "- Iterating over non-sequences."
   ]
  },
  {
   "cell_type": "markdown",
   "metadata": {},
   "source": [
    "### Program 12\n",
    "---\n",
    "\n",
    "Complete the `factorial` function so that it returns the factorial of the input integer `num`. Once the function is complete, print the first 10 factorials (from 0 to 9) along with their corresponding numbers. \n",
    "\n",
    "It's **important** to remember that the factorial of a number is calculated as the product of that number and all positive integers before it.\n",
    "\n",
    "**For instance**, the factorial of 5 (5!) is equal to 1* 2 * 3 * 4 * 5 = 120, and the factorial of 0 (0!) is 1."
   ]
  },
  {
   "cell_type": "code",
   "execution_count": 10,
   "metadata": {},
   "outputs": [],
   "source": [
    "def factorial(n):\n",
    "    \"\"\"\n",
    "    Calculates the factorial of a given integer.\n",
    "\n",
    "    Parameters:\n",
    "        n (int): The integer to calculate the factorial of.\n",
    "\n",
    "    Returns:\n",
    "        result (int): The factorial of the given integer.\n",
    "    \"\"\"\n",
    "    \n",
    "    result = 1\n",
    "    in1= n + 1\n",
    "    \n",
    "    if n==0:\n",
    "        return result\n",
    "    \n",
    "    for x in range(1,in1):\n",
    "        result = result * x\n",
    "    \n",
    "    return result"
   ]
  },
  {
   "cell_type": "code",
   "execution_count": 11,
   "metadata": {
    "scrolled": true
   },
   "outputs": [
    {
     "name": "stdout",
     "output_type": "stream",
     "text": [
      "Factorial of 0  =  1\n",
      "Factorial of 1  =  1\n",
      "Factorial of 2  =  2\n",
      "Factorial of 3  =  6\n",
      "Factorial of 4  =  24\n",
      "Factorial of 5  =  120\n",
      "Factorial of 6  =  720\n",
      "Factorial of 7  =  5040\n",
      "Factorial of 8  =  40320\n",
      "Factorial of 9  =  362880\n"
     ]
    }
   ],
   "source": [
    "for j in range(10):\n",
    "    \n",
    "    output = factorial(j)\n",
    "    print(\"Factorial of\",j,\" = \",output)"
   ]
  },
  {
   "cell_type": "markdown",
   "metadata": {},
   "source": [
    "### Exercises\n",
    "---\n",
    "\n",
    "**Exercise 1**\n",
    "\n",
    "Implement a function called `digits(n)` that determines the number of digits in a given integer `n`."
   ]
  },
  {
   "cell_type": "code",
   "execution_count": 9,
   "metadata": {},
   "outputs": [],
   "source": [
    "def digits(n):\n",
    "    \"\"\"\n",
    "    Computes the number of digits in a non-negative integer.\n",
    "    \n",
    "    Parameters:\n",
    "        n (int): The integer to count the digits of.\n",
    "    \n",
    "    Returns:\n",
    "        int: The number of digits in n.\n",
    "    \"\"\"\n",
    "    count = 0\n",
    "    \n",
    "    if n <= 9:\n",
    "        count = 1\n",
    "    \n",
    "    if n > 9:\n",
    "    \n",
    "        while (n > 0):\n",
    "         n = n // 10\n",
    "         count = count + 1\n",
    "    \n",
    "    return count\n"
   ]
  },
  {
   "cell_type": "code",
   "execution_count": 10,
   "metadata": {},
   "outputs": [
    {
     "name": "stdout",
     "output_type": "stream",
     "text": [
      "Run 1\n",
      "2\n",
      "\n",
      "Run 2\n",
      "3\n",
      "\n"
     ]
    }
   ],
   "source": [
    "# Should return 2\n",
    "print(\"Run 1\")\n",
    "print(digits(25),end=\"\\n\\n\")\n",
    "\n",
    "# Should return 3\n",
    "print(\"Run 2\")\n",
    "print(digits(144),end=\"\\n\\n\")"
   ]
  },
  {
   "cell_type": "markdown",
   "metadata": {},
   "source": [
    "**Exercise 2**\n",
    "\n",
    "Create a function called `counter` that takes in two parameters, `start` and `stop`. The function should count down from `start` to `stop` if `start` is greater than `stop`, and count up from `start` to `stop` otherwise."
   ]
  },
  {
   "cell_type": "code",
   "execution_count": 13,
   "metadata": {},
   "outputs": [],
   "source": [
    "def counter(start,stop):\n",
    "    \"\"\"\n",
    "    Parameters:\n",
    "        start (int): The starting number for the sequence\n",
    "        stop (int): The ending number for the sequence\n",
    "        \n",
    "    Returns:\n",
    "        A string that describes a sequence of numbers based\n",
    "        on the input arguments.\n",
    "    \"\"\"\n",
    "\n",
    "    if start > stop:\n",
    "        return_string = \"Counting down: \"\n",
    "        for j in range(start,stop-1,-1):\n",
    "            \n",
    "            if j == stop:\n",
    "                return_string = return_string + str(j)\n",
    "            \n",
    "            else:\n",
    "                return_string = return_string + str(j) + \",\"\n",
    "            \n",
    "            j += 1\n",
    "    \n",
    "    elif stop > start:\n",
    "        \n",
    "        return_string = \"Counting up: \"\n",
    "        \n",
    "        for j in range(start,stop+1):\n",
    "            \n",
    "            if j == stop:\n",
    "                return_string = return_string + str(j)\n",
    "            \n",
    "            else:\n",
    "                return_string = return_string + str(j) + \",\"\n",
    "            \n",
    "            j += 1\n",
    "    \n",
    "    else:\n",
    "        return_string = \"Counting up: \"\n",
    "        return_string = return_string + str(start)\n",
    "    \n",
    "    return return_string"
   ]
  },
  {
   "cell_type": "code",
   "execution_count": 14,
   "metadata": {},
   "outputs": [
    {
     "name": "stdout",
     "output_type": "stream",
     "text": [
      "Run 1\n",
      "Counting up: 1,2,3,4,5,6,7,8,9,10\n",
      "\n",
      "Run 2\n",
      "Counting down: 2,1\n",
      "\n",
      "Run 3\n",
      "Counting up: 5\n",
      "\n"
     ]
    }
   ],
   "source": [
    "# Should be \"Counting up: 1,2,3,4,5,6,7,8,9,10\"\n",
    "print(\"Run 1\")\n",
    "print(counter(1, 10),end=\"\\n\\n\")\n",
    "\n",
    "# Should be \"Counting down: 2,1\"\n",
    "print(\"Run 2\")\n",
    "print(counter(2, 1),end=\"\\n\\n\") \n",
    "\n",
    "# Should be \"Counting up: 5\"\n",
    "print(\"Run 3\")\n",
    "print(counter(5, 5),end=\"\\n\\n\")"
   ]
  },
  {
   "cell_type": "markdown",
   "metadata": {},
   "source": [
    "**Exercise 3**\n",
    "\n",
    "The `even_numbers` function returns a space-separated string of all positive numbers that are divisible by 2, up to and including the maximum that's passed into the function. \n",
    "\n",
    "**For example**, even_numbers(6) returns “2 4 6”."
   ]
  },
  {
   "cell_type": "code",
   "execution_count": 11,
   "metadata": {},
   "outputs": [],
   "source": [
    "def even_numbers(maximum):\n",
    "    \"\"\"\n",
    "    Parameters:\n",
    "        maximum (int): The maximum number to consider\n",
    "        \n",
    "    Returns:\n",
    "        str: A space-separated string of even numbers\n",
    "        from 2 to 'maximum'\n",
    "    \"\"\"\n",
    "    \n",
    "    return_string = \"\"\n",
    "\n",
    "    for x in range(2,maximum+1):\n",
    "\n",
    "        if x % 2 == 0:\n",
    "            return_string += str(x) + \" \"\n",
    "\n",
    "    return return_string.strip()\n",
    " "
   ]
  },
  {
   "cell_type": "code",
   "execution_count": 12,
   "metadata": {},
   "outputs": [
    {
     "name": "stdout",
     "output_type": "stream",
     "text": [
      "Run 1\n",
      "2 4 6\n",
      "\n",
      "Run 2\n",
      "2 4 6 8 10\n",
      "\n",
      "Run 3\n",
      "\n",
      "\n",
      "Run 4\n",
      "2\n",
      "\n",
      "Run 5\n",
      "\n",
      "\n"
     ]
    }
   ],
   "source": [
    "# Should be 2 4 6\n",
    "print(\"Run 1\")\n",
    "print(even_numbers(6),end=\"\\n\\n\")\n",
    "\n",
    "# Should be 2 4 6 8 10\n",
    "print(\"Run 2\")\n",
    "print(even_numbers(10),end=\"\\n\\n\")\n",
    "\n",
    "# No numbers displayed\n",
    "print(\"Run 3\")\n",
    "print(even_numbers(1),end=\"\\n\\n\")\n",
    "\n",
    "# Should be 2\n",
    "print(\"Run 4\")\n",
    "print(even_numbers(3),end=\"\\n\\n\")\n",
    "\n",
    "# No numbers displayed\n",
    "print(\"Run 5\")\n",
    "print(even_numbers(0),end=\"\\n\\n\") "
   ]
  },
  {
   "cell_type": "markdown",
   "metadata": {},
   "source": [
    "---"
   ]
  }
 ],
 "metadata": {
  "kernelspec": {
   "display_name": "Python 3 (ipykernel)",
   "language": "python",
   "name": "python3"
  },
  "language_info": {
   "codemirror_mode": {
    "name": "ipython",
    "version": 3
   },
   "file_extension": ".py",
   "mimetype": "text/x-python",
   "name": "python",
   "nbconvert_exporter": "python",
   "pygments_lexer": "ipython3",
   "version": "3.10.7"
  }
 },
 "nbformat": 4,
 "nbformat_minor": 4
}