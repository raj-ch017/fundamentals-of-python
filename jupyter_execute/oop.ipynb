{
 "cells": [
  {
   "attachments": {},
   "cell_type": "markdown",
   "id": "19f6ee2f",
   "metadata": {},
   "source": [
    "# Object Oriented Programming\n",
    "---\n",
    "\n",
    "**Learning Objectives**\n",
    "\n",
    "- Demonstrate object-oriented programming using classes and objects\n",
    "- Implement classes with custom attributes and methods\n",
    "- Write docstrings to document classes and methods\n",
    "- Leverage inheritance to reduce code duplication\n",
    "- Import and use Python modules to access powerful classes and methods\n",
    "\n",
    "---"
   ]
  },
  {
   "cell_type": "markdown",
   "id": "91998ff7",
   "metadata": {},
   "source": [
    "In object-oriented programming, concepts are modeled as `classes` and `objects`. An idea is defined using a class, and an instance of this class is called an object. \n",
    "\n",
    "**Almost everything in Python is an object, including strings, lists, dictionaries, and numbers.**\n",
    "\n",
    "When a list is created in Python, an object is generated, which is an instance of the list class that signifies the concept of a list. Classes also have attributes and methods associated with them. **Attributes** are the characteristics of the class, while **Methods** are functions that are part of the class.\n",
    "\n"
   ]
  },
  {
   "cell_type": "markdown",
   "id": "b88ad5a9",
   "metadata": {},
   "source": [
    "When using the `type` function, Python tells us which class the value or the variable belongs to. And since it is a class, it has a bunch of attributes and methods associated with it."
   ]
  },
  {
   "cell_type": "code",
   "execution_count": 1,
   "id": "46cdb23a",
   "metadata": {},
   "outputs": [
    {
     "name": "stdout",
     "output_type": "stream",
     "text": [
      "<class 'int'>\n",
      "<class 'str'>\n"
     ]
    }
   ],
   "source": [
    "print(type(5))\n",
    "print(type('5'))"
   ]
  },
  {
   "cell_type": "markdown",
   "id": "e8b8ce05",
   "metadata": {},
   "source": [
    "Listing all the attributes and methods in a class can be achieved in Python by using the `dir` function."
   ]
  },
  {
   "cell_type": "code",
   "execution_count": 2,
   "id": "2b861b4d",
   "metadata": {},
   "outputs": [
    {
     "data": {
      "text/plain": [
       "['__add__',\n",
       " '__class__',\n",
       " '__contains__',\n",
       " '__delattr__',\n",
       " '__dir__',\n",
       " '__doc__',\n",
       " '__eq__',\n",
       " '__format__',\n",
       " '__ge__',\n",
       " '__getattribute__',\n",
       " '__getitem__',\n",
       " '__getnewargs__',\n",
       " '__gt__',\n",
       " '__hash__',\n",
       " '__init__',\n",
       " '__init_subclass__',\n",
       " '__iter__',\n",
       " '__le__',\n",
       " '__len__',\n",
       " '__lt__',\n",
       " '__mod__',\n",
       " '__mul__',\n",
       " '__ne__',\n",
       " '__new__',\n",
       " '__reduce__',\n",
       " '__reduce_ex__',\n",
       " '__repr__',\n",
       " '__rmod__',\n",
       " '__rmul__',\n",
       " '__setattr__',\n",
       " '__sizeof__',\n",
       " '__str__',\n",
       " '__subclasshook__',\n",
       " 'capitalize',\n",
       " 'casefold',\n",
       " 'center',\n",
       " 'count',\n",
       " 'encode',\n",
       " 'endswith',\n",
       " 'expandtabs',\n",
       " 'find',\n",
       " 'format',\n",
       " 'format_map',\n",
       " 'index',\n",
       " 'isalnum',\n",
       " 'isalpha',\n",
       " 'isascii',\n",
       " 'isdecimal',\n",
       " 'isdigit',\n",
       " 'isidentifier',\n",
       " 'islower',\n",
       " 'isnumeric',\n",
       " 'isprintable',\n",
       " 'isspace',\n",
       " 'istitle',\n",
       " 'isupper',\n",
       " 'join',\n",
       " 'ljust',\n",
       " 'lower',\n",
       " 'lstrip',\n",
       " 'maketrans',\n",
       " 'partition',\n",
       " 'removeprefix',\n",
       " 'removesuffix',\n",
       " 'replace',\n",
       " 'rfind',\n",
       " 'rindex',\n",
       " 'rjust',\n",
       " 'rpartition',\n",
       " 'rsplit',\n",
       " 'rstrip',\n",
       " 'split',\n",
       " 'splitlines',\n",
       " 'startswith',\n",
       " 'strip',\n",
       " 'swapcase',\n",
       " 'title',\n",
       " 'translate',\n",
       " 'upper',\n",
       " 'zfill']"
      ]
     },
     "execution_count": 2,
     "metadata": {},
     "output_type": "execute_result"
    }
   ],
   "source": [
    "dir('')"
   ]
  },
  {
   "cell_type": "markdown",
   "id": "3cf05933",
   "metadata": {},
   "source": [
    "Some of the familiar string methods like `lower`, `split` and `isnumeric` can be seen in the output returned."
   ]
  },
  {
   "cell_type": "markdown",
   "id": "33d692d4",
   "metadata": {},
   "source": [
    "When creating classes in Python, the `class` keyword is used, followed by the desired class name and a colon (:), in a manner similar to defining functions. The recommended way of naming a class is with a capital letter.\n",
    "\n",
    "The class body is indented to the right. Inside the class body, we define the attributes and methods for the instances of the class.\n",
    "\n",
    "**Example** - An Apple Class"
   ]
  },
  {
   "cell_type": "code",
   "execution_count": 3,
   "id": "bfff1f81",
   "metadata": {},
   "outputs": [],
   "source": [
    "class Apple:\n",
    "    \n",
    "    color = \"\"\n",
    "    flavor = \"\""
   ]
  },
  {
   "cell_type": "markdown",
   "id": "b780c159",
   "metadata": {},
   "source": [
    "New instance for the `Apple` class can be created by assigning a variable. This is done by calling the class name.\n",
    "\n",
    "The attributes for the class instance can be set by accessing them using dot notation.\n",
    "\n",
    "The dot notation can be used to set or retrieve object attributes, as well as call methods associated with the class."
   ]
  },
  {
   "cell_type": "code",
   "execution_count": 4,
   "id": "a5ef6dbc",
   "metadata": {},
   "outputs": [],
   "source": [
    "# Creating an instance\n",
    "first_apple = Apple()\n",
    "\n",
    "# Setting the 'color' attribute\n",
    "first_apple.color = \"red\"\n",
    "\n",
    "# Setting the 'flavor' attribute\n",
    "first_apple.flavor = \"sweet\""
   ]
  },
  {
   "cell_type": "markdown",
   "id": "89aa21df",
   "metadata": {},
   "source": [
    "Another instance of an Apple can be created in Python and assigned different attributes to differentiate between two different varieties of apples."
   ]
  },
  {
   "cell_type": "code",
   "execution_count": 5,
   "id": "d80d5db4",
   "metadata": {},
   "outputs": [],
   "source": [
    "second_apple = Apple()\n",
    "\n",
    "second_apple.color = 'green'\n",
    "\n",
    "second_apple.flavor = 'soft'"
   ]
  },
  {
   "cell_type": "markdown",
   "id": "e90bdc97",
   "metadata": {},
   "source": [
    "### Program 22\n",
    "---\n",
    "\n",
    "Creating new instances of class objects can be a great way to keep track of values using attributes associated with the object. The values of these attributes can be easily changed at the object level.  \n",
    "\n",
    "The following code illustrates a famous quote by George Bernard Shaw, using objects to represent people. \n",
    "\n",
    "Complete the code satisfy the behavior described in the quote. "
   ]
  },
  {
   "attachments": {},
   "cell_type": "markdown",
   "id": "232924a9",
   "metadata": {},
   "source": [
    "#### “If you have an apple and I have an apple and we exchange these apples then\n",
    "#### you and I will still each have one apple. But if you have an idea and I have\n",
    "#### an idea and we exchange these ideas, then each of us will have two ideas.”\n",
    "#### George Bernard Shaw"
   ]
  },
  {
   "cell_type": "code",
   "execution_count": 1,
   "id": "d4231c48",
   "metadata": {},
   "outputs": [
    {
     "name": "stdout",
     "output_type": "stream",
     "text": [
      "Johanna has 2 apples and Martin has 1 apples\n",
      "Johanna has 5 ideas and Martin has 5 ideas\n"
     ]
    }
   ],
   "source": [
    "\n",
    "class Person:\n",
    "    apples = 0\n",
    "    ideas = 0\n",
    "\n",
    "johanna = Person()\n",
    "johanna.apples = 1\n",
    "johanna.ideas = 3\n",
    "\n",
    "martin = Person()\n",
    "martin.apples = 2\n",
    "martin.ideas = 2\n",
    "\n",
    "def exchange_apples(you, me):\n",
    "    \n",
    "    #Here, despite G.B. Shaw's quote, our characters have started with       \n",
    "    #different amounts of apples so we can better observe the results. \n",
    "\n",
    "    #We're going to have Martin and Johanna exchange ALL their apples with #one another.\n",
    "\n",
    "    #Hint: how would you switch values of variables, \n",
    "    #so that \"you\" and \"me\" will exchange ALL their apples with one another?\n",
    "\n",
    "    you.apples, me.apples = me.apples, you.apples\n",
    "    return you.apples, me.apples\n",
    "    \n",
    "def exchange_ideas(you, me):\n",
    "    \n",
    "    #\"you\" and \"me\" will share our ideas with one another.\n",
    "    #What operations need to be performed, so that each object receives\n",
    "    #the shared number of ideas?\n",
    "    \n",
    "    #Hint: how would you assign the total number of ideas to \n",
    "    #each idea attribute? Do you need a temporary variable to store \n",
    "    #the sum of ideas, or can you find another way? \n",
    "    \n",
    "    you_share = you.ideas\n",
    "    me_share = me.ideas\n",
    "        \n",
    "    you.ideas += me_share\n",
    "    me.ideas += you_share\n",
    "    return you.ideas, me.ideas\n",
    "\n",
    "exchange_apples(johanna, martin)\n",
    "print(\"Johanna has {} apples and Martin has {} apples\".format(johanna.apples, martin.apples))\n",
    "exchange_ideas(johanna, martin)\n",
    "print(\"Johanna has {} ideas and Martin has {} ideas\".format(johanna.ideas, martin.ideas))\n"
   ]
  },
  {
   "cell_type": "markdown",
   "id": "6b9537f5",
   "metadata": {},
   "source": [
    "### Program 23\n",
    "---\n",
    "The City class has the following attributes: `name`, `country` (where the city is located), `elevation` (measured in meters), and `population` (approximate, according to recent statistics). \n",
    "\n",
    "Fill in the blanks of the `max_elevation_city` function to return the name of the city and its country (separated by a comma), when comparing the 3 defined instances for a specified minimal population. \n",
    "\n",
    "**For example**, calling the function for a minimum population of 1 million: `max_elevation_city(1000000)` should return `Sofia, Bulgaria`. "
   ]
  },
  {
   "cell_type": "code",
   "execution_count": 7,
   "id": "42a38609",
   "metadata": {},
   "outputs": [],
   "source": [
    "# define a basic city class\n",
    "\n",
    "class City:\n",
    "    \n",
    "    name = \"\"\n",
    "    country = \"\"\n",
    "    elevation = 0\n",
    "    population = 0\n",
    "    \n",
    "    \n",
    "# create a new instance of the City class and\n",
    "# define each attribute\n",
    "\n",
    "city1 = City()\n",
    "city1.name = \"Cusco\"\n",
    "city1.country = \"Peru\"\n",
    "city1.elevation = 3399\n",
    "city1.population = 358052\n",
    "\n",
    "# create a new instance of the City class and\n",
    "# define each attribute\n",
    "\n",
    "city2 = City()\n",
    "city2.name = \"Sofia\"\n",
    "city2.country = \"Bulgaria\"\n",
    "city2.elevation = 2290\n",
    "city2.population = 1241675\n",
    "\n",
    "# create a new instance of the City class and\n",
    "# define each attribute\n",
    "\n",
    "city3 = City()\n",
    "city3.name = \"Seoul\"\n",
    "city3.country = \"South Korea\"\n",
    "city3.elevation = 38\n",
    "city3.population = 9733509\n",
    "\n",
    "def max_elevation_city(min_population):\n",
    "    \n",
    "    return_city = City()\n",
    "    highest_ele = 0\n",
    "    \n",
    "    \n",
    "    # Evaluating the 1st instance to meet the requirements:\n",
    "    # does city1 have at least min_population\n",
    "    # and is its elevation the highest evaluated so far\n",
    "    \n",
    "    if city1.population >= min_population and highest_ele < city1.elevation:\n",
    "        \n",
    "        return_city = city1\n",
    "        highest_ele = city1.elevation\n",
    "        \n",
    "        \n",
    "    # Evaluating the 2nd instance to meet the requirements:\n",
    "    # does city2 have at least min_population and \n",
    "    # is its elevation the highest evaluated so far?\n",
    "    \n",
    "    if city2.population >= min_population and highest_ele < city2.elevation:\n",
    "        \n",
    "        return_city = city2\n",
    "        highest_ele = city2.elevation\n",
    "        \n",
    "        \n",
    "    # Evaluating the 3rd instance to meet the requirements:\n",
    "    # does city3 have at least min_population and\n",
    "    # is its elevation the highest evaluated so far?\n",
    "    \n",
    "    if city3.population >= min_population and highest_ele < city3.elevation:\n",
    "        \n",
    "        return_city = city3\n",
    "        highest_ele = city3.elevation\n",
    "        \n",
    "        \n",
    "    # Formatting the return string\n",
    "    \n",
    "    if return_city.name:\n",
    "        return \"{}, {}\".format(return_city.name, return_city.country)\n",
    "    else:\n",
    "        return \"\""
   ]
  },
  {
   "cell_type": "code",
   "execution_count": 8,
   "id": "7fd3be9c",
   "metadata": {},
   "outputs": [
    {
     "name": "stdout",
     "output_type": "stream",
     "text": [
      "Run 1\n",
      "Cusco, Peru\n",
      "\n",
      "Run 2\n",
      "Sofia, Bulgaria\n",
      "\n",
      "Run 3\n",
      "\n"
     ]
    }
   ],
   "source": [
    "# Should print \"Cusco, Peru\"\n",
    "print(\"Run 1\")\n",
    "print(max_elevation_city(100000),end=\"\\n\\n\")\n",
    "\n",
    "# Should print \"Sofia, Bulgaria\"\n",
    "print(\"Run 2\")\n",
    "print(max_elevation_city(1000000),end=\"\\n\\n\")\n",
    "\n",
    "\n",
    "# Should print \"\"\n",
    "print(\"Run 3\")\n",
    "print(max_elevation_city(10000000))     \n",
    "    "
   ]
  },
  {
   "cell_type": "markdown",
   "id": "9f3fb112",
   "metadata": {},
   "source": [
    "### Program 24\n",
    "---\n",
    "\n",
    "There are two pieces of furniture: a brown wood table and a red leather couch. \n",
    "\n",
    "Complete the code so that the `describe_furniture` function can format a sentence that describes these pieces as follows: \n",
    "\n",
    "`This piece of furniture is made of {color} {material}`."
   ]
  },
  {
   "cell_type": "code",
   "execution_count": 9,
   "id": "eed745d5",
   "metadata": {},
   "outputs": [
    {
     "name": "stdout",
     "output_type": "stream",
     "text": [
      "Run 1\n",
      "This piece of furniture is made of brown wood\n",
      "\n",
      "Run 2\n",
      "This piece of furniture is made of red leather\n",
      "\n"
     ]
    }
   ],
   "source": [
    "class Furniture:\n",
    "    color = \"\"\n",
    "    material = \"\"\n",
    "    \n",
    "\n",
    "table = Furniture()\n",
    "table.color = \"brown\"\n",
    "table.material = \"wood\"\n",
    "\n",
    "\n",
    "couch = Furniture()\n",
    "couch.color = \"red\"\n",
    "couch.material = \"leather\"\n",
    "\n",
    "\n",
    "def describe_furniture(piece):\n",
    "    return (\"This piece of furniture is made of {} {}\".format(piece.color, piece.material))\n",
    "\n",
    "\n",
    "# Should be \"This piece of furniture is made of brown wood\"\n",
    "print(\"Run 1\")\n",
    "print(describe_furniture(table),end=\"\\n\\n\") \n",
    "\n",
    "\n",
    "# Should be \"This piece of furniture is made of red leather\"\n",
    "print(\"Run 2\")\n",
    "print(describe_furniture(couch),end=\"\\n\\n\")"
   ]
  },
  {
   "attachments": {},
   "cell_type": "markdown",
   "id": "ac42fd27",
   "metadata": {},
   "source": [
    "### Classes and Methods\n",
    "---\n",
    "\n",
    "Calling `methods` on objects executes functions that operate on attributes of a specific instance of the class. This means that calling a method on a list, **for example**, only modifies that instance of a list, and not all lists globally. \n",
    "\n",
    "Methods can be defined in a class by creating functions within the class definition. These instance methods can take a parameter called `self` which represents the instance the method is being executed on. This allows to access attributes of the instance using dot notation, like `self.name`, which will access the name attribute of that specific instance of the class object. \n",
    "\n",
    "**Instance variables** are variables that contain different values for different instances. They are unique to each instance of a class and can be accessed and modified using object notation. \n",
    "\n",
    "**For example**, if there is a class `Person`, each instance of Person may have a different name, age, and address."
   ]
  },
  {
   "cell_type": "markdown",
   "id": "2024df24",
   "metadata": {},
   "source": [
    "Let's define a class called `Piglet` and add a method for it."
   ]
  },
  {
   "cell_type": "code",
   "execution_count": 3,
   "id": "15be0902",
   "metadata": {},
   "outputs": [],
   "source": [
    "class Piglet:\n",
    "    \n",
    "    def speak(self):\n",
    "        print(\"oink oink\")"
   ]
  },
  {
   "cell_type": "markdown",
   "id": "765a0b30",
   "metadata": {},
   "source": [
    "- The method for a class is defined with the `def` keyword, just like defining a function.\n",
    "\n",
    "- This line is indented to the right inside the `Piglet` class, indicating that its a method of that class.\n",
    "\n",
    "- The method is recieving a parameter called `self`, which represents the instance that the method is being executed on."
   ]
  },
  {
   "cell_type": "code",
   "execution_count": 4,
   "id": "2669a171",
   "metadata": {},
   "outputs": [
    {
     "name": "stdout",
     "output_type": "stream",
     "text": [
      "oink oink\n"
     ]
    }
   ],
   "source": [
    "hamlet = Piglet()\n",
    "\n",
    "hamlet.speak()"
   ]
  },
  {
   "attachments": {},
   "cell_type": "markdown",
   "id": "dd6eebd4",
   "metadata": {},
   "source": [
    "In this updated `speak()` method for the class **Piglet**, it's using the value of `self.name`, which is the attribute of the instance, to know which name to print."
   ]
  },
  {
   "cell_type": "code",
   "execution_count": 12,
   "id": "42c9ecac",
   "metadata": {},
   "outputs": [],
   "source": [
    "class Piglet:\n",
    "    \n",
    "    name = \"\"\n",
    "    \n",
    "    def speak(self):\n",
    "        print(\"Oink! I'm {}! Oink!\".format(self.name))"
   ]
  },
  {
   "cell_type": "code",
   "execution_count": 13,
   "id": "f6d0b02d",
   "metadata": {},
   "outputs": [
    {
     "name": "stdout",
     "output_type": "stream",
     "text": [
      "Oink! I'm Hamlet! Oink!\n"
     ]
    }
   ],
   "source": [
    "hamlet = Piglet()\n",
    "hamlet.name = \"Hamlet\"\n",
    "\n",
    "hamlet.speak()"
   ]
  },
  {
   "cell_type": "code",
   "execution_count": 14,
   "id": "9e21e138",
   "metadata": {},
   "outputs": [
    {
     "name": "stdout",
     "output_type": "stream",
     "text": [
      "Oink! I'm Petunia! Oink!\n"
     ]
    }
   ],
   "source": [
    "petunia = Piglet()\n",
    "petunia.name = \"Petunia\"\n",
    "\n",
    "petunia.speak()"
   ]
  },
  {
   "cell_type": "markdown",
   "id": "fcdc8834",
   "metadata": {},
   "source": [
    "Since methods are just functions that belong to a specific class, they can work as any other functions. So, they can receive more parameters and return values if needed."
   ]
  },
  {
   "cell_type": "code",
   "execution_count": 15,
   "id": "bd5740b1",
   "metadata": {},
   "outputs": [],
   "source": [
    "class Piglet():\n",
    "    \n",
    "    name = \"\"\n",
    "    years = 0\n",
    "    \n",
    "    def speak(self):\n",
    "        print(\"Oink! I am {}! Oink\".format(self.name))\n",
    "        \n",
    "    def pig_years(self):\n",
    "        return self.years * 18"
   ]
  },
  {
   "cell_type": "code",
   "execution_count": 16,
   "id": "84817f35",
   "metadata": {},
   "outputs": [
    {
     "name": "stdout",
     "output_type": "stream",
     "text": [
      "36\n"
     ]
    }
   ],
   "source": [
    "piggy = Piglet()\n",
    "piggy.years = 2\n",
    "\n",
    "print(piggy.pig_years())"
   ]
  },
  {
   "cell_type": "markdown",
   "id": "91926987",
   "metadata": {},
   "source": [
    "### Constructors \n",
    "---\n",
    "\n",
    "Instead of creating classes with empty or default values, the values can be set when creating the instance.\n",
    "\n",
    "To do this, a special method called a **constructor** is used.\n",
    "\n",
    "Below is an example of `Apple` class with a constructor method defined."
   ]
  },
  {
   "cell_type": "code",
   "execution_count": 17,
   "id": "967d90b2",
   "metadata": {},
   "outputs": [],
   "source": [
    "class Apple:\n",
    "    \n",
    "    def __init__(self,color,flavor):\n",
    "        \n",
    "        self.color = color\n",
    "        self.flavor = flavor"
   ]
  },
  {
   "cell_type": "markdown",
   "id": "bfb5a70d",
   "metadata": {},
   "source": [
    "When the name of the class is called, the constructor in that class is evoked. This constructor method is always named `__init__`. Special methods start and end with two underscore characters.\n",
    "\n",
    "In the example above, the constructor method takes the self variable, which represents the instance, as well as `color` and `flavor` parameters. These parameters are then used by the constructor method to set the values for the attributes.\n",
    "\n",
    "Now, the new instance of Apple class can be created and the attributes can be set in one go."
   ]
  },
  {
   "cell_type": "code",
   "execution_count": 18,
   "id": "32cfefa0",
   "metadata": {},
   "outputs": [
    {
     "name": "stdout",
     "output_type": "stream",
     "text": [
      "Color of jonagold is red\n"
     ]
    }
   ],
   "source": [
    "jonagold = Apple('red', 'sweet')\n",
    "\n",
    "print(\"Color of jonagold is {}\".format(jonagold.color))"
   ]
  },
  {
   "cell_type": "markdown",
   "id": "dc3968c7",
   "metadata": {},
   "source": [
    "When attempting to print the instance of an apple, a cryptic message is displayed."
   ]
  },
  {
   "cell_type": "code",
   "execution_count": 19,
   "id": "08949a94",
   "metadata": {},
   "outputs": [
    {
     "name": "stdout",
     "output_type": "stream",
     "text": [
      "<__main__.Apple object at 0x103ab9bb0>\n"
     ]
    }
   ],
   "source": [
    "print(jonagold)"
   ]
  },
  {
   "cell_type": "markdown",
   "id": "57e4ef1f",
   "metadata": {},
   "source": [
    "This message indicates that the object is an instance of the `Apple` class and provides the memory location of the object in hexadecimal format. This method of printing an object is known as **default representation**.\n",
    "\n",
    "The `__str__` special method allows us to define how an instance of an object will be printed when it's passed to the `print()` function. If an object doesn't have this special method defined, it will wind up using the default representation, which will print the position of the object in memory.\n",
    "\n",
    "Here's the Apple class, with the `__str__` method:"
   ]
  },
  {
   "cell_type": "code",
   "execution_count": 20,
   "id": "ce92808f",
   "metadata": {},
   "outputs": [],
   "source": [
    "class Apple:\n",
    "    \n",
    "    def __init__(self,color,flavor):\n",
    "        \n",
    "        self.color = color\n",
    "        self.flavor = flavor\n",
    "        \n",
    "    def __str__(self):\n",
    "        return (\"This apple is {} and its flavor is {}\".format(self.color,self.flavor))"
   ]
  },
  {
   "cell_type": "markdown",
   "id": "11993c77",
   "metadata": {},
   "source": [
    "Now, passing an Apple object to the print function returns a nice formatted string."
   ]
  },
  {
   "cell_type": "code",
   "execution_count": 21,
   "id": "59a51cf7",
   "metadata": {},
   "outputs": [
    {
     "name": "stdout",
     "output_type": "stream",
     "text": [
      "This apple is red and its flavor is sweet\n"
     ]
    }
   ],
   "source": [
    "jonagold = Apple('red','sweet')\n",
    "\n",
    "print(jonagold)"
   ]
  },
  {
   "cell_type": "markdown",
   "id": "82211032",
   "metadata": {},
   "source": [
    "### Inheritance\n",
    "---\n",
    "\n",
    "In Object-Oriented Programming, **Inheritance** is a mechanism that allows us to define a new class based on an existing class, inheriting all the attributes and behaviors of the parent class. Inheritance promotes the idea of code reusability, as the new class can reuse the code and attributes from the parent class, without having to redefine them.\n",
    "\n",
    "The existing class is called the `parent class`, and the new class is called the `child class`. The child class can add or override attributes and methods of the parent class, or it can simply inherit them as they are. This helps to group together similar concepts and create a more organized class hierarchy.\n",
    "\n",
    "\n",
    "**For example**, let's create a custom `Fruit` class with `color` and `flavor` attributes."
   ]
  },
  {
   "cell_type": "code",
   "execution_count": 22,
   "id": "4975e7a1",
   "metadata": {},
   "outputs": [],
   "source": [
    "class Fruit:\n",
    "    \n",
    "    def __init__(self,color,flavor):\n",
    "        self.color = color\n",
    "        self.flavor = flavor"
   ]
  },
  {
   "cell_type": "markdown",
   "id": "2759be05",
   "metadata": {},
   "source": [
    "Having defined a `Fruit` class with a constructor for `color` and `flavor` attributes, next we will define an `Apple` class along with a new `Grape` class, both of which will inherit properties and behaviors from the `Fruit` class."
   ]
  },
  {
   "cell_type": "code",
   "execution_count": 23,
   "id": "02071978",
   "metadata": {},
   "outputs": [],
   "source": [
    "class Apple(Fruit):\n",
    "    pass\n",
    "\n",
    "\n",
    "class Grape(Fruit):\n",
    "    pass"
   ]
  },
  {
   "attachments": {},
   "cell_type": "markdown",
   "id": "c62618f9",
   "metadata": {},
   "source": [
    "In Python, parentheses is used in class declaration to mention the base class from which the defining class with inherit.\n",
    "\n",
    "So, in this example, the code instructs both `Apple` and `Grape` class to inherit from the `Fruit` class. This means that both have the same constructor method which sets the color and flavor attributes.\n",
    "\n",
    "Now, the instances of `Apple` and `Grape` classes can be created:"
   ]
  },
  {
   "cell_type": "code",
   "execution_count": 24,
   "id": "90afb42e",
   "metadata": {},
   "outputs": [
    {
     "name": "stdout",
     "output_type": "stream",
     "text": [
      "tart\n",
      "purple\n"
     ]
    }
   ],
   "source": [
    "first_fruit = Apple(\"green\", \"tart\")\n",
    "second_fruit = Grape('purple', 'sweet')\n",
    "\n",
    "print(first_fruit.flavor)\n",
    "print(second_fruit.color)"
   ]
  },
  {
   "cell_type": "markdown",
   "id": "204baf2e",
   "metadata": {},
   "source": [
    "With Inheritance, one can define common attributes and methods for all types of fruits in Object-Oriented Programming without having to repeatedly define them in each individual fruit class. It allows the grouping of similar concepts and reduces code duplication.\n",
    "\n",
    "Additionally, one can specify unique attributes or methods that are applicable to a specific type of fruit."
   ]
  },
  {
   "cell_type": "markdown",
   "id": "a6cd24d0",
   "metadata": {},
   "source": [
    "Let's look at another **example**, this time involving animals:"
   ]
  },
  {
   "cell_type": "code",
   "execution_count": 25,
   "id": "8d7cf809",
   "metadata": {},
   "outputs": [],
   "source": [
    "class Animal:\n",
    "    \n",
    "    def __init__(self,name,sound):\n",
    "        self.name = name\n",
    "        self.sound = sound\n",
    "        \n",
    "    def speak(self):\n",
    "        print(\"{}, I am {}! {}\".format(self.sound,self.name,self.sound))\n",
    "        \n",
    "        \n",
    "class Dog(Animal):\n",
    "    pass\n",
    "\n",
    "\n",
    "class Cat(Animal):\n",
    "    pass"
   ]
  },
  {
   "cell_type": "markdown",
   "id": "c7ee5a4e",
   "metadata": {},
   "source": [
    "We defined a parent class `Animal`, with two animal subclasses inheriting from that class: `Cat` and `Dog`.\n",
    "\n",
    "The parent `Animal` class has a constructor class takes the name and sound the animal makes, assigning it to the instance when it's created. \n",
    "\n",
    "There is also the `speak()` method, which will print the name of the animal along with the sound it makes.\n",
    "\n",
    "The `Cat` and `Dog` classes are defined, which inherit from the `Animal` class. Now, we create the instance and let the animals speak."
   ]
  },
  {
   "cell_type": "code",
   "execution_count": 26,
   "id": "208c08b4",
   "metadata": {},
   "outputs": [
    {
     "name": "stdout",
     "output_type": "stream",
     "text": [
      "meow, I am Jeff! meow\n",
      "ruff ruff, I am Cookie! ruff ruff\n"
     ]
    }
   ],
   "source": [
    "doggo = Dog('Cookie','ruff ruff')\n",
    "catto = Cat('Jeff', 'meow')\n",
    "\n",
    "catto.speak()\n",
    "doggo.speak()"
   ]
  },
  {
   "cell_type": "markdown",
   "id": "5c7cb9d5",
   "metadata": {},
   "source": [
    "Upon calling the `speak()` method on each instance, the formatted string is printed, which includes the sound of the animal type, along with the name assigned with the instance."
   ]
  },
  {
   "cell_type": "markdown",
   "id": "a1ff8844",
   "metadata": {},
   "source": [
    "### Object Composition\n",
    "---\n",
    "\n",
    "There can be situations during writing code where two different classes are related, but there is no inheritance going on. This is referred to as **composition** - where one class makes use of code contained in another class.\n",
    "\n",
    "For example, imagine we have a `Package` class which represents a software package. It contains attributes about the software package, like `name`, `version`, and `size`. We also have a **Repository** class which represents all the packages for installation.\n",
    "\n",
    "While there is no inheritance relationship between two classes, they are related. The `Repository` class will contain a dictionary or list of Packages that are contained in the repository."
   ]
  },
  {
   "cell_type": "code",
   "execution_count": 27,
   "id": "7475210a",
   "metadata": {},
   "outputs": [],
   "source": [
    "class Repository:\n",
    "    \n",
    "    def __init__(self):\n",
    "        \n",
    "        self.packages = {}\n",
    "        \n",
    "    def add_package(self,package):\n",
    "        \n",
    "            self.packages[package.name] = package.size\n",
    "            \n",
    "    def total_size(self):\n",
    "        \n",
    "        result = 0\n",
    "        \n",
    "        for package in self.packages.values():\n",
    "                result += package\n",
    "                \n",
    "        return result\n",
    "    \n",
    "    def __str__(self):\n",
    "        return \"repo dict: {}\".format(self.packages)"
   ]
  },
  {
   "cell_type": "code",
   "execution_count": 28,
   "id": "45a02551",
   "metadata": {},
   "outputs": [],
   "source": [
    "class Package:\n",
    "    \n",
    "    def __init__(self,name,version,size):\n",
    "        \n",
    "        self.name = name\n",
    "        self.version = version\n",
    "        self.size = size\n",
    "        \n",
    "    def __str__(self):\n",
    "        return \"Name: {} | Version: {} | Size: {}\".format(self.name,self.version,self.size)"
   ]
  },
  {
   "cell_type": "markdown",
   "id": "0fb2d5c7",
   "metadata": {},
   "source": [
    "In the **constructor method**, we initialize the packages dictionary, which will contain the package objects available in this repository instance. We initialize the dictionary in the constructor to ensure that every instance of the Repository class has its own dictionary.\n",
    "\n",
    "We then define the `add_package` method, which takes a Package object as a parameter, and then adds it to our dictionary, using the package name attribute as the key.\n",
    "\n",
    "Finally, we define a `total_size` method which computes the total size of all packages contained in our repository. This method iterates through the values in our repository dictionary and adds together the size attributes from each package object contained in the dictionary, returning the total at the end. \n",
    "\n",
    "In this example, we’re making use of Package attributes within our Repository class. We’re also calling the `values()` method on our packages dictionary instance. Composition allows us to use objects as attributes, as well as access all their attributes and methods."
   ]
  },
  {
   "cell_type": "code",
   "execution_count": 29,
   "id": "e6de1c73",
   "metadata": {},
   "outputs": [],
   "source": [
    "package1 = Package('Matlab2023','7.4',789)\n",
    "package2 = Package('Spotify', '3.0.1', 340)\n",
    "package3 = Package('VS Code', '7.1.1', 584)"
   ]
  },
  {
   "cell_type": "code",
   "execution_count": 30,
   "id": "74f98ffd",
   "metadata": {},
   "outputs": [
    {
     "name": "stdout",
     "output_type": "stream",
     "text": [
      "Name: Matlab2023 | Version: 7.4 | Size: 789\n"
     ]
    }
   ],
   "source": [
    "print(package1)"
   ]
  },
  {
   "cell_type": "code",
   "execution_count": 31,
   "id": "fbeb5fec",
   "metadata": {},
   "outputs": [],
   "source": [
    "# Creating an instance for Repository class\n",
    "repo1 = Repository()"
   ]
  },
  {
   "cell_type": "code",
   "execution_count": 32,
   "id": "fb24c750",
   "metadata": {},
   "outputs": [
    {
     "name": "stdout",
     "output_type": "stream",
     "text": [
      "repo dict: {'Matlab2023': 789, 'Spotify': 340, 'VS Code': 584}\n"
     ]
    }
   ],
   "source": [
    "# Using the 'add_package()' method to add packages\n",
    "# to the instance of Repository\n",
    "\n",
    "repo1.add_package(package1)\n",
    "repo1.add_package(package2)\n",
    "repo1.add_package(package3)\n",
    "\n",
    "print(repo1)"
   ]
  },
  {
   "cell_type": "code",
   "execution_count": 33,
   "id": "5be1c526",
   "metadata": {},
   "outputs": [
    {
     "name": "stdout",
     "output_type": "stream",
     "text": [
      "Total size for repository: 1713 MB\n"
     ]
    }
   ],
   "source": [
    "print(\"Total size for repository: {} MB\".format(repo1.total_size()))"
   ]
  },
  {
   "cell_type": "markdown",
   "id": "b8475e66",
   "metadata": {},
   "source": [
    "---"
   ]
  }
 ],
 "metadata": {
  "kernelspec": {
   "display_name": "Python 3 (ipykernel)",
   "language": "python",
   "name": "python3"
  },
  "language_info": {
   "codemirror_mode": {
    "name": "ipython",
    "version": 3
   },
   "file_extension": ".py",
   "mimetype": "text/x-python",
   "name": "python",
   "nbconvert_exporter": "python",
   "pygments_lexer": "ipython3",
   "version": "3.10.7"
  }
 },
 "nbformat": 4,
 "nbformat_minor": 5
}