{
 "cells": [
  {
   "attachments": {},
   "cell_type": "markdown",
   "id": "f7ce78c5",
   "metadata": {},
   "source": [
    "# Dictionaries\n",
    "---\n",
    "\n",
    "**Learning Objectives**\n",
    "\n",
    "- Leverage dictionaries to store more complex data, reference data by keys, and manipulate data stored\n",
    "\n",
    "---"
   ]
  },
  {
   "attachments": {},
   "cell_type": "markdown",
   "id": "19844672",
   "metadata": {},
   "source": [
    "Dictionaries are a data structure in Python that are used to organize data into collections. Unlike lists, the data in a dictionary is not accessed based on its position. Instead, it is organized into pairs of keys and values. The key is used to access the corresponding value. A dictionary key can be a different data type, such as a string, integer, float, or tuple.\n",
    "\n",
    "- To create a dictionary, you use curly brackets: `{}`. \n",
    "\n",
    "- To store values in a dictionary, you first specify the key, followed by a colon and the corresponding value, seperated by a comma. \n",
    "\n",
    "                For example, animals = {\"bears\": 10, \"lions\": 1, \"tigers\": 2}\n",
    "    \n",
    "The above block represents a dictionary with three key-value pairs, stored in the variable **animals**. The key `\"bears\"` points to the integer value `10`, while the key `\"lions\"` points to the integer value `1`, and `\"tigers\"` points to the integer `2`.\n",
    "\n",
    "- To access the values, the key can be referenced, like this: animals[\"bears\"]. This returns the integer 10, since that is the corresponding value for this key.\n"
   ]
  },
  {
   "attachments": {},
   "cell_type": "markdown",
   "id": "1bd6838d",
   "metadata": {},
   "source": [
    "### Initializing Dictionaries"
   ]
  },
  {
   "cell_type": "code",
   "execution_count": 1,
   "id": "4349f7db",
   "metadata": {},
   "outputs": [
    {
     "name": "stdout",
     "output_type": "stream",
     "text": [
      "Dictionary: {}\n",
      "Type: <class 'dict'>\n"
     ]
    }
   ],
   "source": [
    "empty_dict = {}\n",
    "\n",
    "print(\"Dictionary: {}\".format(empty_dict))\n",
    "print(\"Type: {}\".format(type(empty_dict)))"
   ]
  },
  {
   "cell_type": "code",
   "execution_count": 2,
   "id": "d5996488",
   "metadata": {},
   "outputs": [
    {
     "name": "stdout",
     "output_type": "stream",
     "text": [
      "Number of bears: 10\n"
     ]
    }
   ],
   "source": [
    "animals = {\"bears\": 10, \"lions\": 1, \"tigers\": 2}\n",
    "\n",
    "print(\"Number of bears: {}\".format(animals['bears']))"
   ]
  },
  {
   "cell_type": "markdown",
   "id": "ba53cc85",
   "metadata": {},
   "source": [
    "The `in` keyword can be used to check if a key is present in a dictionary. If the key is found in the dictionary, it returns `True`, otherwise it returns `False'."
   ]
  },
  {
   "cell_type": "code",
   "execution_count": 3,
   "id": "545296dd",
   "metadata": {},
   "outputs": [
    {
     "name": "stdout",
     "output_type": "stream",
     "text": [
      "lion in dictionary: True\n",
      "\n",
      "zebra in dictionary: False\n"
     ]
    }
   ],
   "source": [
    "print(\"lion in dictionary: {}\".format(\"lions\" in animals),end=\"\\n\\n\")\n",
    "\n",
    "print(\"zebra in dictionary: {}\".format(\"zebras\" in animals))"
   ]
  },
  {
   "attachments": {},
   "cell_type": "markdown",
   "id": "6bf3847e",
   "metadata": {},
   "source": [
    "### Mutability of Dictionaries"
   ]
  },
  {
   "cell_type": "markdown",
   "id": "7cabdef1",
   "metadata": {},
   "source": [
    "Dictionaries are `mutable`, meaning they can be modified by adding, removing, and replacing elements.\n",
    "\n",
    "- A new `key-value` pair can be added to a dictionary by assigning a value to a new key.\n",
    "\n",
    "- Value of an existing key in the dictionary is also modified the same way. \n",
    "\n",
    "- The `del` keyword helps in removing elements from a dictionary."
   ]
  },
  {
   "cell_type": "code",
   "execution_count": 4,
   "id": "9e801783",
   "metadata": {},
   "outputs": [
    {
     "name": "stdout",
     "output_type": "stream",
     "text": [
      "Dictionary after adding Zebras: {'bears': 10, 'lions': 1, 'tigers': 2, 'zebras': 25}\n",
      "\n",
      "Lion population changes: {'bears': 10, 'lions': 50, 'tigers': 2, 'zebras': 25}\n",
      "\n",
      "Final dictionary: {'bears': 10, 'lions': 50, 'zebras': 25}\n",
      "\n"
     ]
    }
   ],
   "source": [
    "# Adding a new key-value pair: zebra - 25\n",
    "animals['zebras'] = 25\n",
    "print(\"Dictionary after adding Zebras: {}\".format(animals),end=\"\\n\\n\")\n",
    "\n",
    "# Changing value of existing key: lions - 50\n",
    "animals['lions'] = 50\n",
    "print(\"Lion population changes: {}\".format(animals),end=\"\\n\\n\")\n",
    "\n",
    "# Removing 'tigers' from the dictionary\n",
    "del(animals['tigers'])\n",
    "print(\"Final dictionary: {}\".format(animals),end=\"\\n\\n\")"
   ]
  },
  {
   "cell_type": "markdown",
   "id": "6dffa5fb",
   "metadata": {},
   "source": [
    "In Python, we can iterate over dictionaries using a `for loop`, similar to strings, lists, and tuples. However, since dictionaries have `key-value pairs`, the for loop will iterate over the sequence of keys in the dictionary. To access the corresponding values associated with the keys, we can use the keys as indexes.\n",
    "\n",
    " Alternatively, we can use the `items()` method on the dictionary, which returns a tuple for each element in the dictionary where the first element in the tuple is the key and the second element is the value.\n"
   ]
  },
  {
   "cell_type": "code",
   "execution_count": 5,
   "id": "5b719052",
   "metadata": {},
   "outputs": [
    {
     "name": "stdout",
     "output_type": "stream",
     "text": [
      "{'bears': 10, 'lions': 50, 'zebras': 25}\n",
      "\n",
      "There are 10 bears in the zoo.\n",
      "There are 50 lions in the zoo.\n",
      "There are 25 zebras in the zoo.\n"
     ]
    }
   ],
   "source": [
    "print(animals,end=\"\\n\\n\")\n",
    "\n",
    "# Using '.items()' method   \n",
    "for animal, count in animals.items():\n",
    "    print(\"There are {} {} in the zoo.\".format(count,animal))"
   ]
  },
  {
   "cell_type": "markdown",
   "id": "0e207141",
   "metadata": {},
   "source": [
    "If we only wanted to access the keys in a dictionary, we can use the `keys()` method on the dictionary, which returns a list of all the keys in the dictionary. \n",
    "\n",
    "Similarly, if we only wanted the values, we can use the `values()` method, which returns a list of all the values in the dictionary."
   ]
  },
  {
   "cell_type": "code",
   "execution_count": 6,
   "id": "299f089a",
   "metadata": {},
   "outputs": [
    {
     "name": "stdout",
     "output_type": "stream",
     "text": [
      "The zoo has bears in it.\n",
      "The zoo has lions in it.\n",
      "The zoo has zebras in it.\n"
     ]
    }
   ],
   "source": [
    "# Using '.keys()' method to obtain the keys of the dictionary\n",
    "for animal in animals.keys():\n",
    "    print(\"The zoo has {} in it.\".format(animal))"
   ]
  },
  {
   "cell_type": "code",
   "execution_count": 7,
   "id": "512e1337",
   "metadata": {},
   "outputs": [
    {
     "name": "stdout",
     "output_type": "stream",
     "text": [
      "There are total 85 animals in the zoo.\n"
     ]
    }
   ],
   "source": [
    "total = 0\n",
    "\n",
    "# Using '.values' method to obtain the values of the dictionary\n",
    "for amount in animals.values():\n",
    "    total += amount \n",
    "\n",
    "print(\"There are total {} animals in the zoo.\".format(total))"
   ]
  },
  {
   "attachments": {},
   "cell_type": "markdown",
   "id": "96e53857",
   "metadata": {},
   "source": [
    "### Program 19\n",
    "---\n",
    "\n",
    "Write a function that takes a permission value in octal notation and returns a string representing the permissions in the symbolic notation.\n",
    "\n",
    "\n",
    "**Instructions**:\n",
    "\n",
    "- Define a function named `octal_to_symbolic(permission)` that takes one parameter:\n",
    "\n",
    "            permission: an integer value representing the permission in octal notation.\n",
    "\n",
    "- In the function, convert the octal permission value to a string using the built-in `str()` function, which returns a string representing the octal notation of the given integer.\n",
    "- Extract the last three characters from the string. These represent the permission values for others, group, and owner.\n",
    "- Create a dictionary that maps each permission value to its symbolic notation: `'4' to 'r', '2' to 'w', and '1' to 'x'`.\n",
    "- Using string slicing and dictionary lookups, convert each permission value to its corresponding symbolic notation.\n",
    "- Return a string that represents the permission in symbolic notation."
   ]
  },
  {
   "cell_type": "code",
   "execution_count": 1,
   "id": "3ad895e5",
   "metadata": {},
   "outputs": [],
   "source": [
    "def octal_to_string(octal):\n",
    "    \n",
    "    \"\"\" \n",
    "    Convert an octal permission number to a string representation\n",
    "\n",
    "    Parameter:\n",
    "        octal (int): An octal number representing file permission bits\n",
    "\n",
    "    Returns:\n",
    "        str: A string representation of file permission bits\n",
    "    \n",
    "    \"\"\"\n",
    "\n",
    "    octal_in_str = str(octal)\n",
    "    permission_list = []\n",
    "    x = 1\n",
    "    j = 0\n",
    "\n",
    "    check_dict = {\"0\": \"---\", \"1\": \"--x\", \"2\": \"-w-\", \"3\": \"-wx\", \"4\": \"r--\", \"5\": \"r-x\", \"6\": \"rw-\", \"7\": \"rwx\"}\n",
    "\n",
    "    for characters in octal_in_str:\n",
    "        permission_list.append(check_dict[characters])\n",
    "    \n",
    "    output_str = \"\".join(permission_list)\n",
    "\n",
    "    return output_str\n"
   ]
  },
  {
   "cell_type": "code",
   "execution_count": 2,
   "id": "742f9e85",
   "metadata": {},
   "outputs": [
    {
     "name": "stdout",
     "output_type": "stream",
     "text": [
      "Run 1\n",
      "rwxr-xr-x\n",
      "\n",
      "Run 2\n",
      "rw-r--r--\n",
      "\n",
      "Run 3\n",
      "rwxr-x---\n",
      "\n",
      "Run 4\n",
      "rw-------\n"
     ]
    }
   ],
   "source": [
    "# Should be rwxr-xr-x\n",
    "print(\"Run 1\")\n",
    "print(octal_to_string(755),end=\"\\n\\n\")\n",
    "\n",
    "# Should be rw-r--r--\n",
    "print(\"Run 2\")\n",
    "print(octal_to_string(644),end=\"\\n\\n\")\n",
    "\n",
    "# Should be rwxr-x---\n",
    "print(\"Run 3\")\n",
    "print(octal_to_string(750),end=\"\\n\\n\")\n",
    "\n",
    "# Should be rw-------\n",
    "print(\"Run 4\")\n",
    "print(octal_to_string(600))\n"
   ]
  },
  {
   "cell_type": "markdown",
   "id": "3cc4620e",
   "metadata": {},
   "source": [
    "### Program 20\n",
    "---\n",
    "\n",
    "Write a Python function called `email_list` that takes one argument:\n",
    "\n",
    "    users: a dictionary where each key is a domain name (string), and each value is a list of usernames (strings) for that domain.\n",
    "\n",
    "\n",
    "The function should create and return a list of complete email addresses for all users in the dictionary, in the format `\"username@domain.com\"`. \n",
    "\n",
    "For example, if the input dictionary is:\n",
    "\n",
    "            {\n",
    "                'gmail' : ['diana.prince', 'bruce.wayne']\n",
    "                'yahoo' : ['clark.kent', 'lois.lane', 'peter.parker']\n",
    "\n",
    "            }\n",
    "\n",
    "The output list should be:\n",
    "\n",
    "            ['diana.prince@gmail.com', 'bruce.wayne@gmail.com', 'clark.kent@yahoo.com', 'lois.lane@yahoo.com', 'peter.parker@yahoo.com']"
   ]
  },
  {
   "cell_type": "code",
   "execution_count": 9,
   "id": "97a0a544",
   "metadata": {},
   "outputs": [
    {
     "name": "stdout",
     "output_type": "stream",
     "text": [
      "Run 1\n",
      "['clark.kent@gmail.com', 'diana.prince@gmail.com', 'peter.parker@gmail.com', 'barbara.gordon@yahoo.com', 'jean.grey@yahoo.com', 'bruce.wayne@hotmail.com']\n"
     ]
    }
   ],
   "source": [
    "def email_list(domains):\n",
    "    \n",
    "    \"\"\" \n",
    "    Parameters:\n",
    "        domains (dict): A dictionary containing domain names as keys \n",
    "                 and a list of users as values\n",
    " \n",
    "    Returns:\n",
    "        emails (list): A list of complete email addresses for all the \n",
    "        users in the input dictionary\n",
    "    \n",
    "    \"\"\"\n",
    "    emails = []\n",
    "\n",
    "    for domain in domains.keys():\n",
    "        for user in domains[domain]:\n",
    "            x = user + \"@\" + domain\n",
    "            emails.append(x)\n",
    "    return(emails)\n",
    "\n",
    "print(\"Run 1\")\n",
    "print(email_list({\"gmail.com\": [\"clark.kent\", \"diana.prince\", \"peter.parker\"], \"yahoo.com\": [\"barbara.gordon\", \"jean.grey\"], \"hotmail.com\": [\"bruce.wayne\"]}))"
   ]
  },
  {
   "cell_type": "markdown",
   "id": "db53d003",
   "metadata": {},
   "source": [
    "### Program 21\n",
    "---\n",
    "\n",
    "Write a function named `add_prices` that returns the total price of all the groceries in the dictionary."
   ]
  },
  {
   "cell_type": "code",
   "execution_count": 10,
   "id": "57bc2215",
   "metadata": {},
   "outputs": [
    {
     "name": "stdout",
     "output_type": "stream",
     "text": [
      "Run 1\n",
      "28.44\n"
     ]
    }
   ],
   "source": [
    "def add_prices(basket):\n",
    "    \n",
    "    \"\"\"\n",
    "    Parameters:\n",
    "        basket (dict): A dictionary containing the name of\n",
    "        items as keys and their prices as values.\n",
    "        \n",
    "    Returns:\n",
    "        The total price of all the items in the basket.\n",
    "    \"\"\"\n",
    "\n",
    "    total = 0\n",
    "\n",
    "    total = sum(list(basket.values()))\n",
    "\n",
    "    return round(total,2)\n",
    "\n",
    "groceries = {\"bananas\": 1.56, \"apples\": 2.50, \"oranges\": 0.99, \"bread\": 4.59, \n",
    "\"coffee\": 6.99, \"milk\": 3.39, \"eggs\": 2.98, \"cheese\": 5.44}\n",
    "\n",
    "# Should print 28.44\n",
    "print(\"Run 1\")\n",
    "print(add_prices(groceries)) \n"
   ]
  },
  {
   "cell_type": "markdown",
   "id": "90132e1b",
   "metadata": {},
   "source": [
    "---"
   ]
  }
 ],
 "metadata": {
  "kernelspec": {
   "display_name": "Python 3 (ipykernel)",
   "language": "python",
   "name": "python3"
  },
  "language_info": {
   "codemirror_mode": {
    "name": "ipython",
    "version": 3
   },
   "file_extension": ".py",
   "mimetype": "text/x-python",
   "name": "python",
   "nbconvert_exporter": "python",
   "pygments_lexer": "ipython3",
   "version": "3.10.7"
  }
 },
 "nbformat": 4,
 "nbformat_minor": 5
}