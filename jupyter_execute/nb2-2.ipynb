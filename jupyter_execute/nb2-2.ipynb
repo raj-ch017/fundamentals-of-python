{
 "cells": [
  {
   "attachments": {},
   "cell_type": "markdown",
   "metadata": {},
   "source": [
    "# Variables, Functions and Conditionals\n",
    "---\n",
    "\n",
    "**Learning Objectives**\n",
    "\n",
    "- Differentiate and convert between different data types utilizing variables\n",
    "- Define and call functions utilizing parameters and return data\n",
    "- Refactor code and write comments to reduce complexity and enhance code readability and code reuse\n",
    "- Compare values using equality operators and logical operators\n",
    "- Build complex branching scripts utilizing `if`, `else` and `elif` statements\n",
    "\n",
    "---"
   ]
  },
  {
   "attachments": {},
   "cell_type": "markdown",
   "metadata": {},
   "source": [
    "### Variables and Data Types\n",
    "\n",
    "Variables can store data of different types, like strings and integers.\n",
    "\n",
    "In Python, text in between quotes -- either single or double quotes -- is a string data type.\n",
    "\n",
    "An integer is a whole number, without a fraction, while a float is a real number that can contain a fractional part. \n",
    "\n",
    "**For example**, 1, 7, 342 are all integers, while 5.3, 3.14159 and 6.0 are all floats. \n",
    "\n",
    "A `TypeError` may be encountered when attempting to mix incompatible data types. The `type()` function can be used to check the data type of an object.\n",
    "\n",
    "\n",
    "The four common data types are:\n",
    "\n",
    "- **int**: A number without floating point.\n",
    "\n",
    "- **float**: A number with floating point precision.\n",
    "\n",
    "- **bool**: Data type representing truth value of either True or False.\n",
    "\n",
    "- **str**: Sequence of characters."
   ]
  },
  {
   "cell_type": "code",
   "execution_count": 1,
   "metadata": {},
   "outputs": [
    {
     "name": "stdout",
     "output_type": "stream",
     "text": [
      "Data type of 7  is <class 'int'>\n",
      "\n",
      "Data type of 7.0  is <class 'float'>\n",
      "\n",
      "Data type of Today is Wednesday  is <class 'str'>\n",
      "\n",
      "Data type of True  is <class 'bool'>\n",
      "\n"
     ]
    }
   ],
   "source": [
    "int_var = 7\n",
    "\n",
    "float_var = 7.0\n",
    "\n",
    "str_var = \"Today is Wednesday\"\n",
    "\n",
    "bool_var = True\n",
    "\n",
    "print(\"Data type of\",int_var,\" is\",type(int_var),end=\"\\n\\n\")\n",
    "\n",
    "print(\"Data type of\",float_var,\" is\",type(float_var),end=\"\\n\\n\")\n",
    "\n",
    "print(\"Data type of\",str_var,\" is\",type(str_var),end=\"\\n\\n\")\n",
    "\n",
    "print(\"Data type of\",bool_var,\" is\",type(bool_var),end=\"\\n\\n\")"
   ]
  },
  {
   "attachments": {},
   "cell_type": "markdown",
   "metadata": {},
   "source": [
    "**Variables** are names that are given to certain values in our programs. These values can be of any data type; numbers, strings or even the results of operations. \n",
    "\n",
    "When creating variables in code, a chunk of the computer's memory is reserved to store the value. This allows the computer to access the variable later and read or modify the value as needed. \n",
    "\n",
    "Values are stored in the variables using the **assignment** statement, which associates the name to the left of `=` symbol with the value to the right of the `=` symbol.\n",
    "\n",
    "An **expression** is a combination of numbers, symbols or other variables that produce a result when evaluated."
   ]
  },
  {
   "cell_type": "markdown",
   "metadata": {},
   "source": [
    "### Variable Naming Restrictions\n",
    "\n",
    "- Keywords and Function names not allowed\n",
    "\n",
    "- Don't use spaces\n",
    "\n",
    "- Must start with a letter or an underscore (_)\n",
    "\n",
    "- Can only contain letters, numbers and underscore with no other characters\n",
    "\n",
    "**Example 1**: `i_am_a_variable` is a valid name.\n",
    "\n",
    "**Example 2**: `1_is_a_variable` is an invalid name because it starts with a number.\n",
    "\n",
    "**Example 3**: `apple&orange` is also invalid since it uses a special character."
   ]
  },
  {
   "cell_type": "markdown",
   "metadata": {},
   "source": [
    "### Program 2\n",
    "---\n",
    "\n",
    "The code provided assigns the value of 13 to the variable `length` and the value of 3 to the variable `width`. It then calculates the product of length and width and stores it in the variable `area`. Finally, it outputs the value of area to the console using the `print()` function.\n",
    "\n",
    "In this case, the variables `length` and `width` represent the length and width of a rectangle, and the calculation `length * width` gives us the area of the rectangle."
   ]
  },
  {
   "cell_type": "code",
   "execution_count": 2,
   "metadata": {},
   "outputs": [
    {
     "name": "stdout",
     "output_type": "stream",
     "text": [
      "39\n"
     ]
    }
   ],
   "source": [
    "length = 13\n",
    "width = 3\n",
    "area = length * width\n",
    "\n",
    "print(area)"
   ]
  },
  {
   "cell_type": "markdown",
   "metadata": {},
   "source": [
    "### Implicit vs Explicit Conversion\n",
    "\n",
    "Some data types can be mixed and matched due to implicit conversion. **Implicit conversion** is where the interpreter helps us out and automatically converts one data type into another, without having to explicitly tell it to do so.\n",
    "\n",
    "In contrast, **explicit conversion** refers to the manual conversion from one data type to another by calling the appropriate function for the desired data type.\n",
    "\n",
    "\n",
    "**For example**, a variable with integer value can be converted to string using `str()`."
   ]
  },
  {
   "cell_type": "code",
   "execution_count": 3,
   "metadata": {},
   "outputs": [
    {
     "name": "stdout",
     "output_type": "stream",
     "text": [
      "Type of int_variable is <class 'int'>\n",
      "Type of str_variable is <class 'str'>\n"
     ]
    }
   ],
   "source": [
    "int_variable = 8\n",
    "\n",
    "print(\"Type of int_variable is\",type(int_variable))\n",
    "\n",
    "str_variable = str(int_variable)\n",
    "\n",
    "print(\"Type of str_variable is\",type(str_variable))"
   ]
  },
  {
   "cell_type": "markdown",
   "metadata": {},
   "source": [
    "### Program 3\n",
    "---\n",
    "\n",
    "In this scenario, two friends are eating dinner at a restaurant. The bill comes in the amount of 47.28 dollars. The friends decide to split the bill evenly between them, after adding 15% tip for the service. Calculate the tip, the total amount to pay, and each friend's share, then output a message saying \"**Each person needs to pay:** \" followed by the resulting number."
   ]
  },
  {
   "cell_type": "code",
   "execution_count": 3,
   "metadata": {},
   "outputs": [
    {
     "name": "stdout",
     "output_type": "stream",
     "text": [
      "Each person needs to pay: $27.19\n"
     ]
    }
   ],
   "source": [
    "bill = 47.28\n",
    "tip = (0.15*bill)\n",
    "total = bill + tip\n",
    "share = total/2 \n",
    "\n",
    "print(\"Each person needs to pay: $\" + str(round(share,2)))"
   ]
  },
  {
   "attachments": {},
   "cell_type": "markdown",
   "metadata": {},
   "source": [
    "### Functions\n",
    "---\n",
    "\n",
    "A **function** is a block of code that performs a specific task and can be reused multiple times in a program. Functions allow us to organize our code and make it more modular, which makes it easier to read, debug, and maintain.\n",
    "\n",
    "Functions in Python are defined using the `def` keyword followed by the function name and a set of parentheses that can include parameters (values passed to the function) and ends with a colon(:). The function code is then indented below the `def` statement.\n",
    "\n",
    "A function can have no parameters, or it can have multiple parameters. Parameters allow us to call a function and pass it data, with the data being available inside the function as variables with the same name as the parameters.\n",
    "\n",
    "**Example**: The function `add_number` takes two parameters, `x` and `y`, adds them together, and prints the result with a meaningful message."
   ]
  },
  {
   "cell_type": "code",
   "execution_count": 5,
   "metadata": {
    "scrolled": true
   },
   "outputs": [
    {
     "name": "stdout",
     "output_type": "stream",
     "text": [
      "The sum of 77 and 33 equals 110\n"
     ]
    }
   ],
   "source": [
    "def add_number(x,y):\n",
    "    \"\"\" \n",
    "    Prints the sum of two numbers\n",
    "    \n",
    "    Parameters:\n",
    "        x (int): First number\n",
    "        y (int): Second number\n",
    "        \n",
    "    Returns:\n",
    "        None\n",
    "    \"\"\"\n",
    "    print(\"The sum of\",x,\"and\",y,\"equals\",x+y)\n",
    "    \n",
    "add_number(77,33)"
   ]
  },
  {
   "cell_type": "markdown",
   "metadata": {},
   "source": [
    "### Program 4\n",
    "---\n",
    "\n",
    "The function `book_store` takes one argument, `copies`, representing the number of copies of a book to be purchased. The function calculates the total cost of purchasing these copies including a discount on the marked price, delivery charges, and the selling price of the book.\n",
    "\n",
    "- First, the function sets the `cover_price` of the book to 24.95. It then calculates the discount on this price, which is equal to 40% of the cover price, and stores it in the `discount` variable. The selling price of the book is then calculated by subtracting the discount from the cover price and storing it in the `sell_price` variable.\n",
    "\n",
    "- Next, the function calculates the delivery charges based on the number of extra copies bought (i.e. the number of copies above the first one). The delivery charge for the first copy is 3, and for each additional copy, it is 0.75. The number of additional copies is calculated by subtracting 1 from the total number of copies, since the first copy has no additional delivery charge. The total delivery charges are then stored in the `deli_charges` variable.\n",
    "\n",
    "- Finally, the function calculates the total cost of purchasing the given number of copies by adding the selling price and the delivery charges. The total cost is then printed to the console using the print function.\n",
    "\n",
    "- Note that the function does not return any value, it just prints the total cost to the console."
   ]
  },
  {
   "cell_type": "code",
   "execution_count": 6,
   "metadata": {},
   "outputs": [
    {
     "name": "stdout",
     "output_type": "stream",
     "text": [
      "92.22\n"
     ]
    }
   ],
   "source": [
    "def book_store(copies):\n",
    "    \"\"\" \n",
    "    Calculate the total cost of purchasing multiple copies of\n",
    "    a book, including delivery charges.\n",
    "    \n",
    "    Parameters:\n",
    "        copies (int): the number of copies being purchased\n",
    "        \n",
    "    Returns:\n",
    "        None    \n",
    "    \"\"\"\n",
    "    \n",
    "    cover_price = 24.95 \n",
    "    discount = 0.40 * cover_price   #calculates the discount based on the marked price\n",
    "    sell_price = cover_price - discount #calculates the selling price, depending on the discount\n",
    "    additional_copies = copies - 1  #the number of extra copies bought\n",
    "    deli_charges = 3 + (additional_copies*0.75) #delivery charge calculation\n",
    "    total = sell_price + deli_charges   #calculates the total\n",
    "    \n",
    "    print(total)\n",
    "    \n",
    "book_store(100)    "
   ]
  },
  {
   "cell_type": "markdown",
   "metadata": {},
   "source": [
    "### Returning Values using Functions\n",
    "\n",
    "The concept of return values in Python refers to the ability of a function to modify the passed data and return the result to the calling statement. The `return` keyword is used within a function to transfer data back to the calling statement. After calling the function, the returned value can be saved in a variable. This allows for greater versatility and power in functions, as they can be used repeatedly with different data.\n",
    "\n",
    "\n",
    "Functions can even produce multiple values, but it's crucial to store all the returned values in respective variables. Additionally, a function may return nothing, in which case, it will merely terminate."
   ]
  },
  {
   "cell_type": "markdown",
   "metadata": {},
   "source": [
    "### Program 5\n",
    "---\n",
    "\n",
    "This function `convert_distance` converts miles to kilometers (km).\n",
    "\n",
    "- Complete the function to return the result of the conversion\n",
    "\n",
    "- Call the function to convert the trip distance from miles to kilometers\n",
    "\n",
    "- Calculate the round-trip in kilometers by doubling the result, and to print the result"
   ]
  },
  {
   "cell_type": "code",
   "execution_count": 7,
   "metadata": {},
   "outputs": [
    {
     "name": "stdout",
     "output_type": "stream",
     "text": [
      "The distance in kilometers is 88.0\n",
      "The round-trip distance in kilometers is 176.0\n"
     ]
    }
   ],
   "source": [
    "\n",
    "\n",
    "def convert_distance(miles):\n",
    "    \"\"\"\n",
    "    Converts  a distance given in miles to kilometers.\n",
    "    \n",
    "    Parameter:\n",
    "        miles (float): A distance in miles\n",
    "        \n",
    "    Returns:\n",
    "        float: The distance in kilometers\n",
    "    \"\"\"\n",
    "    return miles * 1.6  \n",
    "\n",
    "my_trip_miles = 55\n",
    "\n",
    "\n",
    "\n",
    "my_trip_km = convert_distance(55)\n",
    "\n",
    "print(\"The distance in kilometers is \" + str(my_trip_km))\n",
    "\n",
    "total_km = 2 * my_trip_km\n",
    "print(\"The round-trip distance in kilometers is \" + str(total_km))"
   ]
  },
  {
   "cell_type": "markdown",
   "metadata": {},
   "source": [
    "### Program 6\n",
    "---\n",
    "\n",
    "This function `order_numbers` compares two numbers and returns them in increasing order.\n",
    "\n",
    "- Write the function so the print statement displays the result of the function call in order."
   ]
  },
  {
   "cell_type": "code",
   "execution_count": 8,
   "metadata": {},
   "outputs": [
    {
     "name": "stdout",
     "output_type": "stream",
     "text": [
      "99 888\n"
     ]
    }
   ],
   "source": [
    "def order_numbers(number1, number2):\n",
    "    \"\"\" \n",
    "    Returns two numbers in ascending order\n",
    "    \n",
    "    Parameters:\n",
    "        number1 (int): A number\n",
    "        number2 (int): A number\n",
    "        \n",
    "    Returns:\n",
    "        Two numbers in ascending order\n",
    "    \"\"\"\n",
    "    if number2 > number1:\n",
    "        return number1, number2\n",
    "\n",
    "    else:\n",
    "        return number2, number1\n",
    "\n",
    "    \n",
    "\n",
    "smaller, bigger = order_numbers(888, 99)\n",
    "print(smaller, bigger)"
   ]
  },
  {
   "attachments": {},
   "cell_type": "markdown",
   "metadata": {},
   "source": [
    "### Conditionals - Making Complex Decisions\n",
    "---\n",
    "\n",
    "In Python, the comparison operators are used to compare values, and upon doing so, Python returns a **boolean** result, i.e., `True` or `False`.\n",
    "\n",
    "- For verifying if two values are identical, we can use the **equality operator**: `==`.\n",
    "\n",
    "- To confirm if two values are not the same, we can employ the **not equals operator**: `!=`. \n",
    "\n",
    "- Additionally, we can compare values using **greater than** (>) or **lesser than** (<) operators. \n",
    "\n",
    "Nonetheless, if we try to compare incompatible data types, such as an integer with a string, Python raises a `TypeError`.\n",
    "\n",
    "By combining statements with **logical operators** and **comparison operators**, we can create complex comparisons. The three logical operators available in Python are `and`, `or`, and `not`. \n",
    "\n",
    "- When the `and` operator is used, both sides of the evaluated statement must be true for the complete statement to be true. \n",
    "\n",
    "- On the other hand, when the `or` operator is used, the complete statement becomes true if any of the two sides in the comparison is true. \n",
    "\n",
    "- Finally, the `not` operator reverses the value of the statement following it. So, if a statement evaluates to True, and we use the not operator with it, the statement becomes False."
   ]
  },
  {
   "cell_type": "code",
   "execution_count": 9,
   "metadata": {},
   "outputs": [
    {
     "name": "stdout",
     "output_type": "stream",
     "text": [
      "Is 42 greater than 20? True\n",
      "\n",
      "Is 25 equal to 15? False\n",
      "\n",
      "100 does not equal 200? True\n",
      "\n",
      "16 is even and 19 is even? False\n",
      "\n",
      "16 is even or 19 is even? True\n",
      "\n"
     ]
    }
   ],
   "source": [
    "# Example 1 - Greater Than Operator\n",
    "\n",
    "conditional1 = 42 > 20\n",
    "\n",
    "print(\"Is 42 greater than 20?\",conditional1,end=\"\\n\\n\")\n",
    "\n",
    "\n",
    "# Example 2 - Equality Operator\n",
    "\n",
    "conditional2 = (25 == 15)\n",
    "\n",
    "print(\"Is 25 equal to 15?\",conditional2,end=\"\\n\\n\")\n",
    "\n",
    "\n",
    "# Example 3 - Not Equals Operator\n",
    "\n",
    "conditional3 = (100 != 200)\n",
    "\n",
    "print(\"100 does not equal 200?\",conditional3,end=\"\\n\\n\")\n",
    "\n",
    "\n",
    "# Example 4 - `and` operator\n",
    "\n",
    "conditional4 = (16 % 2 == 0) and (19 % 2 == 0)\n",
    "\n",
    "print(\"16 is even and 19 is even?\",conditional4,end=\"\\n\\n\")\n",
    "\n",
    "\n",
    "# Example 5 - `or` operator\n",
    "\n",
    "conditional5 = (16 % 2 == 0) or (19 % 2 == 0)\n",
    "\n",
    "print(\"16 is even or 19 is even?\",conditional5,end=\"\\n\\n\")"
   ]
  },
  {
   "attachments": {},
   "cell_type": "markdown",
   "metadata": {},
   "source": [
    "### Branching \n",
    "\n",
    "- **If Statement**\n",
    "\n",
    "In Python, **branching** is used to modify the execution sequence of code based on the values of variables. \n",
    "\n",
    "An `if` statement is used to compare values. We start the if statement with the keyword `if`, followed by the comparison. A colon is used to end the line. The code block under the `if` statement is indented to the right. \n",
    "\n",
    "If the comparison is evaluated as `True`, the code within the body is executed. However, if the comparison evaluates to `False`, the code block is skipped and not executed."
   ]
  },
  {
   "cell_type": "code",
   "execution_count": 10,
   "metadata": {},
   "outputs": [
    {
     "name": "stdout",
     "output_type": "stream",
     "text": [
      "Run 1\n",
      "rik is invalid username. Minimum length should be 4.\n",
      "\n",
      "Run 2\n"
     ]
    }
   ],
   "source": [
    "def check_username(username):\n",
    "    \"\"\" \n",
    "    Checks if a given username is valid or not\n",
    "    \n",
    "    Parameters:\n",
    "        username (str): The username to be checked\n",
    "        \n",
    "    Returns:\n",
    "        None: Prints a message to the console if given\n",
    "        username is invalid\n",
    "    \"\"\"\n",
    "    \n",
    "    if len(username) <= 3:\n",
    "        print(username,\"is invalid username. Minimum length should be 4.\",end=\"\\n\\n\")\n",
    "        \n",
    "        \n",
    "# Should print 'invalid'\n",
    "print(\"Run 1\")\n",
    "check_username('rik')\n",
    "\n",
    "# Should print nothing\n",
    "print(\"Run 2\")\n",
    "check_username('rick')"
   ]
  },
  {
   "attachments": {},
   "cell_type": "markdown",
   "metadata": {},
   "source": [
    "- **If Else Statement**\n",
    "\n",
    "Suppose we want our code to perform an alternative action if the evaluation of `if` is `False`. One way is to use the `else` statement. \n",
    "\n",
    "The else statement follows an if block and is made up of the keyword `else` followed by a colon. The body of the `else` statement is indented to the right and will be executed if the preceding `if` statement is not executed."
   ]
  },
  {
   "cell_type": "code",
   "execution_count": 11,
   "metadata": {},
   "outputs": [
    {
     "name": "stdout",
     "output_type": "stream",
     "text": [
      "Run 1\n",
      "rik is invalid username. Minimum length should be 4.\n",
      "\n",
      "Run 2\n",
      "rick is valid username.\n",
      "\n"
     ]
    }
   ],
   "source": [
    "def check_username(username):\n",
    "    \"\"\"\n",
    "    Checks whether the given username is valid\n",
    "    or not\n",
    "    \n",
    "    Parameters:\n",
    "        username (str): The username to be checked\n",
    "        \n",
    "    Returns:\n",
    "        None\n",
    "    \"\"\"\n",
    "    \n",
    "    if len(username) <= 3:\n",
    "        print(username,\"is invalid username. Minimum length should be 4.\",end=\"\\n\\n\")\n",
    "    \n",
    "    else:\n",
    "        print(username,\"is valid username.\",end=\"\\n\\n\")\n",
    "\n",
    "# Should print 'invalid'\n",
    "print(\"Run 1\")\n",
    "check_username('rik')\n",
    "\n",
    "# Should print 'valid'\n",
    "print(\"Run 2\")\n",
    "check_username('rick')"
   ]
  },
  {
   "cell_type": "markdown",
   "metadata": {},
   "source": [
    "- **If-Elif-Else Statement**\n",
    "\n",
    "By using `if` and `else` blocks, we can control the flow of our code based on the evaluation of a single statement. To perform more complex branching, we can use the `elif` statement. \n",
    "\n",
    "It is similar to `if` statements and starts with the `elif` keyword, followed by a comparison to be evaluated. Then, a colon is placed, and the code block is written on the next line, indented to the right. However, an `elif` statement must come after an `if` statement and will only be evaluated if the `if` statement was false."
   ]
  },
  {
   "cell_type": "code",
   "execution_count": 12,
   "metadata": {},
   "outputs": [
    {
     "name": "stdout",
     "output_type": "stream",
     "text": [
      "Run 1\n",
      "rik is invalid username. Minimum length should be 4.\n",
      "\n",
      "Run 2\n",
      "rick is valid username.\n",
      "\n",
      "Run 3\n",
      "pickle_rick_tiny is invalid username. Maximum length is 15.\n",
      "\n"
     ]
    }
   ],
   "source": [
    "def check_username(username):\n",
    "    \"\"\" \n",
    "    Checks whether the given username is valid or not.\n",
    "    \n",
    "    Parameters:\n",
    "        username (str): The username to be checked\n",
    "        \n",
    "    Returns:\n",
    "        None\n",
    "    \"\"\"\n",
    "    \n",
    "    if len(username) <= 3:\n",
    "        print(username,\"is invalid username. Minimum length should be 4.\",end=\"\\n\\n\")\n",
    "    \n",
    "    elif len(username) > 15:\n",
    "        print(username,\"is invalid username. Maximum length is 15.\",end=\"\\n\\n\")\n",
    "        \n",
    "    else:\n",
    "        print(username,\"is valid username.\",end=\"\\n\\n\")\n",
    "        \n",
    "# Should print 'invalid'\n",
    "print(\"Run 1\")\n",
    "check_username('rik')\n",
    "\n",
    "# Should print 'valid'\n",
    "print(\"Run 2\")\n",
    "check_username('rick')\n",
    "\n",
    "# Should print 'invalid'\n",
    "print(\"Run 3\")\n",
    "check_username('pickle_rick_tiny')"
   ]
  },
  {
   "attachments": {},
   "cell_type": "markdown",
   "metadata": {},
   "source": [
    "### Exercises\n",
    "---\n",
    "\n",
    "#### Exercise 1\n",
    "\n",
    "The function `format_name` that takes two parameters, `first_name` and `last_name`.\n",
    "\n",
    "The function checks if both `first_name` and `last_name` are not empty strings by using the `len()` function to check their length. If both are non-empty, the function creates a string name by concatenating `last_name`, a comma, and `first_name` with the format \"`Name: last_name, first_name`\", and returns it.\n",
    "\n",
    "If `first_name` is an empty string but `last_name` is not, the function creates a string name with just the last name and returns it.\n",
    "\n",
    "If `last_name` is an empty string but `first_name` is not, the function creates a string name with just the first name and returns it.\n",
    "\n",
    "If both `first_name` and `last_name` are empty strings, the function returns an empty string."
   ]
  },
  {
   "cell_type": "code",
   "execution_count": 4,
   "metadata": {},
   "outputs": [],
   "source": [
    "def format_name(first_name,last_name):\n",
    "    \"\"\" \n",
    "    Parameters:\n",
    "        first_name(str): The first name of the person\n",
    "        last_name (str): The last name of the person\n",
    "        \n",
    "    Returns:\n",
    "        str: A formatted string in the format \n",
    "        \"Name: last_name, first_name\" or \"Name: last_name\" or \"Name: first_name\"\n",
    "        or an empty string.\n",
    "    \"\"\"\n",
    "    \n",
    "    if len(first_name) > 0 and len(last_name) > 0:\n",
    "        name = \"Name: \" + last_name + \", \" + first_name\n",
    "        return name\n",
    "    \n",
    "    elif len(first_name)==0 and len(last_name) > 0:\n",
    "        name = \"Name: \" + last_name\n",
    "        return name\n",
    "    \n",
    "    elif len(first_name) > 0 and len(last_name)==0:\n",
    "        name = \"Name: \" + first_name\n",
    "        return name\n",
    "    \n",
    "    else:\n",
    "        return \"\""
   ]
  },
  {
   "cell_type": "code",
   "execution_count": 5,
   "metadata": {},
   "outputs": [
    {
     "name": "stdout",
     "output_type": "stream",
     "text": [
      "Run 1\n",
      "Name: Hemingway, Ernest\n",
      "\n",
      "Run 2\n",
      "Name: Madonna\n",
      "\n",
      "Run 3\n",
      "Name: Voltaire\n",
      "\n",
      "Run 4\n",
      "\n",
      "\n"
     ]
    }
   ],
   "source": [
    "# Should return the string \"Name: Hemingway, Ernest\"\n",
    "print(\"Run 1\")\n",
    "print(format_name(\"Ernest\", \"Hemingway\"),end=\"\\n\\n\")\n",
    "\n",
    "# Should return the string \"Name: Madonna\"\n",
    "print(\"Run 2\")\n",
    "print(format_name(\"\", \"Madonna\"),end=\"\\n\\n\")\n",
    "\n",
    "# Should return the string \"Name: Voltaire\"\n",
    "print(\"Run 3\")\n",
    "print(format_name(\"Voltaire\", \"\"),end=\"\\n\\n\")\n",
    "\n",
    "# Should return an empty string\n",
    "print(\"Run 4\")\n",
    "print(format_name(\"\", \"\"),end=\"\\n\\n\")\n"
   ]
  },
  {
   "cell_type": "markdown",
   "metadata": {},
   "source": [
    "\n",
    "#### Exercise 2\n",
    "\n",
    "The `fractional_part` function divides the numerator by the denominator, and returns just the fractional part (a number between 0 and 1). Complete the body of the function so that it returns the right number.\n",
    "\n",
    "**Note**: Since division by 0 produces an error, if the denominator is 0, the function should return 0 instead of attempting the division."
   ]
  },
  {
   "cell_type": "code",
   "execution_count": 6,
   "metadata": {},
   "outputs": [],
   "source": [
    "def fractional_part(numerator,denominator):\n",
    "    \"\"\"\n",
    "    Parameters:\n",
    "        numerator (float or int): The numerator of the division\n",
    "        denominator (float or int): The denominator of the division\n",
    "        \n",
    "    Returns:\n",
    "        The fractional part of the division (float) if the\n",
    "        denominator is not zero, otherwise 0\n",
    "    \"\"\"\n",
    "    \n",
    "    if denominator == 0:\n",
    "        return 0\n",
    "    \n",
    "    mod_r = numerator % denominator\n",
    "    frac_r = mod_r / denominator\n",
    "    \n",
    "    if frac_r == 0:\n",
    "        return int(frac_r)\n",
    "    \n",
    "    return frac_r\n"
   ]
  },
  {
   "cell_type": "code",
   "execution_count": 8,
   "metadata": {},
   "outputs": [
    {
     "name": "stdout",
     "output_type": "stream",
     "text": [
      "Run 1\n",
      "0\n",
      "\n",
      "Run 2\n",
      "0.25\n",
      "\n",
      "Run 3\n",
      "0.6666666666666666\n",
      "\n",
      "Run 4\n",
      "0.5\n",
      "\n",
      "Run 5\n",
      "0\n",
      "\n",
      "Run 6\n",
      "0\n",
      "\n"
     ]
    }
   ],
   "source": [
    "# Should be 0\n",
    "print(\"Run 1\")\n",
    "print(fractional_part(5, 5),end=\"\\n\\n\")\n",
    "\n",
    "# Should be 0.25\n",
    "print(\"Run 2\")\n",
    "print(fractional_part(5, 4),end=\"\\n\\n\")\n",
    "\n",
    "# Should be 0.66...\n",
    "print(\"Run 3\")\n",
    "print(fractional_part(5, 3),end=\"\\n\\n\")\n",
    "\n",
    "# Should be 0.5\n",
    "print(\"Run 4\")\n",
    "print(fractional_part(5, 2),end=\"\\n\\n\")\n",
    "\n",
    "# Should be 0\n",
    "print(\"Run 5\")\n",
    "print(fractional_part(5, 0),end=\"\\n\\n\")\n",
    "\n",
    "# Should be 0\n",
    "print(\"Run 6\")\n",
    "print(fractional_part(0, 5),end=\"\\n\\n\") "
   ]
  },
  {
   "attachments": {},
   "cell_type": "markdown",
   "metadata": {},
   "source": [
    "#### Exercise 3\n",
    "\n",
    "Students in a class receive their grades as Pass/Fail. Scores of 60 or more (out of 100) mean that the grade is \"Pass\". For lower scores, the grade is \"Fail\". In addition, scores above 95 (not included) are graded as \"Top Score\". \n",
    "\n",
    "Complete the function so that it returns the proper grade."
   ]
  },
  {
   "cell_type": "code",
   "execution_count": 9,
   "metadata": {},
   "outputs": [],
   "source": [
    "def exam_grade(score):\n",
    "    \"\"\"\n",
    "    Determines the exam grade based on the\n",
    "    provided score\n",
    "    \n",
    "    Parameters:\n",
    "        score (float): The score obtained in the exam\n",
    "        \n",
    "    Returns:\n",
    "        str: A string indicating the grade\n",
    "    \"\"\"\n",
    "    \n",
    "    if score > 95:\n",
    "        grade = \"Top Score\"\n",
    "\n",
    "    elif score >= 60 and score <= 95:\n",
    "        grade = \"Pass\"\n",
    "\n",
    "    else:\n",
    "        grade = \"Fail\"\n",
    "\n",
    "    return grade\n"
   ]
  },
  {
   "cell_type": "code",
   "execution_count": 10,
   "metadata": {},
   "outputs": [
    {
     "name": "stdout",
     "output_type": "stream",
     "text": [
      "Run 1\n",
      "Score of 65: Pass\n",
      "\n",
      "Run 2\n",
      "Score of 55: Fail\n",
      "\n",
      "Run 3\n",
      "Score of 60: Pass\n",
      "\n",
      "Run 4\n",
      "Score of 95: Pass\n",
      "\n",
      "Run 5\n",
      "Score of 100: Top Score\n",
      "\n",
      "Run 6\n",
      "Score of 0: Fail\n",
      "\n"
     ]
    }
   ],
   "source": [
    "# Should be Pass\n",
    "print(\"Run 1\")\n",
    "print(\"Score of 65:\",exam_grade(65),end=\"\\n\\n\")\n",
    "\n",
    "# Should be Fail\n",
    "print(\"Run 2\")\n",
    "print(\"Score of 55:\",exam_grade(55),end=\"\\n\\n\")\n",
    "\n",
    "# Should be Pass\n",
    "print(\"Run 3\")\n",
    "print(\"Score of 60:\",exam_grade(60),end=\"\\n\\n\")\n",
    "\n",
    "# Should be Pass\n",
    "print(\"Run 4\")\n",
    "print(\"Score of 95:\",exam_grade(95),end=\"\\n\\n\")\n",
    "\n",
    "# Should be Top Score\n",
    "print(\"Run 5\")\n",
    "print(\"Score of 100:\",exam_grade(100),end=\"\\n\\n\")\n",
    "\n",
    "# Should be Fail\n",
    "print(\"Run 6\")\n",
    "print(\"Score of 0:\", exam_grade(0),end=\"\\n\\n\") "
   ]
  },
  {
   "cell_type": "markdown",
   "metadata": {},
   "source": [
    "#### Exercise 4\n",
    "\n",
    "The `longest_word` function is used to compare 3 words. It should return the word with the most number of characters (and the first in the list when they have the same length)."
   ]
  },
  {
   "cell_type": "code",
   "execution_count": 11,
   "metadata": {},
   "outputs": [],
   "source": [
    "def longest_word(word1, word2, word3):\n",
    "    \"\"\"\n",
    "    Returns the longest word among the given three words\n",
    "    \n",
    "    Parameters:\n",
    "        word1 (str): String representing the first word\n",
    "        word2 (str): String representing the second word\n",
    "        word3 (str): String representing the third word\n",
    "        \n",
    "    Returns:\n",
    "        The longest word. In case of a tie, \n",
    "        the first longest encountered is returned.\n",
    "    \"\"\"\n",
    "    \n",
    "    if len(word1) >= len(word2) and len(word1) >= len(word3):\n",
    "        word = word1\n",
    "\n",
    "    elif len(word1) < len(word2) and len(word2) >= len(word3):\n",
    "        word = word2\n",
    "\n",
    "    else:\n",
    "        word = word3\n",
    "\n",
    "    return(word)"
   ]
  },
  {
   "cell_type": "code",
   "execution_count": 12,
   "metadata": {},
   "outputs": [
    {
     "name": "stdout",
     "output_type": "stream",
     "text": [
      "Run 1\n",
      "chair\n",
      "\n",
      "Run 2\n",
      "beyond\n",
      "\n",
      "Run 3\n",
      "notebook\n",
      "\n"
     ]
    }
   ],
   "source": [
    "# Should return 'chair'\n",
    "print(\"Run 1\")\n",
    "print(longest_word(\"chair\", \"couch\", \"table\"),end=\"\\n\\n\")\n",
    "\n",
    "# Should return 'beyond'\n",
    "print(\"Run 2\")\n",
    "print(longest_word(\"bed\", \"bath\", \"beyond\"),end=\"\\n\\n\")\n",
    "\n",
    "# Should return 'notebook'\n",
    "print(\"Run 3\")\n",
    "print(longest_word(\"laptop\", \"notebook\", \"desktop\"),end=\"\\n\\n\")"
   ]
  },
  {
   "cell_type": "markdown",
   "metadata": {},
   "source": [
    "---"
   ]
  }
 ],
 "metadata": {
  "kernelspec": {
   "display_name": "Python 3 (ipykernel)",
   "language": "python",
   "name": "python3"
  },
  "language_info": {
   "codemirror_mode": {
    "name": "ipython",
    "version": 3
   },
   "file_extension": ".py",
   "mimetype": "text/x-python",
   "name": "python",
   "nbconvert_exporter": "python",
   "pygments_lexer": "ipython3",
   "version": "3.10.7"
  }
 },
 "nbformat": 4,
 "nbformat_minor": 4
}