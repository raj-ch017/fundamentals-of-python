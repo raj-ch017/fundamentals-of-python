{
 "cells": [
  {
   "attachments": {},
   "cell_type": "markdown",
   "id": "6360bad9",
   "metadata": {},
   "source": [
    "# Exercise Book: Strings, Lists and Dictionaries\n",
    "---\n",
    "\n",
    "This notebook includes a series of exercises that focus on strings, lists, and dictionaries. Through these exercises, emphasis is placed on developing problem-solving skills and intuition on which data structure to use in different scenarios, with the goal of becoming a better programmer.\n",
    "\n",
    "---"
   ]
  },
  {
   "cell_type": "markdown",
   "id": "b219671d",
   "metadata": {},
   "source": [
    "### Exercise 1\n",
    "\n",
    "You are tasked to implement a function called `format_address(address)` that separates out parts of the `address string` into `new strings: house_number and street_name`, and returns:\n",
    "\n",
    "            `\"house number X on street named Y\"`. \n",
    "\n",
    "The format of the input string is: numeric house number, followed by the street name which may contain numbers, but never by themselves, and could be several words long. \n",
    "\n",
    "**For example**:\n",
    "\n",
    "            \"123 Main Street\", \"1001 1st Ave\", or \"55 North Center Drive\".\n",
    "\n",
    "\n",
    "The function should take in one parameter:\n",
    "\n",
    "- `a string address` representing the address to be formatted."
   ]
  },
  {
   "cell_type": "code",
   "execution_count": 1,
   "id": "523c401a",
   "metadata": {},
   "outputs": [],
   "source": [
    "def format_address(address_string):\n",
    "    \"\"\" \n",
    "    Parameters:\n",
    "        address_string (str): A string representing the address\n",
    "        with a numerica house number followed by the street name\n",
    "\n",
    "    Returns:\n",
    "        A formatted string containing the house number and\n",
    "        the street name separated by the words \n",
    "        \"on street named\". \n",
    "    \"\"\"\n",
    "\n",
    "    list1 = address_string.split(\" \")\n",
    "    house_number = list1[0]\n",
    "    list1.pop(0)\n",
    "    street_number = \" \".join(list1)\n",
    "    address_str = \"house number {} on street named {}\".format(house_number,street_number)\n",
    "    return address_str\n"
   ]
  },
  {
   "cell_type": "code",
   "execution_count": 2,
   "id": "eaa04603",
   "metadata": {},
   "outputs": [
    {
     "name": "stdout",
     "output_type": "stream",
     "text": [
      "Run 1\n",
      "Output Returned: house number 123 on street named Main Street\n",
      "\n",
      "Run 2\n",
      "house number 1001 on street named 1st Ave\n",
      "\n",
      "Run 3\n",
      "house number 55 on street named North Center Drive\n"
     ]
    }
   ],
   "source": [
    "# Should print: \"house number 123 on street named Main Street\"\n",
    "print(\"Run 1\")\n",
    "print(\"Output Returned: {}\".format(format_address(\"123 Main Street\")),end=\"\\n\\n\")\n",
    "\n",
    "# Should print: \"house number 1001 on street named 1st Ave\"\n",
    "print(\"Run 2\")\n",
    "print(format_address(\"1001 1st Ave\"),end=\"\\n\\n\")\n",
    "\n",
    "# Should print \"house number 55 on street named North Center Drive\"\n",
    "print(\"Run 3\")\n",
    "print(format_address(\"55 North Center Drive\"))\n",
    "\n"
   ]
  },
  {
   "cell_type": "markdown",
   "id": "e1f12f55",
   "metadata": {},
   "source": [
    "---\n",
    "\n",
    "### Exercise 2\n",
    "\n",
    "The function `replace_domain` takes an `email` address, an `old_domain`, and a `new_domain` as arguments. If the email address contains the `old_domain`, the function replaces it with the `new_domain` and returns the updated email address. If the email address does not contain the `old_domain`, the function simply returns the original email address.\n"
   ]
  },
  {
   "cell_type": "code",
   "execution_count": 3,
   "id": "084830db",
   "metadata": {},
   "outputs": [],
   "source": [
    "def replace_domain(email,old_domain,new_domain):\n",
    "    \"\"\"\n",
    "    Parameters:\n",
    "        email (str): The email address to modify\n",
    "        old_domain (str): The domain to replace in the email address\n",
    "        new_domain (str): The new domain to replace the old domain with\n",
    "        \n",
    "    Returns:\n",
    "        str: The modified email address with the new domain\n",
    "    \"\"\"\n",
    "\n",
    "    if \"@\" + old_domain in email:\n",
    "        index = email.index(\"@\")\n",
    "        new_email = email[:index] + \"@\" + new_domain\n",
    "        return new_email\n",
    "    \n",
    "    return email\n"
   ]
  },
  {
   "cell_type": "code",
   "execution_count": 4,
   "id": "2e0544a3",
   "metadata": {},
   "outputs": [
    {
     "name": "stdout",
     "output_type": "stream",
     "text": [
      "Run 1\n",
      "viktor_pal17@google.com\n",
      "\n",
      "Run 2\n",
      "jesse_roy@gmail.com\n",
      "\n"
     ]
    }
   ],
   "source": [
    "# Input = viktor_pal17@yahoo.com , Expected Output = viktor_pal@google.com\n",
    "print(\"Run 1\")\n",
    "print(replace_domain(\"viktor_pal17@yahoo.com\",\"yahoo.com\",\"google.com\"),end=\"\\n\\n\")\n",
    "\n",
    "\n",
    "# Input = jesse_roy@google.com, Expected Output = jesse_roy@gmail.com\n",
    "print(\"Run 2\")\n",
    "print(replace_domain(\"jesse_roy@google.com\",\"google.com\",\"gmail.com\"),end=\"\\n\\n\")"
   ]
  },
  {
   "attachments": {},
   "cell_type": "markdown",
   "id": "00f901bb",
   "metadata": {},
   "source": [
    "---\n",
    "\n",
    "### Exercise 3\n",
    "\n",
    "You are given three lists: `drews_list`, `jamies_list`, and `professors_list`. The two lists, `drews_list` and `jamies_list` contain the names of the students in the order they arrived in the classroom. The professor needs to combine `drews_list` and `jamies_list` into one list in the order that the students arrived.\n",
    "\n",
    "However, Jamie's list is in reverse order, so you need to reverse it before combining it with Drew's list. Write a function named `combine_lists` to take in the two lists and return the combined list in the correct order.\n",
    "\n",
    "**Input**:\n",
    "\n",
    "- drews_list (list): A list of strings containing the names of students in the order they arrived in the classroom. Length is n.\n",
    "\n",
    "- jamies_list (list): A list of strings containing the names of students in reverse order that Jamie noted. Length is m.\n",
    "\n",
    "**Output**:\n",
    "\n",
    "- Returns a list of strings containing the names of students in the order they arrived in the classroom. The length of the combined list should be n + m.\n"
   ]
  },
  {
   "cell_type": "code",
   "execution_count": 5,
   "id": "720e58e5",
   "metadata": {},
   "outputs": [],
   "source": [
    "def combine_lists(list1,list2):\n",
    "    \"\"\" \n",
    "    Parameters:\n",
    "        list1 (list): A list of strings containing the name of students in\n",
    "                      the reverse order that Jamie noted\n",
    "        list2 (list): A list of strings containing the name of students in \n",
    "                      the order they arrived in the classroom\n",
    "\n",
    "    Return:\n",
    "        final_list (list): A list of strings containing the names of students \n",
    "                            in the order they arrived in the classroom.\n",
    "    \"\"\"\n",
    "\n",
    "    first_list = list2\n",
    "    second_list = []\n",
    "    length_list1 = len(list1)\n",
    "    count = -1\n",
    "\n",
    "    for index in range(length_list1):\n",
    "\n",
    "        student_name = list1[count]\n",
    "        second_list.append(student_name)\n",
    "        count -= 1\n",
    "        if abs(count) > length_list1:\n",
    "            break\n",
    "    \n",
    "    final_list = first_list + second_list\n",
    "    return (final_list)\n"
   ]
  },
  {
   "cell_type": "code",
   "execution_count": 6,
   "id": "9b8a96a0",
   "metadata": {},
   "outputs": [
    {
     "name": "stdout",
     "output_type": "stream",
     "text": [
      "Jamies' List: ['Alice', 'Cindy', 'Bobby', 'Jan', 'Peter']\n",
      "Drews' List: ['Mike', 'Carol', 'Greg', 'Marcia']\n",
      "\n",
      "\n",
      "Run 1\n",
      "Expected Output: ['Mike', 'Carol', 'Greg', 'Marcia', 'Peter', 'Jan', 'Bobby', 'Cindy', 'Alice']\n",
      "Output Returned: ['Mike', 'Carol', 'Greg', 'Marcia', 'Peter', 'Jan', 'Bobby', 'Cindy', 'Alice']\n"
     ]
    }
   ],
   "source": [
    "Jamies_list = [\"Alice\", \"Cindy\", \"Bobby\", \"Jan\", \"Peter\"]\n",
    "Drews_list = [\"Mike\", \"Carol\", \"Greg\", \"Marcia\"]\n",
    "\n",
    "print(\"Jamies' List: {}\".format(Jamies_list))\n",
    "print(\"Drews' List: {}\".format(Drews_list),end=\"\\n\\n\\n\")\n",
    "\n",
    "print(\"Run 1\")\n",
    "print(\"Expected Output: ['Mike', 'Carol', 'Greg', 'Marcia', 'Peter', 'Jan', 'Bobby', 'Cindy', 'Alice']\")\n",
    "print(\"Output Returned: {}\".format(combine_lists(Jamies_list, Drews_list)))"
   ]
  },
  {
   "attachments": {},
   "cell_type": "markdown",
   "id": "b44d95af",
   "metadata": {},
   "source": [
    "---\n",
    "\n",
    "### Exercise 4\n",
    "\n",
    "You are tasked with combining two dictionaries, containing information about the guests attending a party hosted by Taylor and Rory. The two dictionaries are named `taylor_guests` and `rory_guests`.\n",
    "\n",
    "`taylor_guests` contains partial information about the guests attending the party, where the **key** is the `name of the guest` and the **value** is the `number of guests` the guest is bringing. `rory_guests` also contains similar information but with more current and updated data about the guests.\n",
    "\n",
    "Write the code to combine both dictionaries into one, with each friend listed only once, and the number of guests from `rory_guests` taking precedence, if a name is included in both dictionaries. Finally, print the resulting dictionary.\n",
    "\n",
    "**Note**\n",
    "- `taylor_guests` contains 2 guests for \"Alice\" while `rory_guests` contains guest for \"Alice\". Therefore, the combined dictionary contains \"Alice\" with 1 guest, taking the value from `rory_guests`."
   ]
  },
  {
   "cell_type": "code",
   "execution_count": 7,
   "id": "a391d03b",
   "metadata": {},
   "outputs": [],
   "source": [
    "def combine_guests(guests1,guests2):\n",
    "    \"\"\" \n",
    "    Parameters:\n",
    "        taylor_guests (dict): A dictionary with names of guests as keys and the\n",
    "                              number of guests each friend is bringing as values\n",
    "        rory_guests (dict): A dictionary with names of guests as keys and the\n",
    "                            number of guests each friend is bringing as values\n",
    "\n",
    "    Returns:\n",
    "        A dictionary with each friend listed only once, and the number of guests\n",
    "        rory_guests taking precedence, if a name is included in both dictionaries\n",
    "    \"\"\"\n",
    "    \n",
    "    # guests1 represents Rory's list\n",
    "    # guests2 represents Taylor's list\n",
    "\n",
    "    final_dict = {}\n",
    "    r_guestlist = list(guests1.keys())\n",
    "    t_guestlist = list(guests2.keys())\n",
    "    actual_guestlist = r_guestlist + t_guestlist\n",
    "    \n",
    "    for names in actual_guestlist:\n",
    "\n",
    "        if names in guests1:\n",
    "            peeps_they_bring = guests1[names]\n",
    "            final_dict[names] = peeps_they_bring\n",
    "        \n",
    "        elif names in guests2:\n",
    "            peeps_they_bring = guests2[names]\n",
    "            final_dict[names] = peeps_they_bring\n",
    "        \n",
    "        if names in t_guestlist and names in r_guestlist:\n",
    "            b = guests1[names]\n",
    "            final_dict[names] = b\n",
    "    \n",
    "    return final_dict"
   ]
  },
  {
   "cell_type": "code",
   "execution_count": 8,
   "id": "1fdbe4ae",
   "metadata": {},
   "outputs": [
    {
     "name": "stdout",
     "output_type": "stream",
     "text": [
      "Rory's Guest List: {'Adam': 2, 'Brenda': 3, 'David': 1, 'Jose': 3, 'Charlotte': 2, 'Terry': 1, 'Robert': 4}\n",
      "Taylor's Guest List: {'David': 4, 'Nancy': 1, 'Robert': 2, 'Adam': 1, 'Samantha': 3, 'Chris': 5}\n",
      "\n",
      "\n",
      "Run 1\n",
      "{'Adam': 2, 'Brenda': 3, 'David': 1, 'Jose': 3, 'Charlotte': 2, 'Terry': 1, 'Robert': 4, 'Nancy': 1, 'Samantha': 3, 'Chris': 5}\n"
     ]
    }
   ],
   "source": [
    "Rorys_guests = { \"Adam\":2, \"Brenda\":3, \"David\":1, \"Jose\":3, \"Charlotte\":2, \"Terry\":1, \"Robert\":4}\n",
    "Taylors_guests = { \"David\":4, \"Nancy\":1, \"Robert\":2, \"Adam\":1, \"Samantha\":3, \"Chris\":5}\n",
    "\n",
    "print(\"Rory's Guest List: {}\".format(Rorys_guests))\n",
    "print(\"Taylor's Guest List: {}\".format(Taylors_guests),end=\"\\n\\n\\n\")\n",
    "\n",
    "print(\"Run 1\")\n",
    "print(combine_guests(Rorys_guests, Taylors_guests))\n"
   ]
  },
  {
   "cell_type": "markdown",
   "id": "ccac6c9e",
   "metadata": {},
   "source": [
    "---\n",
    "\n",
    "### Exercise 5\n",
    "\n",
    "You are given an input string, and your task is to write a function `count_letters(string)` to count the frequency of letters in the input string. The output should be a dictionary where the keys are the lowercase letters that appear in the string, and the values are the frequency of those letters.\n",
    "\n",
    "**Note**:\n",
    "\n",
    "- Only letters should be counted, not blank spaces, numbers, or punctuation.\n",
    "- Upper case should be considered the same as lower case."
   ]
  },
  {
   "cell_type": "code",
   "execution_count": 9,
   "id": "ce2476f8",
   "metadata": {},
   "outputs": [],
   "source": [
    "def count_letters(text):\n",
    "    \"\"\" \n",
    "    Parameters:\n",
    "        text (str): A string of length n containing letters, blank spaces,\n",
    "        numbers and punctuation\n",
    "            \n",
    "    Return:\n",
    "        A dictionary where the keys are lowercase letters that appear \n",
    "        in the input string, and the values are the frequency of\n",
    "        those letters.\n",
    "    \"\"\"\n",
    "    \n",
    "    result = {}\n",
    "    text_lower = text.lower()\n",
    "    text_in_list = text_lower.split()\n",
    "    \n",
    "    for words in text_in_list:\n",
    "        \n",
    "        for letter in words:\n",
    "            \n",
    "            if letter.isalpha():\n",
    "                count = 1\n",
    "                \n",
    "                if letter not in result:\n",
    "                    result[letter] = count\n",
    "                \n",
    "                else:\n",
    "                    character = result[letter]\n",
    "                    count = character + 1\n",
    "                    result[letter] = count\n",
    "    return result"
   ]
  },
  {
   "cell_type": "code",
   "execution_count": 10,
   "id": "304effd2",
   "metadata": {},
   "outputs": [
    {
     "name": "stdout",
     "output_type": "stream",
     "text": [
      "Run 1\n",
      "Output: {'a': 2, 'b': 2, 'c': 2}\n",
      "\n",
      "Run 2\n",
      "Output: {'m': 1, 'a': 1, 't': 1, 'h': 1, 'i': 1, 's': 1, 'f': 1, 'u': 1, 'n': 1}\n",
      "\n",
      "Run 3\n",
      "Output: {'t': 2, 'h': 1, 'i': 2, 's': 3, 'a': 1, 'e': 3, 'n': 2, 'c': 1}\n",
      "\n"
     ]
    }
   ],
   "source": [
    "# Should be {'a': 2, 'b': 2, 'c': 2}\n",
    "print(\"Run 1\")\n",
    "print(\"Output: {}\".format(count_letters(\"AaBbCc\")),end=\"\\n\\n\")\n",
    "\n",
    "\n",
    "# Should be {'m': 1, 'a': 1, 't': 1, 'h': 1, 'i': 1, 's': 1, 'f': 1, 'u': 1, 'n': 1}\n",
    "print(\"Run 2\")\n",
    "print(\"Output: {}\".format(count_letters(\"Math is fun! 2+2=4\")),end=\"\\n\\n\")\n",
    "\n",
    "# Should be {'t': 2, 'h': 1, 'i': 2, 's': 3, 'a': 1, 'e': 3, 'n': 2, 'c': 1}\n",
    "print(\"Run 3\")\n",
    "print(\"Output: {}\".format(count_letters(\"This is a sentence.\")),end=\"\\n\\n\")\n"
   ]
  },
  {
   "cell_type": "markdown",
   "id": "891ec497",
   "metadata": {},
   "source": [
    "---\n",
    "\n",
    "### Exercise 6\n",
    "\n",
    "Create a program that reads integers from the user\n",
    "until a blank line is entered.\n",
    "\n",
    "Once all of the integers have been read, your program\n",
    "should display all of the negative numbers, followed\n",
    "by all of the zeros, followed by all of the positive\n",
    "numbers.\n",
    "\n",
    "Within each group the numbers should be displayed in\n",
    "the same order that they were entered by the user.\n",
    "\n",
    "For example, if the user enters the values:\n",
    "\n",
    "    3, -4, 1, 0, -1, 0 and -2\n",
    "    \n",
    "Then your program should output the values:\n",
    "\n",
    "    -4, -1, -2, 0, 0, 3 and 1\n",
    "    \n",
    "Your program should display each value on it's own\n",
    "line."
   ]
  },
  {
   "cell_type": "code",
   "execution_count": 11,
   "id": "6fac37b7",
   "metadata": {},
   "outputs": [
    {
     "name": "stdout",
     "output_type": "stream",
     "text": [
      "Enter a number: 3\n",
      "Enter a number: -4\n",
      "Enter a number: 1\n",
      "Enter a number: 0\n",
      "Enter a number: -1\n",
      "Enter a number: 0\n",
      "Enter a number: -2\n",
      "Enter a number: \n"
     ]
    }
   ],
   "source": [
    "# Generating a list\n",
    "\n",
    "user_list = []\n",
    "flag = True\n",
    "\n",
    "while flag:\n",
    "    user_in = input(\"Enter a number: \")\n",
    "    \n",
    "    if user_in == \"\":\n",
    "        flag = False\n",
    "        \n",
    "    else:\n",
    "        user_list.append(int(user_in))"
   ]
  },
  {
   "cell_type": "code",
   "execution_count": 12,
   "id": "47423579",
   "metadata": {},
   "outputs": [],
   "source": [
    "def list_group(input_list):\n",
    "    \"\"\"\n",
    "    Group a list of numbers into three categories: negatives, zeros and positives.\n",
    "\n",
    "    Parameters:\n",
    "        input_list (list) : list of int or float\n",
    "\n",
    "    Returns:\n",
    "        A new list with the same numbers as `input_list`, but sorted into three\n",
    "        sub-lists in this order: negatives, zeros, positives.\n",
    "    \"\"\"    \n",
    "    \n",
    "    negative_list = []\n",
    "    zero_list = []\n",
    "    positive_list = []\n",
    "    output_list = []\n",
    "    \n",
    "    for ele in input_list:\n",
    "        \n",
    "        if ele < 0:\n",
    "            negative_list.append(ele)\n",
    "        elif ele == 0:\n",
    "            zero_list.append(ele)\n",
    "        else:\n",
    "            positive_list.append(ele)\n",
    "            \n",
    "    output_list.extend(negative_list)\n",
    "    output_list.extend(zero_list)\n",
    "    output_list.extend(positive_list)\n",
    "    \n",
    "    return output_list"
   ]
  },
  {
   "cell_type": "code",
   "execution_count": 13,
   "id": "03f92381",
   "metadata": {},
   "outputs": [
    {
     "name": "stdout",
     "output_type": "stream",
     "text": [
      "Run 1\n",
      "Initial list: [3, -4, 1, 0, -1, 0, -2] | Ordered list: [-4, -1, -2, 0, 0, 3, 1]\n"
     ]
    }
   ],
   "source": [
    "ordered_list = list_group(user_list)\n",
    "\n",
    "# Expected output = [-4, -1, -2, 0, 0, 3, 1]\n",
    "print(\"Run 1\")\n",
    "print('Initial list: {} | Ordered list: {}'.format(user_list,ordered_list))"
   ]
  },
  {
   "cell_type": "markdown",
   "id": "ddb31506",
   "metadata": {},
   "source": [
    "---\n",
    "\n",
    "### Exercise 7\n",
    "\n",
    "\n",
    "A proper divisor of a positive integer (n) is a positive\n",
    "integer less than (n) which divides evenly into n.\n",
    "\n",
    "Write a function that computes all of the proper\n",
    "divisors of a positive integer. The integer will be\n",
    "passed to the function as it's only parameter.\n",
    "\n",
    "The function will return a list containing all of the\n",
    "proper divisors as its only result. Complete this \n",
    "exercise by writing a main program that demonstrates \n",
    "the function by reading a value from the user and \n",
    "displaying the list of its proper divisors. Ensure \n",
    "that your main program only runs when your solution has \n",
    "not been imported into another file.\n"
   ]
  },
  {
   "cell_type": "code",
   "execution_count": 14,
   "id": "f2136652",
   "metadata": {},
   "outputs": [],
   "source": [
    "def proper_divisors(n):\n",
    "    \"\"\"\n",
    "    Parameters:\n",
    "        n (int) - positive integer\n",
    "        \n",
    "    Returns:\n",
    "        divisor_list - A list containing all of the\n",
    "        proper divisors of n\n",
    "    \"\"\"\n",
    "    \n",
    "    divisor_list = []\n",
    "    \n",
    "    for value in range(1,n):\n",
    "        \n",
    "        if (n % value) == 0:\n",
    "            divisor_list.append(value)\n",
    "            \n",
    "    return divisor_list"
   ]
  },
  {
   "cell_type": "code",
   "execution_count": 15,
   "id": "0b314cb0",
   "metadata": {},
   "outputs": [
    {
     "name": "stdout",
     "output_type": "stream",
     "text": [
      "Proper Divisors for numbers 1 - 50\n",
      "\n",
      "1 | []\n",
      "2 | [1]\n",
      "3 | [1]\n",
      "4 | [1, 2]\n",
      "5 | [1]\n",
      "6 | [1, 2, 3]\n",
      "7 | [1]\n",
      "8 | [1, 2, 4]\n",
      "9 | [1, 3]\n",
      "10 | [1, 2, 5]\n",
      "11 | [1]\n",
      "12 | [1, 2, 3, 4, 6]\n",
      "13 | [1]\n",
      "14 | [1, 2, 7]\n",
      "15 | [1, 3, 5]\n",
      "16 | [1, 2, 4, 8]\n",
      "17 | [1]\n",
      "18 | [1, 2, 3, 6, 9]\n",
      "19 | [1]\n",
      "20 | [1, 2, 4, 5, 10]\n",
      "21 | [1, 3, 7]\n",
      "22 | [1, 2, 11]\n",
      "23 | [1]\n",
      "24 | [1, 2, 3, 4, 6, 8, 12]\n",
      "25 | [1, 5]\n",
      "26 | [1, 2, 13]\n",
      "27 | [1, 3, 9]\n",
      "28 | [1, 2, 4, 7, 14]\n",
      "29 | [1]\n",
      "30 | [1, 2, 3, 5, 6, 10, 15]\n",
      "31 | [1]\n",
      "32 | [1, 2, 4, 8, 16]\n",
      "33 | [1, 3, 11]\n",
      "34 | [1, 2, 17]\n",
      "35 | [1, 5, 7]\n",
      "36 | [1, 2, 3, 4, 6, 9, 12, 18]\n",
      "37 | [1]\n",
      "38 | [1, 2, 19]\n",
      "39 | [1, 3, 13]\n",
      "40 | [1, 2, 4, 5, 8, 10, 20]\n",
      "41 | [1]\n",
      "42 | [1, 2, 3, 6, 7, 14, 21]\n",
      "43 | [1]\n",
      "44 | [1, 2, 4, 11, 22]\n",
      "45 | [1, 3, 5, 9, 15]\n",
      "46 | [1, 2, 23]\n",
      "47 | [1]\n",
      "48 | [1, 2, 3, 4, 6, 8, 12, 16, 24]\n",
      "49 | [1, 7]\n",
      "50 | [1, 2, 5, 10, 25]\n"
     ]
    }
   ],
   "source": [
    "print(\"Proper Divisors for numbers 1 - 50\",end = \"\\n\\n\")\n",
    "\n",
    "for run in range(1,51):\n",
    "    \n",
    "    print(\"{} | {}\".format(run,proper_divisors(run)))"
   ]
  },
  {
   "cell_type": "markdown",
   "id": "e958bfc4",
   "metadata": {},
   "source": [
    "---\n",
    "\n",
    "### Exercise 8\n",
    "\n",
    "An integer (n) is said to be perfect when the sum of\n",
    "all of the proper divisors of (n) is equal to (n).\n",
    "\n",
    "**For example**:\n",
    "\n",
    "    28 is a perfect number because it's proper divisors\n",
    "    are 1, 2, 4, 7, 14 and 1 + 2 + 4 + 7 + 14 = 28\n",
    "    \n",
    "Write a function that determines whether or not a \n",
    "positive integer is perfect. Your function will take\n",
    "one parameter. If that parameter is a perfect number,\n",
    "then your function will return true. Otherwise, it \n",
    "will return false.\n",
    "\n",
    "In addition, write a main program that uses your\n",
    "function to identify and display all of the perfect\n",
    "numbers between 1 and 10,000.\n",
    "\n",
    "Import your solution to previous exercise when completing\n",
    "this task."
   ]
  },
  {
   "cell_type": "code",
   "execution_count": 16,
   "id": "7c2f32a9",
   "metadata": {},
   "outputs": [],
   "source": [
    "def perfect_number(input_number):\n",
    "    \"\"\"\n",
    "    Parameters:\n",
    "        input_number (int): a number to check whether it's a perfect number\n",
    "        \n",
    "    Returns:\n",
    "        True if the parameter turns out to be perfect number, else\n",
    "        False\n",
    "    \"\"\"\n",
    "    \n",
    "    divisor_list = proper_divisors(input_number)\n",
    "    the_sum = sum(divisor_list)\n",
    "    \n",
    "    if the_sum == input_number:\n",
    "        return True\n",
    "    else:\n",
    "        return False"
   ]
  },
  {
   "cell_type": "code",
   "execution_count": 17,
   "id": "6254f0fc",
   "metadata": {},
   "outputs": [
    {
     "name": "stdout",
     "output_type": "stream",
     "text": [
      "Here is a list of perfect numbers between 1 and 10,000: \n",
      "[6, 28, 496, 8128]\n",
      "\n",
      "\n",
      "For the first 10,000 positive integers, only 0.04% are perfect numbers\n"
     ]
    }
   ],
   "source": [
    "perfect_numlist = []\n",
    "\n",
    "for j in range(1,10001):\n",
    "    \n",
    "    if perfect_number(j):\n",
    "        #print(\"{}: Yes\".format(j))\n",
    "        perfect_numlist.append(j)\n",
    "\n",
    "print(\"Here is a list of perfect numbers between 1 and 10,000: \\n{}\\n\\n\".format(perfect_numlist))    \n",
    "\n",
    "print(\"For the first 10,000 positive integers, only {}% are perfect numbers\".format(len(perfect_numlist)/10000 * 100))"
   ]
  },
  {
   "cell_type": "markdown",
   "id": "c77b3ea7",
   "metadata": {},
   "source": [
    "---\n",
    "\n",
    "### Exercise 9\n",
    "\n",
    "Write a program that reads numbers from the user until\n",
    "a blank line is entered. Your program should display\n",
    "the average of all of the values entered by the user.\n",
    "\n",
    "Then the program should display all of the below\n",
    "average values, followed by all of the average values\n",
    "(if any), followed by all of the above average grades.\n",
    "An appropriate label should be displayed before each\n",
    "list of values."
   ]
  },
  {
   "cell_type": "code",
   "execution_count": 18,
   "id": "10ec4989",
   "metadata": {},
   "outputs": [
    {
     "name": "stdout",
     "output_type": "stream",
     "text": [
      "Enter a number: 44\n",
      "Enter a number: 47\n",
      "Enter a number: 49\n",
      "Enter a number: 51\n",
      "Enter a number: 53\n",
      "Enter a number: 56\n",
      "Enter a number: \n"
     ]
    }
   ],
   "source": [
    "the_avg = 0\n",
    "flag = True\n",
    "store_list = []\n",
    "\n",
    "while flag:\n",
    "    \n",
    "    user_in = input(\"Enter a number: \")\n",
    "    \n",
    "    if user_in != \"\":\n",
    "        store_list.append(float(user_in))\n",
    "    else:\n",
    "        flag = False\n",
    "        \n",
    "the_avg = sum(store_list) / len(store_list)\n",
    "\n",
    "below_average = []\n",
    "just_average = []\n",
    "above_average = []\n",
    "\n",
    "for val in store_list:\n",
    "    \n",
    "    if val < the_avg:\n",
    "        below_average.append(val)\n",
    "    elif val == the_avg:\n",
    "        just_average.append(val)\n",
    "    else:\n",
    "        above_average.append(val)\n"
   ]
  },
  {
   "cell_type": "code",
   "execution_count": 19,
   "id": "97d58ad0",
   "metadata": {},
   "outputs": [
    {
     "name": "stdout",
     "output_type": "stream",
     "text": [
      "Average value: 50.0\n",
      "Numbers below average: [44.0, 47.0, 49.0]\n",
      "Numbers equal to average: []\n",
      "Numbers above average: [51.0, 53.0, 56.0]\n"
     ]
    }
   ],
   "source": [
    "print(\"Average value: {}\".format(the_avg))\n",
    "print(\"Numbers below average: {}\".format(below_average))\n",
    "print(\"Numbers equal to average: {}\".format(just_average))\n",
    "print(\"Numbers above average: {}\".format(above_average))"
   ]
  },
  {
   "cell_type": "markdown",
   "id": "1d40c72b",
   "metadata": {},
   "source": [
    "---\n",
    "\n",
    "### Exercise 10\n",
    "\n",
    "Two words are anagrams if they contain all of the same\n",
    "letters, but in a different order.\n",
    "\n",
    "**For example**, `evil` and `live` are anagrams because\n",
    "each contains one 'e', one 'v', one 'i' and one 'l'.\n",
    "\n",
    "Create a program that reads two strings from the user,\n",
    "determines whether or not they are anagrams, and\n",
    "reports the result."
   ]
  },
  {
   "cell_type": "code",
   "execution_count": 20,
   "id": "21c5b240",
   "metadata": {},
   "outputs": [],
   "source": [
    "def check_anagram(str1,str2):\n",
    "    \n",
    "    \"\"\"\n",
    "    Check if two input strings are anagrams of each other.\n",
    "\n",
    "    Parameters:\n",
    "        str1 (str): First input string.\n",
    "        str2 (str): Second input string.\n",
    "\n",
    "    Returns:\n",
    "        bool: True if the input strings are anagrams of each other, False otherwise.\n",
    "        int: -1 if the input strings are of different lengths.\n",
    "\n",
    "    \"\"\"\n",
    "    \n",
    "    str1 = str1.lower()\n",
    "    str2 = str2.lower()\n",
    "    \n",
    "    if len(str1) == len(str2):\n",
    "        \n",
    "        dict1 = {}\n",
    "        dict2 = {}\n",
    "        \n",
    "        for k in range(len(str1)):\n",
    "            char1 = str1[k]\n",
    "            char2 = str2[k]\n",
    "            \n",
    "            if char1 not in dict1:\n",
    "                dict1[char1] = 1\n",
    "            else:\n",
    "                dict1[char1] = dict1[char1] + 1\n",
    "                \n",
    "            if char2 not in dict2:\n",
    "                dict2[char2] = 1\n",
    "            else:\n",
    "                dict2[char2] = dict2[char2] + 1\n",
    "                \n",
    "        if dict1 == dict2:\n",
    "            return True\n",
    "        else:\n",
    "            return False\n",
    "        \n",
    "    else:\n",
    "        return -1\n"
   ]
  },
  {
   "cell_type": "code",
   "execution_count": 21,
   "id": "a576576c",
   "metadata": {},
   "outputs": [
    {
     "name": "stdout",
     "output_type": "stream",
     "text": [
      "Run 1\n",
      "\n",
      "\n",
      "Enter a string: Anfield\n",
      "Enter another string: Delfina\n",
      "\n",
      "'Anfield' and 'Delfina' are anagrams\n"
     ]
    }
   ],
   "source": [
    "print(\"Run 1\",end=\"\\n\\n\\n\")\n",
    "\n",
    "user_str1 = input(\"Enter a string: \")\n",
    "user_str2 = input(\"Enter another string: \")\n",
    "\n",
    "is_anagram = check_anagram(user_str1,user_str2)\n",
    "\n",
    "if is_anagram == True:\n",
    "    print(\"\\n'{}' and '{}' are anagrams\".format(user_str1,user_str2))\n",
    "    \n",
    "elif is_anagram == -1:\n",
    "    print(\"\\nString lengths different, invalid entry\")\n",
    "    \n",
    "else:\n",
    "    print(\"\\n'{}' and '{}' are not anagrams\".format(user_str1,user_str2))"
   ]
  },
  {
   "cell_type": "code",
   "execution_count": 22,
   "id": "6a7c8883",
   "metadata": {},
   "outputs": [
    {
     "name": "stdout",
     "output_type": "stream",
     "text": [
      "Run 2\n",
      "\n",
      "\n",
      "Enter a string: summertime\n",
      "Enter another string: winter\n",
      "\n",
      "String lengths different, invalid entry\n"
     ]
    }
   ],
   "source": [
    "print(\"Run 2\",end=\"\\n\\n\\n\")\n",
    "\n",
    "user_str1 = input(\"Enter a string: \")\n",
    "user_str2 = input(\"Enter another string: \")\n",
    "\n",
    "is_anagram = check_anagram(user_str1,user_str2)\n",
    "\n",
    "if is_anagram == True:\n",
    "    print(\"\\n'{}' and '{}' are anagrams\".format(user_str1,user_str2))\n",
    "    \n",
    "elif is_anagram == -1:\n",
    "    print(\"\\nString lengths different, invalid entry\")\n",
    "    \n",
    "else:\n",
    "    print(\"\\n'{}' and '{}' are not anagrams\".format(user_str1,user_str2))"
   ]
  },
  {
   "cell_type": "code",
   "execution_count": 23,
   "id": "64cb9a79",
   "metadata": {},
   "outputs": [
    {
     "name": "stdout",
     "output_type": "stream",
     "text": [
      "Run 3\n",
      "\n",
      "\n",
      "Enter a string: hat\n",
      "Enter another string: cat\n",
      "\n",
      "'hat' and 'cat' are not anagrams\n"
     ]
    }
   ],
   "source": [
    "print(\"Run 3\",end=\"\\n\\n\\n\")\n",
    "\n",
    "user_str1 = input(\"Enter a string: \")\n",
    "user_str2 = input(\"Enter another string: \")\n",
    "\n",
    "is_anagram = check_anagram(user_str1,user_str2)\n",
    "\n",
    "if is_anagram == True:\n",
    "    print(\"\\n'{}' and '{}' are anagrams\".format(user_str1,user_str2))\n",
    "    \n",
    "elif is_anagram == -1:\n",
    "    print(\"\\nString lengths different, invalid entry\")\n",
    "    \n",
    "else:\n",
    "    print(\"\\n'{}' and '{}' are not anagrams\".format(user_str1,user_str2))"
   ]
  },
  {
   "cell_type": "markdown",
   "id": "fd67758e",
   "metadata": {},
   "source": [
    "---"
   ]
  }
 ],
 "metadata": {
  "kernelspec": {
   "display_name": "Python 3 (ipykernel)",
   "language": "python",
   "name": "python3"
  },
  "language_info": {
   "codemirror_mode": {
    "name": "ipython",
    "version": 3
   },
   "file_extension": ".py",
   "mimetype": "text/x-python",
   "name": "python",
   "nbconvert_exporter": "python",
   "pygments_lexer": "ipython3",
   "version": "3.9.12"
  }
 },
 "nbformat": 4,
 "nbformat_minor": 5
}